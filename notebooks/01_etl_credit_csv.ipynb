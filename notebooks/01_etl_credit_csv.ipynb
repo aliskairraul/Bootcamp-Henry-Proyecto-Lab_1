{
 "cells": [
  {
   "cell_type": "markdown",
   "metadata": {},
   "source": [
    "# **Objetivo del Cuaderno Jupyter**\n",
    "- Procesar el archivo `credits.csv` y dejar la información mas consumible en los archivos `cast.parquet` y `crew.parquet`, por cualquier otro departamento de la organización.\n",
    "- Descomponer en tablas mas específicas como `actores` y `directores` que sirvan de apoyo para satisfacer la necesidad de las `funciones 5 y 6 de la Api`, así como `aportar información al modelo de recomendación` .\n"
   ]
  },
  {
   "cell_type": "code",
   "execution_count": 6,
   "metadata": {},
   "outputs": [],
   "source": [
    "import polars as pl"
   ]
  },
  {
   "cell_type": "markdown",
   "metadata": {},
   "source": [
    "***\n",
    "# **A Pie**"
   ]
  },
  {
   "cell_type": "markdown",
   "metadata": {},
   "source": [
    "### **Funcion `get_fields_from_line`**"
   ]
  },
  {
   "cell_type": "code",
   "execution_count": 2,
   "metadata": {},
   "outputs": [],
   "source": [
    "def get_fields_from_line(line:str) -> tuple[list, str]:\n",
    "    \"\"\"get_fields_from_line: \n",
    "        Funcion que acepta una linea del archivo 'credits.csv' y devuelve una Lista o Varias Listas y un valor string\n",
    "            Las Listas contienen a su vez Muchos diccionarios:\n",
    "            .- Estos diccionarios pueden ser contentivos de data para  `cast` o para `crew`\n",
    "            .- NOTA: El Codigo que llama a esta función en la siguiente celda se encarga de \n",
    "                     separar los diccionarios\n",
    "            El string:\n",
    "            .- El `id` de la movie con que estan relacionados los diccionarios de las listas\n",
    "                Nota: El proceso de casteo a data tipo Int lo hace automaticamente la libreria \n",
    "                        utilizada para convertir la data en un Dataframe Luego\n",
    "\n",
    "    Puntos a tomar en cuenta:\n",
    "        .- La Mayoría de las `line` que recibe la funcion tiene la siguiente estructura:\n",
    "            \"[{dict de cast}, {dict de cast}, etc..]\"\"[{dict de crew},{dict de crew}, etc]\",numero_id      \n",
    "        .- En Ocaciones `line` sólo viene con una(1) lista y el numero_id\n",
    "        .- En Ocaciones `line` ademas de las dos listas con data, trae listas vacias `[]`, al pricipio,\n",
    "           al final o intercaladas entre las otras listas\n",
    "        .- Aunque las listas estan encerradas entre comillas dobles `\"` es muy probable conseguir comillas\n",
    "           dobles dentro de los diccionarios\n",
    "        .- Los diccionarios como cualquier diccionarios están compuestos de Clave(key) y Valor(Value), encerrados \n",
    "           entre comillas simples `'` pero con MUCHISIMA FRECUENCIA entre esas comillas simples `'`, hay  comillas \n",
    "           dobles `\"`,  dos comillas dobles repetidas `\"\"`, estas últimas a veces aparecen delimitando el contenido\n",
    "           de un value de alguna clave de un diccionario (al principio y al final del value), pero hay veces aparecen\n",
    "           dentro del contenido del value.  Tambien aparecen exporádicamente caracteres de escape acompañados \n",
    "           con `\\\\′ porsupuesto.\n",
    "\n",
    "        Nota: Dada las irregularidades que contiene la data, preferí hacer la función customizada y no dejarle a las\n",
    "              librerias de Python como `Pandas` o `Polars` la carga directa de los datos, ya que considero complejo\n",
    "              y con tendencia a errores la Inferencia de algun esquema de datos, dado que el esquema de la data\n",
    "              presenta muchas irregularidades, lo que se puede transformar en carga errónea de datos.   \n",
    "\n",
    "           \n",
    "    Lógica de la Función:\n",
    "        La lógica de la función es recorrer uno a uno los caracteres de la `line` con una variable llamada `index`\n",
    "        y a medida que avanza ir indicando con variables de nombre apropiado si el index se encuentra dentro de datos\n",
    "        que se espera esten entre comillas dobles `\"`, corchetes `[]`, comillas simples `'`, etc.\n",
    "\n",
    "    Variables BOOLEANAS A tener en cuenta:\n",
    "        .- open_doubles:  Indica sí el index se encuentra dentro de datos que se espera estén entre comillas \n",
    "                          dobles (\") -> comillas dobles abiertas o cerradas (para su facil lectura en los condicionales)  \n",
    "        .- open_singles:  Indica sí el index se encuentra dentro de datos que se espera estén entre comillas simples (')\n",
    "        .- open_brackets: Indica sí el index se encuentra dentro de datos que se espera estén entre corchetes ([]) \n",
    "        .- open_two_doubles: Indica sí el index se encuentra dentro de datos que se espera estén entre dos comillas dobles (\"\")\n",
    "\n",
    "    Args:\n",
    "        line (str): Una Linea completa del archivo `credits.csv`\n",
    "\n",
    "    Returns:\n",
    "        tuple[list, str]: Una Lista de Diccionarios y el string que identifica el id de la movie\n",
    "    \"\"\"\n",
    "    # Tengo que convertir a `line` en una lista para poder manipularla y en ocaciones corregirle \n",
    "    # pequeño detalles. \n",
    "    line_type_list:list = list(line)\n",
    "    cadenas:list = []\n",
    "    movie_id_str:str = ''\n",
    "    #  Variable que utilizaré para marcar el inicio de la cadena de caracteres cuando hago el slice [:]\n",
    "    first:int = 0  \n",
    "    open_doubles:bool = False  \n",
    "    open_singles:bool = False  \n",
    "    open_brackets:bool = False \n",
    "    open_two_doubles:bool = False  \n",
    "    for index in range(len(line_type_list)):\n",
    "        if line_type_list[index] == '\"' and not open_brackets and not open_doubles and not open_singles:\n",
    "            open_doubles = True\n",
    "            first = index\n",
    "        elif line_type_list[index] == '[' and open_doubles:\n",
    "            open_brackets = True\n",
    "        elif line_type_list[index] == \"'\" and open_brackets and open_doubles and open_singles:\n",
    "            if line_type_list[index+1] in [',',':', '}']:\n",
    "                open_singles = False\n",
    "            else:\n",
    "                # Hay veces se encuentra comilla simple ' donde no deberían estar. El caso Nombres o expresiones en Ingles \n",
    "                # ejemplo: O'Neal ó Peter's house.  En este caso aunque esas comillas simples son parte de la información\n",
    "                # rompen el codigo. Las sustituyo por backtick ` para evitar que rompan el codigo ahora y luego cuando tenga\n",
    "                # la data procesada en un Dataframe los vuelvo a reemplazar por la comilla original.\n",
    "                line_type_list[index] = '`'\n",
    "        elif line_type_list[index] == \"'\" and open_brackets and open_doubles and not open_singles:     \n",
    "            if line_type_list[index-1].isalpha() or open_two_doubles:\n",
    "                line_type_list[index] = '`'\n",
    "            else:\n",
    "                open_singles = True\n",
    "        elif line_type_list[index] =='\"' and open_brackets and open_doubles and open_singles:\n",
    "            line_type_list[index] = ' '\n",
    "        elif line_type_list[index] == '\"' and open_brackets and open_doubles and not open_singles:\n",
    "            if line_type_list[index+1] == '\"':\n",
    "                line_type_list[index] = ' '\n",
    "                open_two_doubles = False if open_two_doubles else True\n",
    "            else:\n",
    "                line_type_list[index] = \"'\"\n",
    "        elif line_type_list[index] == ']' and not open_singles and open_doubles and not open_two_doubles:\n",
    "            open_brackets = False\n",
    "        elif line_type_list[index] == '\"' and not open_singles and not open_brackets and open_doubles:\n",
    "            open_doubles = False\n",
    "            cadena = line_type_list[first:index+1]\n",
    "            cadena = eval(''.join(cadena))\n",
    "            cadenas.append(cadena) \n",
    "            first = index + 2\n",
    "        elif line_type_list[index] == '\"' and open_singles:\n",
    "            line_type_list[index] = ' '\n",
    "        elif line_type_list[index] == '\\\\':\n",
    "            line_type_list[index] = ' '\n",
    "            if line_type_list[index+1] == 't' or line_type_list[index+1] == 'T':\n",
    "                line_type_list[index+1] = ' '            \n",
    "        elif index == len(line_type_list) - 1:\n",
    "            for i in range(len(line_type_list)):\n",
    "                if line_type_list[index - i] == ',':\n",
    "                    first = index - i + 1\n",
    "                    break\n",
    "            movie_id_str = line_type_list[first:]\n",
    "            movie_id_str = ''.join(movie_id_str)\n",
    "            first = 0\n",
    "\n",
    "    return (cadenas, movie_id_str)"
   ]
  },
  {
   "cell_type": "markdown",
   "metadata": {},
   "source": [
    "**Ya tengo una función que extrae de una linea, los diccionarios de `cast`, `crew` y el `id` del movie al cual están relacionados dichos diccionarios. Ahora debo abrir el archivo como texto y mandar cada linea a la función, separar los diccionarios de `cast` y `crew` y a la vez asociarlos al `id` del movie correspondiente** "
   ]
  },
  {
   "cell_type": "markdown",
   "metadata": {},
   "source": [
    "# **ALTO**\n",
    "### **POR FAVOR LEA ESTE MENSAJE ANTES DE CONTINUAR**\n",
    "\n",
    "Para poder continuar Necesitamos el archivo `credits.csv` que nos dieron al empezar el Proyecto:<br>\n",
    "\n",
    "**OPCIONES**\n",
    "- Sí dispone del archivo `credits.csv` coloquelo en la carpeta `datasets_inicial` de este proyecto `NO EJECUTE LA CELDA 6` Osea la siguiente celda.\n",
    "- Sí por el contrario NO DISPONE del archivo, entonces ejecute la siguiente celda para descargarlo."
   ]
  },
  {
   "cell_type": "code",
   "execution_count": 1,
   "metadata": {},
   "outputs": [
    {
     "name": "stderr",
     "output_type": "stream",
     "text": [
      "Downloading...\n",
      "From (original): https://drive.google.com/uc?export=download&id=11zFVAMts_ZWF4mIA6FYtf-ITD2RzQPRs\n",
      "From (redirected): https://drive.google.com/uc?export=download&id=11zFVAMts_ZWF4mIA6FYtf-ITD2RzQPRs&confirm=t&uuid=7511f86e-c98e-43b1-a781-7d2ba952745e\n",
      "To: d:\\BOOTCAMP-HENRY\\MODULO-07-LABS\\datasets_inicial\\credits.csv\n",
      "100%|██████████| 190M/190M [00:35<00:00, 5.33MB/s] \n"
     ]
    },
    {
     "data": {
      "text/plain": [
       "'datasets_inicial/credits.csv'"
      ]
     },
     "execution_count": 1,
     "metadata": {},
     "output_type": "execute_result"
    }
   ],
   "source": [
    "import gdown\n",
    "\n",
    "url = 'https://drive.google.com/uc?export=download&id=11zFVAMts_ZWF4mIA6FYtf-ITD2RzQPRs'\n",
    "\n",
    "gdown.download(url, 'datasets_inicial/credits.csv', quiet=False)"
   ]
  },
  {
   "cell_type": "markdown",
   "metadata": {},
   "source": [
    "Recorro el archivo como si fuera texto y cada linea lo mando a la función"
   ]
  },
  {
   "cell_type": "code",
   "execution_count": 3,
   "metadata": {},
   "outputs": [],
   "source": [
    "data_cast = []  #Variable donde alojaré todos los diccionarios de cast\n",
    "data_crew = []  #Variable donde alojaré todos los diccionarios de crew\n",
    "\n",
    "with open(\"datasets_inicial/credits.csv\", 'r', encoding='utf-8') as file:\n",
    "    next(file) # Esto se simplemente para Saltar el encabezado\n",
    "    lines = 0\n",
    "    for line in file:\n",
    "        lines += 1\n",
    "        line = line.strip()\n",
    "        list_of_strings, movie_id_str = get_fields_from_line(line=line) #Llamo a la funcion y le paso cada linea\n",
    "        # Es posible recibir una lista vacia.  Hay lineas del dataset que son solo `[],[]`\n",
    "        if len(list_of_strings) > 0:\n",
    "            # De recibir algo es posible recibir una o dos Listas de Diccionarios\n",
    "            for i in range(len(list_of_strings)):\n",
    "                # la funcion se encargo de hacer pequeños ajustes y ahora utilizo el eval() sin que se rompa\n",
    "                list_of_dict = eval(list_of_strings[i])\n",
    "                for dictionary in list_of_dict:\n",
    "                    # Indistintamente si el dict es de `cast` o de `crew` hay que enlazarlo con `movie_id`\n",
    "                    dictionary['movie_id'] = int(movie_id_str)               \n",
    "                    if 'cast_id' in dictionary.keys():\n",
    "                        data_cast.append(dictionary)\n",
    "                    else:\n",
    "                        data_crew.append(dictionary)\n",
    "    file.close()"
   ]
  },
  {
   "cell_type": "markdown",
   "metadata": {},
   "source": [
    "### **Probando como viene la Data de `get_fields_from_line`**"
   ]
  },
  {
   "cell_type": "code",
   "execution_count": 4,
   "metadata": {},
   "outputs": [
    {
     "name": "stdout",
     "output_type": "stream",
     "text": [
      "Longitud de La data de cast  562474\n"
     ]
    },
    {
     "data": {
      "text/plain": [
       "{'cast_id': 14,\n",
       " 'character': 'Woody (voice)',\n",
       " 'credit_id': '52fe4284c3a36847f8024f95',\n",
       " 'gender': 2,\n",
       " 'id': 31,\n",
       " 'name': 'Tom Hanks',\n",
       " 'order': 0,\n",
       " 'profile_path': '/pQFoyx7rp09CJTAb932F2g8Nlho.jpg',\n",
       " 'movie_id': 862}"
      ]
     },
     "execution_count": 4,
     "metadata": {},
     "output_type": "execute_result"
    }
   ],
   "source": [
    "# Abajo Un ejemplo de un Diccionario de CAST\n",
    "print(f'Longitud de La data de cast  {len(data_cast)}')\n",
    "data_cast[0]"
   ]
  },
  {
   "cell_type": "code",
   "execution_count": 4,
   "metadata": {},
   "outputs": [
    {
     "name": "stdout",
     "output_type": "stream",
     "text": [
      "Longitud de La data de crew  464314\n"
     ]
    },
    {
     "data": {
      "text/plain": [
       "{'credit_id': '52fe4284c3a36847f8024f91',\n",
       " 'department': 'Art',\n",
       " 'gender': 2,\n",
       " 'id': 7883,\n",
       " 'job': 'Art Direction',\n",
       " 'name': 'Ralph Eggleston',\n",
       " 'profile_path': '/uUfcGKDsKO1aROMpXRs67Hn6RvR.jpg',\n",
       " 'movie_id': 862}"
      ]
     },
     "execution_count": 4,
     "metadata": {},
     "output_type": "execute_result"
    }
   ],
   "source": [
    "# Abajo Un ejemplo de un Diccionario de CREW\n",
    "print(f'Longitud de La data de crew  {len(data_crew)}')\n",
    "data_crew[10]"
   ]
  },
  {
   "cell_type": "markdown",
   "metadata": {},
   "source": [
    "Como se Observa recopile todos los diccionarios y los introduje en su respectiva Lista (`data_cast` o `data_crew`) y ahora es mas sencillo crear los Dataframes"
   ]
  },
  {
   "cell_type": "markdown",
   "metadata": {},
   "source": [
    "***\n",
    "#### **Trabajando la tabla de Actores, sacando la data de los diccionarios de `cast`**"
   ]
  },
  {
   "cell_type": "code",
   "execution_count": 7,
   "metadata": {},
   "outputs": [
    {
     "data": {
      "text/html": [
       "<div><style>\n",
       ".dataframe > thead > tr,\n",
       ".dataframe > tbody > tr {\n",
       "  text-align: right;\n",
       "  white-space: pre-wrap;\n",
       "}\n",
       "</style>\n",
       "<small>shape: (5, 9)</small><table border=\"1\" class=\"dataframe\"><thead><tr><th>cast_id</th><th>character</th><th>credit_id</th><th>gender</th><th>id</th><th>name</th><th>order</th><th>profile_path</th><th>movie_id</th></tr><tr><td>i64</td><td>str</td><td>str</td><td>i64</td><td>i64</td><td>str</td><td>i64</td><td>str</td><td>i64</td></tr></thead><tbody><tr><td>14</td><td>&quot;Woody (voice)&quot;</td><td>&quot;52fe4284c3a36847f8024f95&quot;</td><td>2</td><td>31</td><td>&quot;Tom Hanks&quot;</td><td>0</td><td>&quot;/pQFoyx7rp09CJTAb932F2g8Nlho.j…</td><td>862</td></tr><tr><td>15</td><td>&quot;Buzz Lightyear (voice)&quot;</td><td>&quot;52fe4284c3a36847f8024f99&quot;</td><td>2</td><td>12898</td><td>&quot;Tim Allen&quot;</td><td>1</td><td>&quot;/uX2xVf6pMmPepxnvFWyBtjexzgY.j…</td><td>862</td></tr><tr><td>16</td><td>&quot;Mr. Potato Head (voice)&quot;</td><td>&quot;52fe4284c3a36847f8024f9d&quot;</td><td>2</td><td>7167</td><td>&quot;Don Rickles&quot;</td><td>2</td><td>&quot;/h5BcaDMPRVLHLDzbQavec4xfSdt.j…</td><td>862</td></tr><tr><td>17</td><td>&quot;Slinky Dog (voice)&quot;</td><td>&quot;52fe4284c3a36847f8024fa1&quot;</td><td>2</td><td>12899</td><td>&quot;Jim Varney&quot;</td><td>3</td><td>&quot;/eIo2jVVXYgjDtaHoF19Ll9vtW7h.j…</td><td>862</td></tr><tr><td>18</td><td>&quot;Rex (voice)&quot;</td><td>&quot;52fe4284c3a36847f8024fa5&quot;</td><td>2</td><td>12900</td><td>&quot;Wallace Shawn&quot;</td><td>4</td><td>&quot;/oGE6JqPP2xH4tNORKNqxbNPYi7u.j…</td><td>862</td></tr></tbody></table></div>"
      ],
      "text/plain": [
       "shape: (5, 9)\n",
       "┌─────────┬──────────────┬─────────────┬────────┬───┬─────────────┬───────┬─────────────┬──────────┐\n",
       "│ cast_id ┆ character    ┆ credit_id   ┆ gender ┆ … ┆ name        ┆ order ┆ profile_pat ┆ movie_id │\n",
       "│ ---     ┆ ---          ┆ ---         ┆ ---    ┆   ┆ ---         ┆ ---   ┆ h           ┆ ---      │\n",
       "│ i64     ┆ str          ┆ str         ┆ i64    ┆   ┆ str         ┆ i64   ┆ ---         ┆ i64      │\n",
       "│         ┆              ┆             ┆        ┆   ┆             ┆       ┆ str         ┆          │\n",
       "╞═════════╪══════════════╪═════════════╪════════╪═══╪═════════════╪═══════╪═════════════╪══════════╡\n",
       "│ 14      ┆ Woody        ┆ 52fe4284c3a ┆ 2      ┆ … ┆ Tom Hanks   ┆ 0     ┆ /pQFoyx7rp0 ┆ 862      │\n",
       "│         ┆ (voice)      ┆ 36847f8024f ┆        ┆   ┆             ┆       ┆ 9CJTAb932F2 ┆          │\n",
       "│         ┆              ┆ 95          ┆        ┆   ┆             ┆       ┆ g8Nlho.j…   ┆          │\n",
       "│ 15      ┆ Buzz         ┆ 52fe4284c3a ┆ 2      ┆ … ┆ Tim Allen   ┆ 1     ┆ /uX2xVf6pMm ┆ 862      │\n",
       "│         ┆ Lightyear    ┆ 36847f8024f ┆        ┆   ┆             ┆       ┆ PepxnvFWyBt ┆          │\n",
       "│         ┆ (voice)      ┆ 99          ┆        ┆   ┆             ┆       ┆ jexzgY.j…   ┆          │\n",
       "│ 16      ┆ Mr. Potato   ┆ 52fe4284c3a ┆ 2      ┆ … ┆ Don Rickles ┆ 2     ┆ /h5BcaDMPRV ┆ 862      │\n",
       "│         ┆ Head (voice) ┆ 36847f8024f ┆        ┆   ┆             ┆       ┆ LHLDzbQavec ┆          │\n",
       "│         ┆              ┆ 9d          ┆        ┆   ┆             ┆       ┆ 4xfSdt.j…   ┆          │\n",
       "│ 17      ┆ Slinky Dog   ┆ 52fe4284c3a ┆ 2      ┆ … ┆ Jim Varney  ┆ 3     ┆ /eIo2jVVXYg ┆ 862      │\n",
       "│         ┆ (voice)      ┆ 36847f8024f ┆        ┆   ┆             ┆       ┆ jDtaHoF19Ll ┆          │\n",
       "│         ┆              ┆ a1          ┆        ┆   ┆             ┆       ┆ 9vtW7h.j…   ┆          │\n",
       "│ 18      ┆ Rex (voice)  ┆ 52fe4284c3a ┆ 2      ┆ … ┆ Wallace     ┆ 4     ┆ /oGE6JqPP2x ┆ 862      │\n",
       "│         ┆              ┆ 36847f8024f ┆        ┆   ┆ Shawn       ┆       ┆ H4tNORKNqxb ┆          │\n",
       "│         ┆              ┆ a5          ┆        ┆   ┆             ┆       ┆ NPYi7u.j…   ┆          │\n",
       "└─────────┴──────────────┴─────────────┴────────┴───┴─────────────┴───────┴─────────────┴──────────┘"
      ]
     },
     "execution_count": 7,
     "metadata": {},
     "output_type": "execute_result"
    }
   ],
   "source": [
    "cast = pl.DataFrame(data=data_cast)\n",
    "cast.head()"
   ]
  },
  {
   "cell_type": "code",
   "execution_count": 5,
   "metadata": {},
   "outputs": [],
   "source": [
    "# Elimino Espacios vacios al principio y final de cada campo String\n",
    "cast = cast.with_columns([\n",
    "    pl.col('name').str.to_uppercase().str.strip_chars().alias('name'),\n",
    "    pl.col('character').str.strip_chars().alias('character'),\n",
    "    pl.col('profile_path').str.strip_chars().alias('profile_path'),   \n",
    "])\n",
    "\n",
    "# Sustituyo los backtick ` por comilla ' para dejar la informacion como venía originalmente, ya en este punto \n",
    "# la comilla no me rompe el codigo. Nota: La explicación de esto esta en un comentario de 4 lineas en la celda 2\n",
    "cast = cast.with_columns([\n",
    "    pl.col('character').str.replace(\"`\", \"'\"),\n",
    "    pl.col('profile_path').str.replace(\"`\", \"'\"),\n",
    "    pl.col('name').str.replace(\"`\", \"'\") ,\n",
    "])"
   ]
  },
  {
   "cell_type": "markdown",
   "metadata": {},
   "source": [
    "Mostrando cuantos Nulos y Datos en Blanco me vinieron en la data"
   ]
  },
  {
   "cell_type": "code",
   "execution_count": 6,
   "metadata": {},
   "outputs": [
    {
     "name": "stdout",
     "output_type": "stream",
     "text": [
      "Cantidad de Nulos --> 0  Columna --> cast_id\n",
      "Cantidad de \"\" ó 0 --> 2846\n",
      "**************************************************\n",
      "Cantidad de Nulos --> 0  Columna --> character\n",
      "Cantidad de \"\" ó 0 --> 0\n",
      "**************************************************\n",
      "Cantidad de Nulos --> 0  Columna --> credit_id\n",
      "Cantidad de \"\" ó 0 --> 0\n",
      "**************************************************\n",
      "Cantidad de Nulos --> 0  Columna --> gender\n",
      "Cantidad de \"\" ó 0 --> 223964\n",
      "**************************************************\n",
      "Cantidad de Nulos --> 0  Columna --> id\n",
      "Cantidad de \"\" ó 0 --> 0\n",
      "**************************************************\n",
      "Cantidad de Nulos --> 0  Columna --> name\n",
      "Cantidad de \"\" ó 0 --> 0\n",
      "**************************************************\n",
      "Cantidad de Nulos --> 0  Columna --> order\n",
      "Cantidad de \"\" ó 0 --> 36747\n",
      "**************************************************\n",
      "Cantidad de Nulos --> 173856  Columna --> profile_path\n",
      "Cantidad de \"\" ó 0 --> 0\n",
      "**************************************************\n",
      "Cantidad de Nulos --> 0  Columna --> movie_id\n",
      "Cantidad de \"\" ó 0 --> 0\n",
      "**************************************************\n"
     ]
    }
   ],
   "source": [
    "for column in cast.columns:\n",
    "    mask = (cast[column] == \"\") if cast[column].dtype == 'String' else (cast[column] == 0)\n",
    "    print(f'Cantidad de Nulos --> {cast[column].is_null().sum()}  Columna --> {column}')\n",
    "    print(f'Cantidad de \"\" ó 0 --> {cast.filter(mask).shape[0]}') \n",
    "    print('*'*50)"
   ]
  },
  {
   "cell_type": "markdown",
   "metadata": {},
   "source": [
    "Grabaré a un archivo `cast.parquet` este dataframe, por sí en un futuro necesito alguna información adicional a los dataframes `actores_df` y `directores_df` que crearé mas adelante"
   ]
  },
  {
   "cell_type": "code",
   "execution_count": 7,
   "metadata": {},
   "outputs": [],
   "source": [
    "cast.write_parquet('data/cast.parquet')"
   ]
  },
  {
   "cell_type": "markdown",
   "metadata": {},
   "source": [
    "En esta data `cast` aparecen registros de Actores por cada pelicula en que a participado. Para responder las preguntas planteadas `para la Api (especificamente la 5)`, y llevarme `información relevante para el modelo`. Me llevaré\n",
    "- Nombre del Actor: `actor`\n",
    "- Lista de los id de las peliculas en que participo: `movies`\n",
    "- Número de películas en las que participó: `number_of_movies`\n",
    "- El id del actor: `id_actor` --> Este campo, por ahora, creo no es necesario, me lo llevo por si lo necesito mas adelante, o mas adelante en la organizacion necesitan hacer un datawarehouse con esta información."
   ]
  },
  {
   "cell_type": "code",
   "execution_count": 8,
   "metadata": {},
   "outputs": [],
   "source": [
    "# En data_actores metere uno a uno los distintos actores\n",
    "data_actores = []\n",
    "actores = cast['name'].unique().to_list() #Listado de Actores\n",
    "\n",
    "for actor in actores:\n",
    "    row_actores = {}\n",
    "    mask = cast['name'] == actor # Filtro a `cast` por nombre de actor\n",
    "    id_actor = cast.filter(mask)['id'].unique()[0] # Tomo el `id` del actor\n",
    "    movies_ids = cast.filter(mask)['movie_id'].unique().to_list() # Tomo los `id` de las movies\n",
    "    number_of_movies = len(movies_ids)\n",
    "    row_actores['id_actor'] = id_actor\n",
    "    row_actores['actor'] = actor\n",
    "    row_actores['movies'] = movies_ids\n",
    "    row_actores['number_of_movies'] = number_of_movies\n",
    "    data_actores.append(row_actores)"
   ]
  },
  {
   "cell_type": "code",
   "execution_count": 9,
   "metadata": {},
   "outputs": [
    {
     "data": {
      "text/html": [
       "<div><style>\n",
       ".dataframe > thead > tr,\n",
       ".dataframe > tbody > tr {\n",
       "  text-align: right;\n",
       "  white-space: pre-wrap;\n",
       "}\n",
       "</style>\n",
       "<small>shape: (5, 4)</small><table border=\"1\" class=\"dataframe\"><thead><tr><th>id_actor</th><th>actor</th><th>movies</th><th>number_of_movies</th></tr><tr><td>i64</td><td>str</td><td>list[i64]</td><td>i64</td></tr></thead><tbody><tr><td>120646</td><td>&quot;NINO FRASSICA&quot;</td><td>[25846, 37710, … 320316]</td><td>8</td></tr><tr><td>142964</td><td>&quot;CARMI MARTIN&quot;</td><td>[40471]</td><td>1</td></tr><tr><td>1072363</td><td>&quot;BEATRICE CURTIS&quot;</td><td>[3083, 24807, … 149793]</td><td>4</td></tr><tr><td>1668887</td><td>&quot;DORIS MORTON&quot;</td><td>[33810]</td><td>1</td></tr><tr><td>1564286</td><td>&quot;KRZYSZTOF CHMIELEWSKI&quot;</td><td>[375742]</td><td>1</td></tr></tbody></table></div>"
      ],
      "text/plain": [
       "shape: (5, 4)\n",
       "┌──────────┬───────────────────────┬──────────────────────────┬──────────────────┐\n",
       "│ id_actor ┆ actor                 ┆ movies                   ┆ number_of_movies │\n",
       "│ ---      ┆ ---                   ┆ ---                      ┆ ---              │\n",
       "│ i64      ┆ str                   ┆ list[i64]                ┆ i64              │\n",
       "╞══════════╪═══════════════════════╪══════════════════════════╪══════════════════╡\n",
       "│ 120646   ┆ NINO FRASSICA         ┆ [25846, 37710, … 320316] ┆ 8                │\n",
       "│ 142964   ┆ CARMI MARTIN          ┆ [40471]                  ┆ 1                │\n",
       "│ 1072363  ┆ BEATRICE CURTIS       ┆ [3083, 24807, … 149793]  ┆ 4                │\n",
       "│ 1668887  ┆ DORIS MORTON          ┆ [33810]                  ┆ 1                │\n",
       "│ 1564286  ┆ KRZYSZTOF CHMIELEWSKI ┆ [375742]                 ┆ 1                │\n",
       "└──────────┴───────────────────────┴──────────────────────────┴──────────────────┘"
      ]
     },
     "execution_count": 9,
     "metadata": {},
     "output_type": "execute_result"
    }
   ],
   "source": [
    "actores_df = pl.DataFrame(data=data_actores)\n",
    "\n",
    "actores_df.head()"
   ]
  },
  {
   "cell_type": "code",
   "execution_count": 10,
   "metadata": {},
   "outputs": [],
   "source": [
    "actores_df.write_parquet('data/actores.parquet')"
   ]
  },
  {
   "cell_type": "markdown",
   "metadata": {},
   "source": [
    "***\n",
    "#### **Trabajando la tabla Directores, sacando la información de los diccionarios de `crew`**"
   ]
  },
  {
   "cell_type": "code",
   "execution_count": 11,
   "metadata": {},
   "outputs": [
    {
     "name": "stdout",
     "output_type": "stream",
     "text": [
      "(464314, 8)\n"
     ]
    },
    {
     "data": {
      "text/html": [
       "<div><style>\n",
       ".dataframe > thead > tr,\n",
       ".dataframe > tbody > tr {\n",
       "  text-align: right;\n",
       "  white-space: pre-wrap;\n",
       "}\n",
       "</style>\n",
       "<small>shape: (5, 8)</small><table border=\"1\" class=\"dataframe\"><thead><tr><th>credit_id</th><th>department</th><th>gender</th><th>id</th><th>job</th><th>name</th><th>profile_path</th><th>movie_id</th></tr><tr><td>str</td><td>str</td><td>i64</td><td>i64</td><td>str</td><td>str</td><td>str</td><td>i64</td></tr></thead><tbody><tr><td>&quot;52fe4284c3a36847f8024f49&quot;</td><td>&quot;Directing&quot;</td><td>2</td><td>7879</td><td>&quot;Director&quot;</td><td>&quot;John Lasseter&quot;</td><td>&quot;/7EdqiNbr4FRjIhKHyPPdFfEEEFG.j…</td><td>862</td></tr><tr><td>&quot;52fe4284c3a36847f8024f4f&quot;</td><td>&quot;Writing&quot;</td><td>2</td><td>12891</td><td>&quot;Screenplay&quot;</td><td>&quot;Joss Whedon&quot;</td><td>&quot;/dTiVsuaTVTeGmvkhcyJvKp2A5kr.j…</td><td>862</td></tr><tr><td>&quot;52fe4284c3a36847f8024f55&quot;</td><td>&quot;Writing&quot;</td><td>2</td><td>7</td><td>&quot;Screenplay&quot;</td><td>&quot;Andrew Stanton&quot;</td><td>&quot;/pvQWsu0qc8JFQhMVJkTHuexUAa1.j…</td><td>862</td></tr><tr><td>&quot;52fe4284c3a36847f8024f5b&quot;</td><td>&quot;Writing&quot;</td><td>2</td><td>12892</td><td>&quot;Screenplay&quot;</td><td>&quot;Joel Cohen&quot;</td><td>&quot;/dAubAiZcvKFbboWlj7oXOkZnTSu.j…</td><td>862</td></tr><tr><td>&quot;52fe4284c3a36847f8024f61&quot;</td><td>&quot;Writing&quot;</td><td>0</td><td>12893</td><td>&quot;Screenplay&quot;</td><td>&quot;Alec Sokolow&quot;</td><td>&quot;/v79vlRYi94BZUQnkkyznbGUZLjT.j…</td><td>862</td></tr></tbody></table></div>"
      ],
      "text/plain": [
       "shape: (5, 8)\n",
       "┌──────────────┬────────────┬────────┬───────┬────────────┬──────────────┬──────────────┬──────────┐\n",
       "│ credit_id    ┆ department ┆ gender ┆ id    ┆ job        ┆ name         ┆ profile_path ┆ movie_id │\n",
       "│ ---          ┆ ---        ┆ ---    ┆ ---   ┆ ---        ┆ ---          ┆ ---          ┆ ---      │\n",
       "│ str          ┆ str        ┆ i64    ┆ i64   ┆ str        ┆ str          ┆ str          ┆ i64      │\n",
       "╞══════════════╪════════════╪════════╪═══════╪════════════╪══════════════╪══════════════╪══════════╡\n",
       "│ 52fe4284c3a3 ┆ Directing  ┆ 2      ┆ 7879  ┆ Director   ┆ John         ┆ /7EdqiNbr4FR ┆ 862      │\n",
       "│ 6847f8024f49 ┆            ┆        ┆       ┆            ┆ Lasseter     ┆ jIhKHyPPdFfE ┆          │\n",
       "│              ┆            ┆        ┆       ┆            ┆              ┆ EEFG.j…      ┆          │\n",
       "│ 52fe4284c3a3 ┆ Writing    ┆ 2      ┆ 12891 ┆ Screenplay ┆ Joss Whedon  ┆ /dTiVsuaTVTe ┆ 862      │\n",
       "│ 6847f8024f4f ┆            ┆        ┆       ┆            ┆              ┆ GmvkhcyJvKp2 ┆          │\n",
       "│              ┆            ┆        ┆       ┆            ┆              ┆ A5kr.j…      ┆          │\n",
       "│ 52fe4284c3a3 ┆ Writing    ┆ 2      ┆ 7     ┆ Screenplay ┆ Andrew       ┆ /pvQWsu0qc8J ┆ 862      │\n",
       "│ 6847f8024f55 ┆            ┆        ┆       ┆            ┆ Stanton      ┆ FQhMVJkTHuex ┆          │\n",
       "│              ┆            ┆        ┆       ┆            ┆              ┆ UAa1.j…      ┆          │\n",
       "│ 52fe4284c3a3 ┆ Writing    ┆ 2      ┆ 12892 ┆ Screenplay ┆ Joel Cohen   ┆ /dAubAiZcvKF ┆ 862      │\n",
       "│ 6847f8024f5b ┆            ┆        ┆       ┆            ┆              ┆ bboWlj7oXOkZ ┆          │\n",
       "│              ┆            ┆        ┆       ┆            ┆              ┆ nTSu.j…      ┆          │\n",
       "│ 52fe4284c3a3 ┆ Writing    ┆ 0      ┆ 12893 ┆ Screenplay ┆ Alec Sokolow ┆ /v79vlRYi94B ┆ 862      │\n",
       "│ 6847f8024f61 ┆            ┆        ┆       ┆            ┆              ┆ ZUQnkkyznbGU ┆          │\n",
       "│              ┆            ┆        ┆       ┆            ┆              ┆ ZLjT.j…      ┆          │\n",
       "└──────────────┴────────────┴────────┴───────┴────────────┴──────────────┴──────────────┴──────────┘"
      ]
     },
     "execution_count": 11,
     "metadata": {},
     "output_type": "execute_result"
    }
   ],
   "source": [
    "crew = pl.DataFrame(data=data_crew)\n",
    "\n",
    "print(crew.shape)\n",
    "crew.head()"
   ]
  },
  {
   "cell_type": "code",
   "execution_count": 12,
   "metadata": {},
   "outputs": [],
   "source": [
    "# Elimino Espacios vacios al principio y final de cada campo String\n",
    "crew = crew.with_columns([\n",
    "    pl.col('credit_id').str.strip_chars().alias('credit_id'),\n",
    "    pl.col('department').str.strip_chars().alias('department'),\n",
    "    pl.col('job').str.to_uppercase().str.strip_chars().alias('job'),\n",
    "    pl.col('name').str.to_uppercase().str.strip_chars().alias('name'),\n",
    "    pl.col('profile_path').str.strip_chars().alias('profile_path'),\n",
    "])\n",
    "\n",
    "# Sustituyo los backtick ` por comilla ' para dejar la informacion como venía originalmente, ya en este punto \n",
    "# la comilla no me rompe el codigo. Nota: La explicación de esto esta en un comentario de 4 lineas en la celda 2\n",
    "crew = crew.with_columns([\n",
    "    pl.col('credit_id').str.replace(\"`\", \"'\"),\n",
    "    pl.col('department').str.replace(\"`\", \"'\"),\n",
    "    pl.col('job').str.replace(\"`\", \"'\"),\n",
    "    pl.col('name').str.replace(\"`\", \"'\"),\n",
    "    pl.col('profile_path').str.replace(\"`\", \"'\"),\n",
    "])"
   ]
  },
  {
   "cell_type": "markdown",
   "metadata": {},
   "source": [
    "Revisando Nulos e información vacia ó 0"
   ]
  },
  {
   "cell_type": "code",
   "execution_count": 13,
   "metadata": {},
   "outputs": [
    {
     "name": "stdout",
     "output_type": "stream",
     "text": [
      "Cantidad de Nulos --> 0  Columna --> credit_id\n",
      "Cantidad de \"\" ó 0 --> 0\n",
      "**************************************************\n",
      "Cantidad de Nulos --> 0  Columna --> department\n",
      "Cantidad de \"\" ó 0 --> 0\n",
      "**************************************************\n",
      "Cantidad de Nulos --> 0  Columna --> gender\n",
      "Cantidad de \"\" ó 0 --> 272319\n",
      "**************************************************\n",
      "Cantidad de Nulos --> 0  Columna --> id\n",
      "Cantidad de \"\" ó 0 --> 0\n",
      "**************************************************\n",
      "Cantidad de Nulos --> 0  Columna --> job\n",
      "Cantidad de \"\" ó 0 --> 0\n",
      "**************************************************\n",
      "Cantidad de Nulos --> 0  Columna --> name\n",
      "Cantidad de \"\" ó 0 --> 0\n",
      "**************************************************\n",
      "Cantidad de Nulos --> 369216  Columna --> profile_path\n",
      "Cantidad de \"\" ó 0 --> 0\n",
      "**************************************************\n",
      "Cantidad de Nulos --> 0  Columna --> movie_id\n",
      "Cantidad de \"\" ó 0 --> 0\n",
      "**************************************************\n"
     ]
    }
   ],
   "source": [
    "for column in crew.columns:\n",
    "    mask = (crew[column] == \"\") if crew[column].dtype == 'String' else (crew[column] == 0)\n",
    "    print(f'Cantidad de Nulos --> {crew[column].is_null().sum()}  Columna --> {column}')\n",
    "    print(f'Cantidad de \"\" ó 0 --> {crew.filter(mask).shape[0]}') \n",
    "    print('*'*50)"
   ]
  },
  {
   "cell_type": "markdown",
   "metadata": {},
   "source": [
    "Grabaré a un archivo crew.parquet este dataframe, por si en un futuro necesito alguna información adicional a los dataframes `actores_df` y `directores_df` que estoy creando"
   ]
  },
  {
   "cell_type": "code",
   "execution_count": 14,
   "metadata": {},
   "outputs": [],
   "source": [
    "crew.write_parquet('data/crew.parquet')"
   ]
  },
  {
   "cell_type": "markdown",
   "metadata": {},
   "source": [
    "En esta data `crew` aparecen registros por cada pelicula de todas las personas, que de una u otra forma han participado en ella (a excepción de actores que están en `cast`).  En la columna `job` se encuentra el rol que ha desempeñado cada una de estas personas.  La información que tenemos que filtrar es cuando en este campo aparece la palabra `DIRECTOR` y luego filtrar por director para sacar `información necesaria para satisfacer la función 6 de la Api` y `aportar data al modelo de recomendación`.  Los campos de la nueva tabla a crear serán:\n",
    "- Nombre del Director: `director`\n",
    "- Lista de los id de las peliculas en que participo: `movies`\n",
    "- Número de películas en las que participó: `number_of_movies`\n",
    "- El id del director: `id_director` --> Este campo por ahora creo no es necesario, me lo llevo por si lo necesito mas adelante, o mas adelante en la organizacion necesitan hacer un datawarehouse con esta información"
   ]
  },
  {
   "cell_type": "code",
   "execution_count": 15,
   "metadata": {},
   "outputs": [],
   "source": [
    "# Esta Logica es similar a cuando obtuve la Data de `actores`\n",
    "data_directores = []\n",
    "mask = crew['job'] == 'DIRECTOR'\n",
    "directores = crew.filter(mask)['name'].unique().to_list()\n",
    "\n",
    "for director in directores:\n",
    "    row_directores = {}\n",
    "    mask = (crew['job'] == 'DIRECTOR') & (crew['name'] == director)\n",
    "    id_director = crew.filter(mask)['id'].unique()[0]\n",
    "    movies_ids = crew.filter(mask)['movie_id'].unique().to_list()\n",
    "    number_of_movies = len(movies_ids)\n",
    "    row_directores['id_director'] = id_director\n",
    "    row_directores['director'] = director\n",
    "    row_directores['movies'] = movies_ids\n",
    "    row_directores['number_of_movies'] = number_of_movies\n",
    "    data_directores.append(row_directores)"
   ]
  },
  {
   "cell_type": "code",
   "execution_count": 16,
   "metadata": {},
   "outputs": [],
   "source": [
    "directores_df = pl.DataFrame(data=data_directores)"
   ]
  },
  {
   "cell_type": "code",
   "execution_count": 17,
   "metadata": {},
   "outputs": [
    {
     "data": {
      "text/html": [
       "<div><style>\n",
       ".dataframe > thead > tr,\n",
       ".dataframe > tbody > tr {\n",
       "  text-align: right;\n",
       "  white-space: pre-wrap;\n",
       "}\n",
       "</style>\n",
       "<small>shape: (5, 4)</small><table border=\"1\" class=\"dataframe\"><thead><tr><th>id_director</th><th>director</th><th>movies</th><th>number_of_movies</th></tr><tr><td>i64</td><td>str</td><td>list[i64]</td><td>i64</td></tr></thead><tbody><tr><td>234753</td><td>&quot;VIVIAN SCHILLING&quot;</td><td>[60949]</td><td>1</td></tr><tr><td>141696</td><td>&quot;HARI&quot;</td><td>[49029, 62756]</td><td>2</td></tr><tr><td>1079373</td><td>&quot;BRAD BERNSTEIN&quot;</td><td>[124069]</td><td>1</td></tr><tr><td>1354959</td><td>&quot;JUSTIN TIPPING&quot;</td><td>[385736]</td><td>1</td></tr><tr><td>71609</td><td>&quot;JOACHIM TRIER&quot;</td><td>[12197, 75233, 157827]</td><td>3</td></tr></tbody></table></div>"
      ],
      "text/plain": [
       "shape: (5, 4)\n",
       "┌─────────────┬──────────────────┬────────────────────────┬──────────────────┐\n",
       "│ id_director ┆ director         ┆ movies                 ┆ number_of_movies │\n",
       "│ ---         ┆ ---              ┆ ---                    ┆ ---              │\n",
       "│ i64         ┆ str              ┆ list[i64]              ┆ i64              │\n",
       "╞═════════════╪══════════════════╪════════════════════════╪══════════════════╡\n",
       "│ 234753      ┆ VIVIAN SCHILLING ┆ [60949]                ┆ 1                │\n",
       "│ 141696      ┆ HARI             ┆ [49029, 62756]         ┆ 2                │\n",
       "│ 1079373     ┆ BRAD BERNSTEIN   ┆ [124069]               ┆ 1                │\n",
       "│ 1354959     ┆ JUSTIN TIPPING   ┆ [385736]               ┆ 1                │\n",
       "│ 71609       ┆ JOACHIM TRIER    ┆ [12197, 75233, 157827] ┆ 3                │\n",
       "└─────────────┴──────────────────┴────────────────────────┴──────────────────┘"
      ]
     },
     "execution_count": 17,
     "metadata": {},
     "output_type": "execute_result"
    }
   ],
   "source": [
    "directores_df.head()"
   ]
  },
  {
   "cell_type": "code",
   "execution_count": 18,
   "metadata": {},
   "outputs": [],
   "source": [
    "directores_df.write_parquet('data/directores.parquet')"
   ]
  }
 ],
 "metadata": {
  "kernelspec": {
   "display_name": "venv_labs",
   "language": "python",
   "name": "python3"
  },
  "language_info": {
   "codemirror_mode": {
    "name": "ipython",
    "version": 3
   },
   "file_extension": ".py",
   "mimetype": "text/x-python",
   "name": "python",
   "nbconvert_exporter": "python",
   "pygments_lexer": "ipython3",
   "version": "3.10.11"
  }
 },
 "nbformat": 4,
 "nbformat_minor": 2
}
