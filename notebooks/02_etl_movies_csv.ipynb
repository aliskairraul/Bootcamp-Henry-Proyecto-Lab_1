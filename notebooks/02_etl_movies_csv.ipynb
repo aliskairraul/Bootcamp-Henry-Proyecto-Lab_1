{
 "cells": [
  {
   "cell_type": "markdown",
   "metadata": {},
   "source": [
    "# **Objetivo del Cuaderno Jupyter**\n",
    "- Procesar el archivo `movies_dataset.csv` y dejarlo de una manera consumible en `movies.parquet`, aunque todavía falte desanidar algunos campos internos (que se desanidaran en el próximo Cuaderno Jupyter), se consigue obtener una data mas `Limpia y Precisa` para su posterior análisis.\n",
    "- Cumplir con los `Requerimientos de Aprobación` en el apartado de `Transformaciones` de este proyecto\n",
    "- Preparar la `data a la medida` de las `6 primeras funciones de la Api`\n",
    "    - cantidad_filmaciones_mes:\n",
    "        - api_01_cantidad_filmaciones_mes.parquet\n",
    "    - cantidad_filmaciones_dia:\n",
    "        - api_02_cantidad_filmaciones_dia.parquet\n",
    "    - score_titulo:\n",
    "        - api_03_04_titulos.parquet\n",
    "    - votos_titulo:\n",
    "        - api_03_04_titulos.parquet\n",
    "    - get_actor:\n",
    "        - api_05_get_actor.parquet\n",
    "    - get_director:\n",
    "        - api_06_get_director.parquet\n",
    "        - directores.parquet"
   ]
  },
  {
   "cell_type": "code",
   "execution_count": 1,
   "metadata": {},
   "outputs": [],
   "source": [
    "import polars as pl"
   ]
  },
  {
   "cell_type": "markdown",
   "metadata": {},
   "source": [
    "### Nombres de los campos presentes en el archivo `movies_dataset.csv` <br>\n",
    "<img src='assets/diccionario_datos.png'>"
   ]
  },
  {
   "cell_type": "markdown",
   "metadata": {},
   "source": [
    "### Funcion que recibe una Linea del archivo `movies_dataset.csv` y devuelve todos los campos en un diccionario `fields` <br>\n",
    "\n",
    "**Nota** Tomé la decisión de Extraer los Datos de esta forma, ya que al cargarlo con Pandas, me alerto un Warning donde me indicaba la inferencia de tipos mixtos de datos.  Al utilizar la libreria Polars nisiquiera pudo abrirlo, lo que me llevó a la precaución de explorar los datasets originales de una forma mas básica. Básicamente la Librería Pandas hubiese sido suficiente para continuar, pero quise ir sobre seguro en la precisión de la data obtenida.<br>\n",
    "\n",
    "Para entender el codigo se hace necesario leer el Docstring, Tomar en cuenta que MINAR de Comentarios el Codigo lo va a hacer mas confuso. Preferí documentar bien el docstring, luego abajo doy un ejemplo de como devuelve la data esta función (ayuda a entender que hace el codigo) y lo mas importante para entender el codigo es prestar MUCHA ATENCION al NOMBRE DE LAS VARIABLES de tipo BOLLEANO, ya que esto ayuda mucho a la hora de leer los condicionales de la función. "
   ]
  },
  {
   "cell_type": "markdown",
   "metadata": {},
   "source": [
    "# **A Pie**"
   ]
  },
  {
   "cell_type": "code",
   "execution_count": 2,
   "metadata": {},
   "outputs": [],
   "source": [
    "def get_fields_from_line(line:str)-> dict:\n",
    "    \"\"\"get_fields_from_line: \n",
    "           Función que recibe una linea del dataset `movies_dataset.csv` y devuelve una variable tipo\n",
    "        diccionario contentiva de la informacion de los campos.\n",
    "        EL tipo de datos que tiene el dataset es el que se muestra en la imagen arriba.\n",
    "    \n",
    "    Puntos a tomar en cuenta:\n",
    "        .- La variable `fields_names` es una Lista que contiene el nombre de los campos en el orden en que aparecen \n",
    "           en el Dataset, lo que ayuda al algoritmo que se encargará de extraer los campos de cada Linea del archivo \n",
    "           'csv', el cual se guiará por aca para la asignación de los nombres de los keys del diccionario que devuelve\n",
    "        .- La variable `index_fields` lleva la cuenta de cuantos campos han ingresado al diccionario, lo que sirve \n",
    "           como guia para indexar dentro de la variable `fields_names`. Tambien sirve para añadir el valor que se le \n",
    "           da a el campo `Numero_campos`\n",
    "        .- La variable `index` es la usada en el ciclo for para recorrer la linea caracter a caracter\n",
    "        .- La variable `previous_index` es el indice de la posicion donde inicia cada slice `[:]` que extrae un campo \n",
    "           en específico.\n",
    "        .- En el dataset hay tipos de datos como Diccionarios, Listas y String Largos que vienen entre comillas `\"`, \n",
    "           para lo cual utilizo la variable `entre_comillas` para indicar en el codigo que el `index` se encuentra en \n",
    "           alguna posicion entre las comillas `\"` que abren y las que cierran.       \n",
    "\n",
    "    Nota: Los nombres de las Variables y la manera como se estructuraron las validaciones hace que el codigo cuente un poco lo que hace\n",
    "    Ejemplo: en la validación  if not entre_comillas and line[index] == ',':    \n",
    "             lo quiere indicar, es que el indice `index` está en una parte de la linea NO esta encerrda entre comillas y que\n",
    "             el caracter que tiene la linea en el indice `index` es igual a como `,`   \n",
    "    Args:\n",
    "        line (str): Linea del dataset `movies_dataset`\n",
    "\n",
    "    Returns:\n",
    "        dict: Diccionario con todos los campos encontrados en la linea recibida\n",
    "    \"\"\"\n",
    "    fields_names:list = [\"adult\", \"belongs_to_collection\", \"budget\", \"genres\", \"homepage\", \"id\", \"imdb_id\",\n",
    "                         \"original_language\", \"original_title\", \"overview\", \"popularity\", \"poster_path\",\n",
    "                         \"production_companies\", \"production_countries\", \"release_date\", \"revenue\", \"runtime\",\n",
    "                         \"spoken_languages\", \"status\", \"tagline\", \"title\", \"video\", \"vote_average\", \"vote_count\"]\n",
    "    index_fields:int = 0\n",
    "    previous_index:int = 0\n",
    "    entre_comillas:bool = False\n",
    "    fields:dict = {}\n",
    "    for index in range(len(line)):\n",
    "        if index == len(line)-1:\n",
    "            cadena = line[previous_index:]\n",
    "            fields[fields_names[index_fields]] = cadena\n",
    "            fields['Numero_Campos'] = index_fields + 1\n",
    "            break\n",
    "        if not entre_comillas and line[index] == ',':\n",
    "            cadena = line[previous_index:index]\n",
    "            fields[fields_names[index_fields]] = cadena\n",
    "            index_fields += 1\n",
    "            previous_index = index+1\n",
    "        elif not entre_comillas and line[index] == '\"':\n",
    "            entre_comillas = True\n",
    "            previous_index = index+1\n",
    "        elif entre_comillas and index > previous_index:\n",
    "            if line[index] == ',' and line[index - 1] == '\"' and line[index - 2] != '\"':      \n",
    "                cadena = line[previous_index:index-1]\n",
    "                fields[fields_names[index_fields]] = cadena\n",
    "                index_fields += 1\n",
    "                previous_index = index + 1\n",
    "                entre_comillas = False\n",
    "\n",
    "    return fields"
   ]
  },
  {
   "cell_type": "markdown",
   "metadata": {},
   "source": [
    "Abro el archivo movies_dataset.csv como texto plano lo recorro y cada linea la mando a desglozar con la función `get_fields_from_line` y los diccionarios recibidos los voy guardando en una lista en una variable llamada `data`"
   ]
  },
  {
   "cell_type": "markdown",
   "metadata": {},
   "source": [
    "# **POR FAVOR LEER**\n",
    "### **POR FAVOR LEA ESTE MENSAJE ANTES DE CONTINUAR**\n",
    "\n",
    "Para poder continuar Necesitamos el archivo `movies_dataset.csv` que nos dieron al empezar el Proyecto:<br>\n",
    "\n",
    "**OPCIONES**\n",
    "- Sí dispone del archivo `movies_dataset.csv` coloquelo en la carpeta `datasets_inicial` que está este proyecto y `NO EJECUTE LA CELDA 2` Osea la siguiente celda.\n",
    "- Sí por el contrario NO DISPONE del archivo, entonces ejecute la siguiente celda para descargarlo."
   ]
  },
  {
   "cell_type": "code",
   "execution_count": 1,
   "metadata": {},
   "outputs": [
    {
     "name": "stderr",
     "output_type": "stream",
     "text": [
      "Downloading...\n",
      "From: https://drive.google.com/uc?export=download&id=1kCjJAxp9Gnawhbvv_VgkQBQrQ6PJd906\n",
      "To: d:\\BOOTCAMP-HENRY\\MODULO-07-LABS\\datasets_inicial\\movies_dataset.csv\n",
      "100%|██████████| 34.4M/34.4M [00:12<00:00, 2.69MB/s]\n"
     ]
    },
    {
     "data": {
      "text/plain": [
       "'datasets_inicial/movies_dataset.csv'"
      ]
     },
     "execution_count": 1,
     "metadata": {},
     "output_type": "execute_result"
    }
   ],
   "source": [
    "import gdown\n",
    "\n",
    "url = 'https://drive.google.com/uc?export=download&id=1kCjJAxp9Gnawhbvv_VgkQBQrQ6PJd906'\n",
    "\n",
    "gdown.download(url, 'datasets_inicial/movies_dataset.csv', quiet=False)"
   ]
  },
  {
   "cell_type": "markdown",
   "metadata": {},
   "source": [
    "Recorro el archivo como si fuera texto y cada linea lo mando a la función"
   ]
  },
  {
   "cell_type": "code",
   "execution_count": 3,
   "metadata": {},
   "outputs": [],
   "source": [
    "data = []\n",
    "with open(\"datasets_inicial/movies_dataset.csv\", 'r', encoding='utf-8') as file:\n",
    "    next(file)\n",
    "    for line in file:\n",
    "        line = line.strip()\n",
    "        row = get_fields_from_line(line=line) #Mando cada linea a la funcion de arriba\n",
    "        data.append(row)\n",
    "    file.close()"
   ]
  },
  {
   "cell_type": "markdown",
   "metadata": {},
   "source": [
    "\n",
    "### Ejemplo de como viene la Data proveniente de `get_fields_from_line`"
   ]
  },
  {
   "cell_type": "code",
   "execution_count": 4,
   "metadata": {},
   "outputs": [
    {
     "name": "stdout",
     "output_type": "stream",
     "text": [
      "En la variable data hay un total de 45572 registros ...\n"
     ]
    },
    {
     "data": {
      "text/plain": [
       "{'adult': 'False',\n",
       " 'belongs_to_collection': '',\n",
       " 'budget': '812000',\n",
       " 'genres': \"[{'id': 16, 'name': 'Animation'}, {'id': 10751, 'name': 'Family'}]\",\n",
       " 'homepage': '',\n",
       " 'id': '11360',\n",
       " 'imdb_id': 'tt0033563',\n",
       " 'original_language': 'en',\n",
       " 'original_title': 'Dumbo',\n",
       " 'overview': 'Dumbo is a baby elephant born with oversized ears and a supreme lack of confidence. But thanks to his even more diminutive buddy -- Timothy the Mouse -- the pint-sized pachyderm learns to surmount all obstacles.',\n",
       " 'popularity': '14.655879',\n",
       " 'poster_path': '/r5IqhwZ61OuKlsyDwvXWyWQZK30.jpg',\n",
       " 'production_companies': \"[{'name': 'RKO Radio Pictures', 'id': 6}, {'name': 'Walt Disney Productions', 'id': 3166}]\",\n",
       " 'production_countries': \"[{'iso_3166_1': 'US', 'name': 'United States of America'}]\",\n",
       " 'release_date': '1941-10-22',\n",
       " 'revenue': '1600000',\n",
       " 'runtime': '64.0',\n",
       " 'spoken_languages': \"[{'iso_639_1': 'en', 'name': 'English'}]\",\n",
       " 'status': 'Released',\n",
       " 'tagline': 'The One...The Only...The FABULOUS...',\n",
       " 'title': 'Dumbo',\n",
       " 'video': 'False',\n",
       " 'vote_average': '6.8',\n",
       " 'vote_count': '1206',\n",
       " 'Numero_Campos': 24}"
      ]
     },
     "execution_count": 4,
     "metadata": {},
     "output_type": "execute_result"
    }
   ],
   "source": [
    "# Aca se muestra una Linea del archivo `movies_dataset.csv`\n",
    "print(f'En la variable data hay un total de {len(data)} registros ...')\n",
    "data[1001]"
   ]
  },
  {
   "cell_type": "markdown",
   "metadata": {},
   "source": [
    "Observo la data ya transformada a Dataframe"
   ]
  },
  {
   "cell_type": "code",
   "execution_count": 6,
   "metadata": {},
   "outputs": [
    {
     "name": "stdout",
     "output_type": "stream",
     "text": [
      "(45572, 25)\n"
     ]
    },
    {
     "data": {
      "text/html": [
       "<div><style>\n",
       ".dataframe > thead > tr,\n",
       ".dataframe > tbody > tr {\n",
       "  text-align: right;\n",
       "  white-space: pre-wrap;\n",
       "}\n",
       "</style>\n",
       "<small>shape: (1, 25)</small><table border=\"1\" class=\"dataframe\"><thead><tr><th>adult</th><th>belongs_to_collection</th><th>budget</th><th>genres</th><th>homepage</th><th>id</th><th>imdb_id</th><th>original_language</th><th>original_title</th><th>overview</th><th>popularity</th><th>poster_path</th><th>production_companies</th><th>production_countries</th><th>release_date</th><th>revenue</th><th>runtime</th><th>spoken_languages</th><th>status</th><th>tagline</th><th>title</th><th>video</th><th>vote_average</th><th>vote_count</th><th>Numero_Campos</th></tr><tr><td>str</td><td>str</td><td>str</td><td>str</td><td>str</td><td>str</td><td>str</td><td>str</td><td>str</td><td>str</td><td>str</td><td>str</td><td>str</td><td>str</td><td>str</td><td>str</td><td>str</td><td>str</td><td>str</td><td>str</td><td>str</td><td>str</td><td>str</td><td>str</td><td>i64</td></tr></thead><tbody><tr><td>&quot;False&quot;</td><td>&quot;{&#x27;id&#x27;: 10194, &#x27;name&#x27;: &#x27;Toy Sto…</td><td>&quot;30000000&quot;</td><td>&quot;[{&#x27;id&#x27;: 16, &#x27;name&#x27;: &#x27;Animation…</td><td>&quot;http://toystory.disney.com/toy…</td><td>&quot;862&quot;</td><td>&quot;tt0114709&quot;</td><td>&quot;en&quot;</td><td>&quot;Toy Story&quot;</td><td>&quot;Led by Woody, Andy&#x27;s toys live…</td><td>&quot;21.946943&quot;</td><td>&quot;/rhIRbceoE9lR4veEXuwCC2wARtG.j…</td><td>&quot;[{&#x27;name&#x27;: &#x27;Pixar Animation Stu…</td><td>&quot;[{&#x27;iso_3166_1&#x27;: &#x27;US&#x27;, &#x27;name&#x27;: …</td><td>&quot;1995-10-30&quot;</td><td>&quot;373554033&quot;</td><td>&quot;81.0&quot;</td><td>&quot;[{&#x27;iso_639_1&#x27;: &#x27;en&#x27;, &#x27;name&#x27;: &#x27;…</td><td>&quot;Released&quot;</td><td>&quot;&quot;</td><td>&quot;Toy Story&quot;</td><td>&quot;False&quot;</td><td>&quot;7.7&quot;</td><td>&quot;5415&quot;</td><td>24</td></tr></tbody></table></div>"
      ],
      "text/plain": [
       "shape: (1, 25)\n",
       "┌───────┬─────────────┬──────────┬─────────────┬───┬───────┬─────────────┬────────────┬────────────┐\n",
       "│ adult ┆ belongs_to_ ┆ budget   ┆ genres      ┆ … ┆ video ┆ vote_averag ┆ vote_count ┆ Numero_Cam │\n",
       "│ ---   ┆ collection  ┆ ---      ┆ ---         ┆   ┆ ---   ┆ e           ┆ ---        ┆ pos        │\n",
       "│ str   ┆ ---         ┆ str      ┆ str         ┆   ┆ str   ┆ ---         ┆ str        ┆ ---        │\n",
       "│       ┆ str         ┆          ┆             ┆   ┆       ┆ str         ┆            ┆ i64        │\n",
       "╞═══════╪═════════════╪══════════╪═════════════╪═══╪═══════╪═════════════╪════════════╪════════════╡\n",
       "│ False ┆ {'id':      ┆ 30000000 ┆ [{'id': 16, ┆ … ┆ False ┆ 7.7         ┆ 5415       ┆ 24         │\n",
       "│       ┆ 10194,      ┆          ┆ 'name':     ┆   ┆       ┆             ┆            ┆            │\n",
       "│       ┆ 'name':     ┆          ┆ 'Animation… ┆   ┆       ┆             ┆            ┆            │\n",
       "│       ┆ 'Toy Sto…   ┆          ┆             ┆   ┆       ┆             ┆            ┆            │\n",
       "└───────┴─────────────┴──────────┴─────────────┴───┴───────┴─────────────┴────────────┴────────────┘"
      ]
     },
     "execution_count": 6,
     "metadata": {},
     "output_type": "execute_result"
    }
   ],
   "source": [
    "movies = pl.DataFrame(data=data)\n",
    "print(movies.shape)\n",
    "movies.head(1)"
   ]
  },
  {
   "cell_type": "markdown",
   "metadata": {},
   "source": [
    "La Funcion `get_fields_from_line` además de obtener los datos de las columnas tambien agregó un campo a cada registro que indica el número de campos que se obtuvieron en el mismo. Al haber sido yo quien programó la función que extrae los datos, tengo seguridad de la calidad de los datos (pero solo de las lineas con 24 campos) La data venía con multiples Lineas incompletas, no solo de campos vacios, sino que tambien registros sin todos los campos. Por observacion algo mas detallada tambien vi que los registros que venían sin sus 24 campos a veces eran incluso una sola cadena de caracteres y en otros casos datos malos, que no merecen ser tomados en cuenta. Lo ideal, `en este caso específico` (y cada caso es distinto y hay que estudiarlo por separado), es que cada registro tenga 24 campos, ya que es la GRAN MAYORIA de los registros.\n"
   ]
  },
  {
   "cell_type": "code",
   "execution_count": 7,
   "metadata": {},
   "outputs": [
    {
     "name": "stdout",
     "output_type": "stream",
     "text": [
      "Cantidad de Registros con sus 24 campos --> 45010\n",
      "Porcentaje de Registros que NO TIENEN 24 campos --> 1.23 %\n"
     ]
    },
    {
     "data": {
      "text/html": [
       "<div><style>\n",
       ".dataframe > thead > tr,\n",
       ".dataframe > tbody > tr {\n",
       "  text-align: right;\n",
       "  white-space: pre-wrap;\n",
       "}\n",
       "</style>\n",
       "<small>shape: (21, 2)</small><table border=\"1\" class=\"dataframe\"><thead><tr><th>Numero_Campos</th><th>count</th></tr><tr><td>i64</td><td>u32</td></tr></thead><tbody><tr><td>22</td><td>1</td></tr><tr><td>4</td><td>9</td></tr><tr><td>11</td><td>1</td></tr><tr><td>20</td><td>148</td></tr><tr><td>13</td><td>12</td></tr><tr><td>&hellip;</td><td>&hellip;</td></tr><tr><td>24</td><td>45010</td></tr><tr><td>14</td><td>12</td></tr><tr><td>21</td><td>176</td></tr><tr><td>16</td><td>24</td></tr><tr><td>8</td><td>1</td></tr></tbody></table></div>"
      ],
      "text/plain": [
       "shape: (21, 2)\n",
       "┌───────────────┬───────┐\n",
       "│ Numero_Campos ┆ count │\n",
       "│ ---           ┆ ---   │\n",
       "│ i64           ┆ u32   │\n",
       "╞═══════════════╪═══════╡\n",
       "│ 22            ┆ 1     │\n",
       "│ 4             ┆ 9     │\n",
       "│ 11            ┆ 1     │\n",
       "│ 20            ┆ 148   │\n",
       "│ 13            ┆ 12    │\n",
       "│ …             ┆ …     │\n",
       "│ 24            ┆ 45010 │\n",
       "│ 14            ┆ 12    │\n",
       "│ 21            ┆ 176   │\n",
       "│ 16            ┆ 24    │\n",
       "│ 8             ┆ 1     │\n",
       "└───────────────┴───────┘"
      ]
     },
     "execution_count": 7,
     "metadata": {},
     "output_type": "execute_result"
    }
   ],
   "source": [
    "mask = movies['Numero_Campos'] == 24\n",
    "registros_totales = movies.shape[0]\n",
    "registros_con_24_campos = movies.filter(mask).shape[0]\n",
    "porcentaje_registros_incompletos =  round(100 * ((registros_totales - registros_con_24_campos) / registros_totales),2)\n",
    "\n",
    "print(f'Cantidad de Registros con sus 24 campos --> {registros_con_24_campos}')\n",
    "print(f'Porcentaje de Registros que NO TIENEN 24 campos --> {porcentaje_registros_incompletos} %')\n",
    "movies['Numero_Campos'].value_counts()"
   ]
  },
  {
   "cell_type": "markdown",
   "metadata": {},
   "source": [
    "Elimino las lineas que no tienen 24 campos"
   ]
  },
  {
   "cell_type": "code",
   "execution_count": 8,
   "metadata": {},
   "outputs": [],
   "source": [
    "mask = movies['Numero_Campos'] == 24\n",
    "movies = movies.filter(mask)"
   ]
  },
  {
   "cell_type": "markdown",
   "metadata": {},
   "source": [
    "La linea 10145 del dataset `movies_dataset.csv`, logró burlar el modesto algoritmo realizado para la extracción de los campos, al ser una linea con un solo texto, sin comillas dobles `\"` y con justo 23 comas `,`  <br>\n",
    "**Nota**: Pudiera dedicarle unas Horas (que pueden transformarse en un dia o algo mas) en perfeccionar el Algoritmo, pero basado en la Premisa `MVP` exigida en el archivo `README` de este proyecto, tambien en que fue una sola linea la que logró colarse, y sobretodo, en que esa linea es data basura, eliminaré el registro a PIE para ganar tiempo "
   ]
  },
  {
   "cell_type": "code",
   "execution_count": 9,
   "metadata": {},
   "outputs": [],
   "source": [
    "# Eliminando Fila de Malos Datos que se le coló al Algoritmo\n",
    "mask = movies['popularity'] != \" whose cynicism has been lifted by the boy's pure hope\"\n",
    "movies = movies.filter(mask)"
   ]
  },
  {
   "cell_type": "markdown",
   "metadata": {},
   "source": [
    "***\n",
    "# **Requerimientos ETL Exigidos en el Readme**"
   ]
  },
  {
   "cell_type": "markdown",
   "metadata": {},
   "source": [
    "### **Requerimiento**\n",
    "+ Eliminar las columnas que no serán utilizadas, **`video`**,**`imdb_id`**,**`adult`**,**`original_title`**,**`poster_path`** y **`homepage`**. <br>\n",
    "**Nota**: Se Eliminará también la columna `Numero_Campos`, ya que su único propósito era identificar las filas que no tenían los 24 campos, para Eliminarlas (y ya el objetivo fue cumplido)"
   ]
  },
  {
   "cell_type": "code",
   "execution_count": 10,
   "metadata": {},
   "outputs": [],
   "source": [
    "movies = movies.drop(['video', 'imdb_id', 'adult', 'original_title', 'poster_path', 'homepage', 'Numero_Campos'])"
   ]
  },
  {
   "cell_type": "markdown",
   "metadata": {},
   "source": [
    "***\n",
    "### **Requerimiento**\n",
    "+ Los valores nulos de los campos **`revenue`**, **`budget`** deben ser rellenados por el número **`0`**."
   ]
  },
  {
   "cell_type": "markdown",
   "metadata": {},
   "source": [
    "Nota: La función `get_fields_from_line` **NO RETORNO Valores Nulos, ni NAN**. Lo que devolvía en el `campo` cuando lo encontraba vacio fue `''` (Es decir: en este caso Nulo = \"\") Abajo se verá"
   ]
  },
  {
   "cell_type": "code",
   "execution_count": 11,
   "metadata": {},
   "outputs": [
    {
     "name": "stdout",
     "output_type": "stream",
     "text": [
      "Cantidad de Nulos --> 0   Columna --> belongs_to_collection\n",
      "Cantidad de \"\"--> 40553\n",
      "**************************************************\n",
      "Cantidad de Nulos --> 0   Columna --> budget\n",
      "Cantidad de \"\"--> 0\n",
      "**************************************************\n",
      "Cantidad de Nulos --> 0   Columna --> genres\n",
      "Cantidad de \"\"--> 0\n",
      "**************************************************\n",
      "Cantidad de Nulos --> 0   Columna --> id\n",
      "Cantidad de \"\"--> 0\n",
      "**************************************************\n",
      "Cantidad de Nulos --> 0   Columna --> original_language\n",
      "Cantidad de \"\"--> 11\n",
      "**************************************************\n",
      "Cantidad de Nulos --> 0   Columna --> overview\n",
      "Cantidad de \"\"--> 953\n",
      "**************************************************\n",
      "Cantidad de Nulos --> 0   Columna --> popularity\n",
      "Cantidad de \"\"--> 0\n",
      "**************************************************\n",
      "Cantidad de Nulos --> 0   Columna --> production_companies\n",
      "Cantidad de \"\"--> 0\n",
      "**************************************************\n",
      "Cantidad de Nulos --> 0   Columna --> production_countries\n",
      "Cantidad de \"\"--> 0\n",
      "**************************************************\n",
      "Cantidad de Nulos --> 0   Columna --> release_date\n",
      "Cantidad de \"\"--> 80\n",
      "**************************************************\n",
      "Cantidad de Nulos --> 0   Columna --> revenue\n",
      "Cantidad de \"\"--> 0\n",
      "**************************************************\n",
      "Cantidad de Nulos --> 0   Columna --> runtime\n",
      "Cantidad de \"\"--> 257\n",
      "**************************************************\n",
      "Cantidad de Nulos --> 0   Columna --> spoken_languages\n",
      "Cantidad de \"\"--> 0\n",
      "**************************************************\n",
      "Cantidad de Nulos --> 0   Columna --> status\n",
      "Cantidad de \"\"--> 79\n",
      "**************************************************\n",
      "Cantidad de Nulos --> 0   Columna --> tagline\n",
      "Cantidad de \"\"--> 24840\n",
      "**************************************************\n",
      "Cantidad de Nulos --> 0   Columna --> title\n",
      "Cantidad de \"\"--> 0\n",
      "**************************************************\n",
      "Cantidad de Nulos --> 0   Columna --> vote_average\n",
      "Cantidad de \"\"--> 0\n",
      "**************************************************\n",
      "Cantidad de Nulos --> 0   Columna --> vote_count\n",
      "Cantidad de \"\"--> 0\n",
      "**************************************************\n"
     ]
    }
   ],
   "source": [
    "for column in movies.columns:\n",
    "    mask = movies[column] == \"\"\n",
    "    print(f'Cantidad de Nulos --> {movies[column].is_null().sum()}   Columna --> {column}') # Sintaxis Normal para ver Nulos\n",
    "    print(f'Cantidad de \"\"--> {movies.filter(mask).shape[0]}') \n",
    "    print('*'*50)"
   ]
  },
  {
   "cell_type": "markdown",
   "metadata": {},
   "source": [
    "**Nota**: Para asignar 0 a un campo este debe ser númerico... Como Todavía NO he casteado las columnas a sus respectivos formatos aprovecharé de hacer ese paso primero "
   ]
  },
  {
   "cell_type": "code",
   "execution_count": 12,
   "metadata": {},
   "outputs": [],
   "source": [
    "# Como el único Campo Numerico que presenta valores '' (osea Nulos) \n",
    "# es runtime pasaré a '0' esos registros para poder castear luego\n",
    "movies = movies.with_columns(\n",
    "    pl.when(pl.col('runtime') == '').then(pl.lit('0')).otherwise(pl.col('runtime')).alias('runtime')\n",
    ")\n",
    "\n",
    "# CASTEANDO los campos Númericos\n",
    "movies = movies.with_columns([\n",
    "    pl.col('budget').cast(pl.Float32).alias('budget'),\n",
    "    pl.col('id').cast(pl.Int32).alias('id'),\n",
    "    pl.col('popularity').cast(pl.Float32).alias('popularity'),\n",
    "    pl.col('revenue').cast(pl.Float32).alias('revenue'),\n",
    "    pl.col('runtime').cast(pl.Float32).alias('runtime'),\n",
    "    pl.col('vote_average').cast(pl.Float32).alias('vote_average'),\n",
    "    pl.col('vote_count').cast(pl.Int32).alias('vote_count'),   \n",
    "])"
   ]
  },
  {
   "cell_type": "markdown",
   "metadata": {},
   "source": [
    "Con la Data extraída de esta manera `revenue` y `budget` no tienen valores nulos, pero al tratarse esto de un ETL con fines educativos, la Sintáxis para rellenar de ceros(0), los respectivos valores Nulos, de las columnas nombradas, se muestra en la siguiente celda<br>"
   ]
  },
  {
   "cell_type": "code",
   "execution_count": 13,
   "metadata": {},
   "outputs": [],
   "source": [
    "columns = ['revenue', 'budget']\n",
    "for column in columns:\n",
    "    movies = movies.with_columns(pl.col(column).fill_null(0))"
   ]
  },
  {
   "cell_type": "markdown",
   "metadata": {},
   "source": [
    "***\n",
    "### **Requerimiento**\n",
    "+ Los valores nulos del campo **`release date`** deben eliminarse. <br>\n",
    "Nota: En este caso NULO = \"\""
   ]
  },
  {
   "cell_type": "code",
   "execution_count": 14,
   "metadata": {},
   "outputs": [
    {
     "name": "stdout",
     "output_type": "stream",
     "text": [
      "Cantidad de Nulos ó \"\" --> 0\n"
     ]
    }
   ],
   "source": [
    "# Eliminando los registros con release_date = Nulo (osea = \"\")\n",
    "mask = movies['release_date'] != \"\"\n",
    "movies = movies.filter(mask)\n",
    "\n",
    "# Verificando que no queden Nulos\n",
    "mask = (movies['release_date'].is_null()) | (movies['release_date'] == \"\")\n",
    "print(f'Cantidad de Nulos ó \"\" --> {movies.filter(mask).shape[0]}')"
   ]
  },
  {
   "cell_type": "markdown",
   "metadata": {},
   "source": [
    "***\n",
    "### **Requerimiento**\n",
    "+ Crear la columna con el retorno de inversión, llamada **`return`** con los campos **`revenue`** y **`budget`**, dividiendo estas dos últimas **`revenue / budget`**, cuando no hay datos disponibles para calcularlo, deberá tomar el valor **`0`**."
   ]
  },
  {
   "cell_type": "code",
   "execution_count": 15,
   "metadata": {},
   "outputs": [],
   "source": [
    "# Nota: El denominador (en este caso `budget`) es el único que debe ser distinto de 0 para poder aplicar la formula\n",
    "# Cuando budget es distinto de 0 entonces `revenue`/`budget` en cualquier otro caso 0\n",
    "movies = movies.with_columns(\n",
    "    pl.when(pl.col('budget') != 0)\n",
    "      .then(pl.col('revenue') / pl.col('budget'))\n",
    "      .otherwise(pl.lit(0))\n",
    "      .alias('return')\n",
    ")"
   ]
  },
  {
   "cell_type": "code",
   "execution_count": 16,
   "metadata": {},
   "outputs": [
    {
     "data": {
      "text/html": [
       "<div><style>\n",
       ".dataframe > thead > tr,\n",
       ".dataframe > tbody > tr {\n",
       "  text-align: right;\n",
       "  white-space: pre-wrap;\n",
       "}\n",
       "</style>\n",
       "<small>shape: (1, 19)</small><table border=\"1\" class=\"dataframe\"><thead><tr><th>belongs_to_collection</th><th>budget</th><th>genres</th><th>id</th><th>original_language</th><th>overview</th><th>popularity</th><th>production_companies</th><th>production_countries</th><th>release_date</th><th>revenue</th><th>runtime</th><th>spoken_languages</th><th>status</th><th>tagline</th><th>title</th><th>vote_average</th><th>vote_count</th><th>return</th></tr><tr><td>str</td><td>f32</td><td>str</td><td>i32</td><td>str</td><td>str</td><td>f32</td><td>str</td><td>str</td><td>str</td><td>f32</td><td>f32</td><td>str</td><td>str</td><td>str</td><td>str</td><td>f32</td><td>i32</td><td>f32</td></tr></thead><tbody><tr><td>&quot;{&#x27;id&#x27;: 10194, &#x27;name&#x27;: &#x27;Toy Sto…</td><td>3e7</td><td>&quot;[{&#x27;id&#x27;: 16, &#x27;name&#x27;: &#x27;Animation…</td><td>862</td><td>&quot;en&quot;</td><td>&quot;Led by Woody, Andy&#x27;s toys live…</td><td>21.946943</td><td>&quot;[{&#x27;name&#x27;: &#x27;Pixar Animation Stu…</td><td>&quot;[{&#x27;iso_3166_1&#x27;: &#x27;US&#x27;, &#x27;name&#x27;: …</td><td>&quot;1995-10-30&quot;</td><td>3.73554048e8</td><td>81.0</td><td>&quot;[{&#x27;iso_639_1&#x27;: &#x27;en&#x27;, &#x27;name&#x27;: &#x27;…</td><td>&quot;Released&quot;</td><td>&quot;&quot;</td><td>&quot;Toy Story&quot;</td><td>7.7</td><td>5415</td><td>12.451801</td></tr></tbody></table></div>"
      ],
      "text/plain": [
       "shape: (1, 19)\n",
       "┌──────────────┬────────┬─────────────┬─────┬───┬───────────┬─────────────┬────────────┬───────────┐\n",
       "│ belongs_to_c ┆ budget ┆ genres      ┆ id  ┆ … ┆ title     ┆ vote_averag ┆ vote_count ┆ return    │\n",
       "│ ollection    ┆ ---    ┆ ---         ┆ --- ┆   ┆ ---       ┆ e           ┆ ---        ┆ ---       │\n",
       "│ ---          ┆ f32    ┆ str         ┆ i32 ┆   ┆ str       ┆ ---         ┆ i32        ┆ f32       │\n",
       "│ str          ┆        ┆             ┆     ┆   ┆           ┆ f32         ┆            ┆           │\n",
       "╞══════════════╪════════╪═════════════╪═════╪═══╪═══════════╪═════════════╪════════════╪═══════════╡\n",
       "│ {'id':       ┆ 3e7    ┆ [{'id': 16, ┆ 862 ┆ … ┆ Toy Story ┆ 7.7         ┆ 5415       ┆ 12.451801 │\n",
       "│ 10194,       ┆        ┆ 'name':     ┆     ┆   ┆           ┆             ┆            ┆           │\n",
       "│ 'name': 'Toy ┆        ┆ 'Animation… ┆     ┆   ┆           ┆             ┆            ┆           │\n",
       "│ Sto…         ┆        ┆             ┆     ┆   ┆           ┆             ┆            ┆           │\n",
       "└──────────────┴────────┴─────────────┴─────┴───┴───────────┴─────────────┴────────────┴───────────┘"
      ]
     },
     "execution_count": 16,
     "metadata": {},
     "output_type": "execute_result"
    }
   ],
   "source": [
    "movies.head(1)"
   ]
  },
  {
   "cell_type": "markdown",
   "metadata": {},
   "source": [
    "***\n",
    "### **Requerimiento**\n",
    "+ De haber fechas, deberán tener el formato **`AAAA-mm-dd`**, además deberán crear la columna **`release_year`** donde extraerán el año de la fecha de estreno."
   ]
  },
  {
   "cell_type": "code",
   "execution_count": 17,
   "metadata": {},
   "outputs": [],
   "source": [
    "# Casteando la Columna a Date\n",
    "movies = movies.with_columns(\n",
    "    pl.col('release_date').cast(pl.Date).alias('release_date')\n",
    ") "
   ]
  },
  {
   "cell_type": "markdown",
   "metadata": {},
   "source": [
    "Creando columna `release_year` <br>\n",
    "**Nota**: Aprovecharé de crear la columna `release_month` que tendrá el numero del mes del estreno y la columna `release_day_of_week` que tendrá el número del dia de la semana del estreno\n"
   ]
  },
  {
   "cell_type": "code",
   "execution_count": 18,
   "metadata": {},
   "outputs": [],
   "source": [
    "movies = movies.with_columns([\n",
    "        pl.col(\"release_date\").dt.year().alias(\"release_year\"), # Año\n",
    "        pl.col(\"release_date\").dt.month().alias(\"release_month\"), # Número del mes\n",
    "        pl.col(\"release_date\").dt.weekday().alias(\"release_day_of_week\"), # Número de dia en la semana\n",
    "    ])"
   ]
  },
  {
   "cell_type": "markdown",
   "metadata": {},
   "source": [
    "***\n",
    "- Necesito crear una Columna con el `Nombre del Mes en Español` de los Estrenos y otra con el `Nombre del dia en Español`"
   ]
  },
  {
   "cell_type": "code",
   "execution_count": 19,
   "metadata": {},
   "outputs": [],
   "source": [
    "movies = movies.with_columns(\n",
    "    name_of_month = pl.when(pl.col('release_month') == 1).then(pl.lit(\"ENERO\"))\n",
    "                      .when(pl.col('release_month') == 2).then(pl.lit(\"FEBRERO\"))\n",
    "                      .when(pl.col('release_month') == 3).then(pl.lit(\"MARZO\"))\n",
    "                      .when(pl.col('release_month') == 4).then(pl.lit(\"ABRIL\"))\n",
    "                      .when(pl.col('release_month') == 5).then(pl.lit(\"MAYO\"))\n",
    "                      .when(pl.col('release_month') == 6).then(pl.lit(\"JUNIO\"))\n",
    "                      .when(pl.col('release_month') == 7).then(pl.lit(\"JULIO\"))\n",
    "                      .when(pl.col('release_month') == 8).then(pl.lit(\"AGOSTO\"))\n",
    "                      .when(pl.col('release_month') == 9).then(pl.lit(\"SEPTIEMBRE\"))\n",
    "                      .when(pl.col('release_month') == 10).then(pl.lit(\"OCTUBRE\"))\n",
    "                      .when(pl.col('release_month') == 11).then(pl.lit(\"NOVIEMBRE\"))\n",
    "                      .otherwise(pl.lit('DICIEMBRE'))\n",
    ")"
   ]
  },
  {
   "cell_type": "code",
   "execution_count": 20,
   "metadata": {},
   "outputs": [],
   "source": [
    "movies = movies.with_columns(\n",
    "    name_of_day = pl.when(pl.col('release_day_of_week') == 1).then(pl.lit(\"LUNES\"))\n",
    "                    .when(pl.col('release_day_of_week') == 2).then(pl.lit(\"MARTES\"))\n",
    "                    .when(pl.col('release_day_of_week') == 3).then(pl.lit(\"MIERCOLES\"))\n",
    "                    .when(pl.col('release_day_of_week') == 4).then(pl.lit(\"JUEVES\"))\n",
    "                    .when(pl.col('release_day_of_week') == 5).then(pl.lit(\"VIERNES\"))\n",
    "                    .when(pl.col('release_day_of_week') == 6).then(pl.lit(\"SABADO\"))\n",
    "                    .otherwise(pl.lit('DOMINGO'))\n",
    ")"
   ]
  },
  {
   "cell_type": "code",
   "execution_count": 21,
   "metadata": {},
   "outputs": [
    {
     "data": {
      "text/html": [
       "<div><style>\n",
       ".dataframe > thead > tr,\n",
       ".dataframe > tbody > tr {\n",
       "  text-align: right;\n",
       "  white-space: pre-wrap;\n",
       "}\n",
       "</style>\n",
       "<small>shape: (5, 24)</small><table border=\"1\" class=\"dataframe\"><thead><tr><th>belongs_to_collection</th><th>budget</th><th>genres</th><th>id</th><th>original_language</th><th>overview</th><th>popularity</th><th>production_companies</th><th>production_countries</th><th>release_date</th><th>revenue</th><th>runtime</th><th>spoken_languages</th><th>status</th><th>tagline</th><th>title</th><th>vote_average</th><th>vote_count</th><th>return</th><th>release_year</th><th>release_month</th><th>release_day_of_week</th><th>name_of_month</th><th>name_of_day</th></tr><tr><td>str</td><td>f32</td><td>str</td><td>i32</td><td>str</td><td>str</td><td>f32</td><td>str</td><td>str</td><td>date</td><td>f32</td><td>f32</td><td>str</td><td>str</td><td>str</td><td>str</td><td>f32</td><td>i32</td><td>f32</td><td>i32</td><td>i8</td><td>i8</td><td>str</td><td>str</td></tr></thead><tbody><tr><td>&quot;{&#x27;id&#x27;: 10194, &#x27;name&#x27;: &#x27;Toy Sto…</td><td>3e7</td><td>&quot;[{&#x27;id&#x27;: 16, &#x27;name&#x27;: &#x27;Animation…</td><td>862</td><td>&quot;en&quot;</td><td>&quot;Led by Woody, Andy&#x27;s toys live…</td><td>21.946943</td><td>&quot;[{&#x27;name&#x27;: &#x27;Pixar Animation Stu…</td><td>&quot;[{&#x27;iso_3166_1&#x27;: &#x27;US&#x27;, &#x27;name&#x27;: …</td><td>1995-10-30</td><td>3.73554048e8</td><td>81.0</td><td>&quot;[{&#x27;iso_639_1&#x27;: &#x27;en&#x27;, &#x27;name&#x27;: &#x27;…</td><td>&quot;Released&quot;</td><td>&quot;&quot;</td><td>&quot;Toy Story&quot;</td><td>7.7</td><td>5415</td><td>12.451801</td><td>1995</td><td>10</td><td>1</td><td>&quot;OCTUBRE&quot;</td><td>&quot;LUNES&quot;</td></tr><tr><td>&quot;&quot;</td><td>6.5e7</td><td>&quot;[{&#x27;id&#x27;: 12, &#x27;name&#x27;: &#x27;Adventure…</td><td>8844</td><td>&quot;en&quot;</td><td>&quot;When siblings Judy and Peter d…</td><td>17.015539</td><td>&quot;[{&#x27;name&#x27;: &#x27;TriStar Pictures&#x27;, …</td><td>&quot;[{&#x27;iso_3166_1&#x27;: &#x27;US&#x27;, &#x27;name&#x27;: …</td><td>1995-12-15</td><td>2.62797248e8</td><td>104.0</td><td>&quot;[{&#x27;iso_639_1&#x27;: &#x27;en&#x27;, &#x27;name&#x27;: &#x27;…</td><td>&quot;Released&quot;</td><td>&quot;Roll the dice and unleash the …</td><td>&quot;Jumanji&quot;</td><td>6.9</td><td>2413</td><td>4.043035</td><td>1995</td><td>12</td><td>5</td><td>&quot;DICIEMBRE&quot;</td><td>&quot;VIERNES&quot;</td></tr><tr><td>&quot;{&#x27;id&#x27;: 119050, &#x27;name&#x27;: &#x27;Grumpy…</td><td>0.0</td><td>&quot;[{&#x27;id&#x27;: 10749, &#x27;name&#x27;: &#x27;Romanc…</td><td>15602</td><td>&quot;en&quot;</td><td>&quot;A family wedding reignites the…</td><td>11.7129</td><td>&quot;[{&#x27;name&#x27;: &#x27;Warner Bros.&#x27;, &#x27;id&#x27;…</td><td>&quot;[{&#x27;iso_3166_1&#x27;: &#x27;US&#x27;, &#x27;name&#x27;: …</td><td>1995-12-22</td><td>0.0</td><td>101.0</td><td>&quot;[{&#x27;iso_639_1&#x27;: &#x27;en&#x27;, &#x27;name&#x27;: &#x27;…</td><td>&quot;Released&quot;</td><td>&quot;Still Yelling. Still Fighting.…</td><td>&quot;Grumpier Old Men&quot;</td><td>6.5</td><td>92</td><td>0.0</td><td>1995</td><td>12</td><td>5</td><td>&quot;DICIEMBRE&quot;</td><td>&quot;VIERNES&quot;</td></tr><tr><td>&quot;&quot;</td><td>1.6e7</td><td>&quot;[{&#x27;id&#x27;: 35, &#x27;name&#x27;: &#x27;Comedy&#x27;},…</td><td>31357</td><td>&quot;en&quot;</td><td>&quot;Cheated on, mistreated and ste…</td><td>3.859495</td><td>&quot;[{&#x27;name&#x27;: &#x27;Twentieth Century F…</td><td>&quot;[{&#x27;iso_3166_1&#x27;: &#x27;US&#x27;, &#x27;name&#x27;: …</td><td>1995-12-22</td><td>8.145216e7</td><td>127.0</td><td>&quot;[{&#x27;iso_639_1&#x27;: &#x27;en&#x27;, &#x27;name&#x27;: &#x27;…</td><td>&quot;Released&quot;</td><td>&quot;Friends are the people who let…</td><td>&quot;Waiting to Exhale&quot;</td><td>6.1</td><td>34</td><td>5.09076</td><td>1995</td><td>12</td><td>5</td><td>&quot;DICIEMBRE&quot;</td><td>&quot;VIERNES&quot;</td></tr><tr><td>&quot;{&#x27;id&#x27;: 96871, &#x27;name&#x27;: &#x27;Father …</td><td>0.0</td><td>&quot;[{&#x27;id&#x27;: 35, &#x27;name&#x27;: &#x27;Comedy&#x27;}]&quot;</td><td>11862</td><td>&quot;en&quot;</td><td>&quot;Just when George Banks has rec…</td><td>8.387519</td><td>&quot;[{&#x27;name&#x27;: &#x27;Sandollar Productio…</td><td>&quot;[{&#x27;iso_3166_1&#x27;: &#x27;US&#x27;, &#x27;name&#x27;: …</td><td>1995-02-10</td><td>7.6578912e7</td><td>106.0</td><td>&quot;[{&#x27;iso_639_1&#x27;: &#x27;en&#x27;, &#x27;name&#x27;: &#x27;…</td><td>&quot;Released&quot;</td><td>&quot;Just When His World Is Back To…</td><td>&quot;Father of the Bride Part II&quot;</td><td>5.7</td><td>173</td><td>0.0</td><td>1995</td><td>2</td><td>5</td><td>&quot;FEBRERO&quot;</td><td>&quot;VIERNES&quot;</td></tr></tbody></table></div>"
      ],
      "text/plain": [
       "shape: (5, 24)\n",
       "┌────────────┬────────┬────────────┬───────┬───┬────────────┬────────────┬────────────┬────────────┐\n",
       "│ belongs_to ┆ budget ┆ genres     ┆ id    ┆ … ┆ release_mo ┆ release_da ┆ name_of_mo ┆ name_of_da │\n",
       "│ _collectio ┆ ---    ┆ ---        ┆ ---   ┆   ┆ nth        ┆ y_of_week  ┆ nth        ┆ y          │\n",
       "│ n          ┆ f32    ┆ str        ┆ i32   ┆   ┆ ---        ┆ ---        ┆ ---        ┆ ---        │\n",
       "│ ---        ┆        ┆            ┆       ┆   ┆ i8         ┆ i8         ┆ str        ┆ str        │\n",
       "│ str        ┆        ┆            ┆       ┆   ┆            ┆            ┆            ┆            │\n",
       "╞════════════╪════════╪════════════╪═══════╪═══╪════════════╪════════════╪════════════╪════════════╡\n",
       "│ {'id':     ┆ 3e7    ┆ [{'id':    ┆ 862   ┆ … ┆ 10         ┆ 1          ┆ OCTUBRE    ┆ LUNES      │\n",
       "│ 10194,     ┆        ┆ 16,        ┆       ┆   ┆            ┆            ┆            ┆            │\n",
       "│ 'name':    ┆        ┆ 'name':    ┆       ┆   ┆            ┆            ┆            ┆            │\n",
       "│ 'Toy Sto…  ┆        ┆ 'Animation ┆       ┆   ┆            ┆            ┆            ┆            │\n",
       "│            ┆        ┆ …          ┆       ┆   ┆            ┆            ┆            ┆            │\n",
       "│            ┆ 6.5e7  ┆ [{'id':    ┆ 8844  ┆ … ┆ 12         ┆ 5          ┆ DICIEMBRE  ┆ VIERNES    │\n",
       "│            ┆        ┆ 12,        ┆       ┆   ┆            ┆            ┆            ┆            │\n",
       "│            ┆        ┆ 'name':    ┆       ┆   ┆            ┆            ┆            ┆            │\n",
       "│            ┆        ┆ 'Adventure ┆       ┆   ┆            ┆            ┆            ┆            │\n",
       "│            ┆        ┆ …          ┆       ┆   ┆            ┆            ┆            ┆            │\n",
       "│ {'id':     ┆ 0.0    ┆ [{'id':    ┆ 15602 ┆ … ┆ 12         ┆ 5          ┆ DICIEMBRE  ┆ VIERNES    │\n",
       "│ 119050,    ┆        ┆ 10749,     ┆       ┆   ┆            ┆            ┆            ┆            │\n",
       "│ 'name':    ┆        ┆ 'name':    ┆       ┆   ┆            ┆            ┆            ┆            │\n",
       "│ 'Grumpy…   ┆        ┆ 'Romanc…   ┆       ┆   ┆            ┆            ┆            ┆            │\n",
       "│            ┆ 1.6e7  ┆ [{'id':    ┆ 31357 ┆ … ┆ 12         ┆ 5          ┆ DICIEMBRE  ┆ VIERNES    │\n",
       "│            ┆        ┆ 35,        ┆       ┆   ┆            ┆            ┆            ┆            │\n",
       "│            ┆        ┆ 'name':    ┆       ┆   ┆            ┆            ┆            ┆            │\n",
       "│            ┆        ┆ 'Comedy'}, ┆       ┆   ┆            ┆            ┆            ┆            │\n",
       "│            ┆        ┆ …          ┆       ┆   ┆            ┆            ┆            ┆            │\n",
       "│ {'id':     ┆ 0.0    ┆ [{'id':    ┆ 11862 ┆ … ┆ 2          ┆ 5          ┆ FEBRERO    ┆ VIERNES    │\n",
       "│ 96871,     ┆        ┆ 35,        ┆       ┆   ┆            ┆            ┆            ┆            │\n",
       "│ 'name':    ┆        ┆ 'name':    ┆       ┆   ┆            ┆            ┆            ┆            │\n",
       "│ 'Father …  ┆        ┆ 'Comedy'}] ┆       ┆   ┆            ┆            ┆            ┆            │\n",
       "└────────────┴────────┴────────────┴───────┴───┴────────────┴────────────┴────────────┴────────────┘"
      ]
     },
     "execution_count": 21,
     "metadata": {},
     "output_type": "execute_result"
    }
   ],
   "source": [
    "movies.head()"
   ]
  },
  {
   "cell_type": "markdown",
   "metadata": {},
   "source": [
    "***\n",
    "# **Trabajando en Funciones de la API**"
   ]
  },
  {
   "cell_type": "markdown",
   "metadata": {},
   "source": [
    "\n",
    "## **Trabajando en `cantidad_filmaciones_mes`**"
   ]
  },
  {
   "cell_type": "markdown",
   "metadata": {},
   "source": [
    "**REQUERIMIENTO DE LA FUNCION**<br>\n",
    "Se ingresa un `mes en idioma Español`. Debe devolver la `cantidad de películas` que fueron estrenadas en el mes consultado en la totalidad del dataset."
   ]
  },
  {
   "cell_type": "code",
   "execution_count": 22,
   "metadata": {},
   "outputs": [
    {
     "data": {
      "text/html": [
       "<div><style>\n",
       ".dataframe > thead > tr,\n",
       ".dataframe > tbody > tr {\n",
       "  text-align: right;\n",
       "  white-space: pre-wrap;\n",
       "}\n",
       "</style>\n",
       "<small>shape: (12, 2)</small><table border=\"1\" class=\"dataframe\"><thead><tr><th>month</th><th>cantidad_peliculas</th></tr><tr><td>str</td><td>i64</td></tr></thead><tbody><tr><td>&quot;JULIO&quot;</td><td>2612</td></tr><tr><td>&quot;ENERO&quot;</td><td>5858</td></tr><tr><td>&quot;OCTUBRE&quot;</td><td>4563</td></tr><tr><td>&quot;AGOSTO&quot;</td><td>3358</td></tr><tr><td>&quot;MARZO&quot;</td><td>3513</td></tr><tr><td>&hellip;</td><td>&hellip;</td></tr><tr><td>&quot;JUNIO&quot;</td><td>3106</td></tr><tr><td>&quot;ABRIL&quot;</td><td>3423</td></tr><tr><td>&quot;FEBRERO&quot;</td><td>3006</td></tr><tr><td>&quot;NOVIEMBRE&quot;</td><td>3626</td></tr><tr><td>&quot;DICIEMBRE&quot;</td><td>3754</td></tr></tbody></table></div>"
      ],
      "text/plain": [
       "shape: (12, 2)\n",
       "┌───────────┬────────────────────┐\n",
       "│ month     ┆ cantidad_peliculas │\n",
       "│ ---       ┆ ---                │\n",
       "│ str       ┆ i64                │\n",
       "╞═══════════╪════════════════════╡\n",
       "│ JULIO     ┆ 2612               │\n",
       "│ ENERO     ┆ 5858               │\n",
       "│ OCTUBRE   ┆ 4563               │\n",
       "│ AGOSTO    ┆ 3358               │\n",
       "│ MARZO     ┆ 3513               │\n",
       "│ …         ┆ …                  │\n",
       "│ JUNIO     ┆ 3106               │\n",
       "│ ABRIL     ┆ 3423               │\n",
       "│ FEBRERO   ┆ 3006               │\n",
       "│ NOVIEMBRE ┆ 3626               │\n",
       "│ DICIEMBRE ┆ 3754               │\n",
       "└───────────┴────────────────────┘"
      ]
     },
     "execution_count": 22,
     "metadata": {},
     "output_type": "execute_result"
    }
   ],
   "source": [
    "# Obtengo una lista con los nombres de los meses \n",
    "months = movies['name_of_month'].unique().to_list()\n",
    "\n",
    "# Cada fila se mete (en cada iteracion) en un diccionario llamado `row` y estos a su vez en una lista llamada `data`\n",
    "data = []\n",
    "for month in months:\n",
    "    row = {}\n",
    "    # Filtrando el diccionario con el mes de la iteracion en curso\n",
    "    mask = movies['name_of_month'] == month\n",
    "    row['month'] = month\n",
    "    row['cantidad_peliculas'] = movies.filter(mask).shape[0]\n",
    "    data.append(row)\n",
    "    \n",
    "cantidad_filmaciones_mes = pl.DataFrame(data=data)\n",
    "cantidad_filmaciones_mes"
   ]
  },
  {
   "cell_type": "markdown",
   "metadata": {},
   "source": [
    "Esta tablita de 12 filas y 2 columnas responde la necesidad de la Primera funcion de la Api"
   ]
  },
  {
   "cell_type": "code",
   "execution_count": 65,
   "metadata": {},
   "outputs": [],
   "source": [
    "cantidad_filmaciones_mes.write_parquet(\"data/data_api/api_01_cantidad_filmaciones_mes.parquet\")"
   ]
  },
  {
   "cell_type": "markdown",
   "metadata": {},
   "source": [
    "***\n",
    "## **Trabajando en `cantidad_filmaciones_dia`**"
   ]
  },
  {
   "cell_type": "markdown",
   "metadata": {},
   "source": [
    "**REQUERIMIENTO DE LA FUNCION**<br>\n",
    "Se ingresa un `día en idioma Español`. Debe devolver la `cantidad de películas` que fueron estrenadas en `día consultado` en la totalidad del dataset."
   ]
  },
  {
   "cell_type": "code",
   "execution_count": 23,
   "metadata": {},
   "outputs": [
    {
     "data": {
      "text/html": [
       "<div><style>\n",
       ".dataframe > thead > tr,\n",
       ".dataframe > tbody > tr {\n",
       "  text-align: right;\n",
       "  white-space: pre-wrap;\n",
       "}\n",
       "</style>\n",
       "<small>shape: (7, 2)</small><table border=\"1\" class=\"dataframe\"><thead><tr><th>day</th><th>cantidad_peliculas</th></tr><tr><td>str</td><td>i64</td></tr></thead><tbody><tr><td>&quot;LUNES&quot;</td><td>3483</td></tr><tr><td>&quot;JUEVES&quot;</td><td>7460</td></tr><tr><td>&quot;SABADO&quot;</td><td>5096</td></tr><tr><td>&quot;MIERCOLES&quot;</td><td>6955</td></tr><tr><td>&quot;VIERNES&quot;</td><td>13786</td></tr><tr><td>&quot;MARTES&quot;</td><td>4578</td></tr><tr><td>&quot;DOMINGO&quot;</td><td>3571</td></tr></tbody></table></div>"
      ],
      "text/plain": [
       "shape: (7, 2)\n",
       "┌───────────┬────────────────────┐\n",
       "│ day       ┆ cantidad_peliculas │\n",
       "│ ---       ┆ ---                │\n",
       "│ str       ┆ i64                │\n",
       "╞═══════════╪════════════════════╡\n",
       "│ LUNES     ┆ 3483               │\n",
       "│ JUEVES    ┆ 7460               │\n",
       "│ SABADO    ┆ 5096               │\n",
       "│ MIERCOLES ┆ 6955               │\n",
       "│ VIERNES   ┆ 13786              │\n",
       "│ MARTES    ┆ 4578               │\n",
       "│ DOMINGO   ┆ 3571               │\n",
       "└───────────┴────────────────────┘"
      ]
     },
     "execution_count": 23,
     "metadata": {},
     "output_type": "execute_result"
    }
   ],
   "source": [
    "days = movies['name_of_day'].unique().to_list()\n",
    "\n",
    "# Cada fila se mete (en cada iteracion) en un diccionario llamado `row` y estos a su vez en una lista llamada `data`\n",
    "data = []\n",
    "for day in days:\n",
    "    row = {}\n",
    "    mask = movies['name_of_day'] == day\n",
    "    row['day'] = day\n",
    "    row['cantidad_peliculas'] = movies.filter(mask).shape[0]\n",
    "    data.append(row)\n",
    "\n",
    "cantidad_filmaciones_dia = pl.DataFrame(data=data)\n",
    "cantidad_filmaciones_dia"
   ]
  },
  {
   "cell_type": "markdown",
   "metadata": {},
   "source": [
    "Esta tablita de 7 x 2 responde las necesidades de la Segunda funcion de la Api"
   ]
  },
  {
   "cell_type": "code",
   "execution_count": 67,
   "metadata": {},
   "outputs": [],
   "source": [
    "cantidad_filmaciones_dia.write_parquet('data/data_api/api_02_cantidad_filmaciones_dia.parquet')"
   ]
  },
  {
   "cell_type": "markdown",
   "metadata": {},
   "source": [
    "***\n",
    "## **Trabajando en `score_titulo` y `votos_titulo`**"
   ]
  },
  {
   "cell_type": "markdown",
   "metadata": {},
   "source": [
    "**REQUERIMIENTO DE LAS FUNCIONES**<br>\n",
    "- `score_titulo`:\n",
    "    - Se ingresa el título de una filmación esperando como respuesta el título, el año de estreno y el score\n",
    "- `votos_titulo`:\n",
    "    - Se ingresa el `título` de una filmación esperando como respuesta el `título`, la `cantidad de votos` y el `valor promedio de las votaciones`. La misma variable deberá de contar con al menos `2000 valoraciones`, caso contrario, debemos contar con un mensaje avisando que no cumple esta condición y que por ende, no se devuelve ningun valor."
   ]
  },
  {
   "cell_type": "code",
   "execution_count": 24,
   "metadata": {},
   "outputs": [
    {
     "data": {
      "text/html": [
       "<div><style>\n",
       ".dataframe > thead > tr,\n",
       ".dataframe > tbody > tr {\n",
       "  text-align: right;\n",
       "  white-space: pre-wrap;\n",
       "}\n",
       "</style>\n",
       "<small>shape: (5, 5)</small><table border=\"1\" class=\"dataframe\"><thead><tr><th>title</th><th>vote_count</th><th>vote_average</th><th>release_year</th><th>popularity</th></tr><tr><td>str</td><td>i32</td><td>f32</td><td>i32</td><td>f32</td></tr></thead><tbody><tr><td>&quot;TOY STORY&quot;</td><td>5415</td><td>7.7</td><td>1995</td><td>21.946943</td></tr><tr><td>&quot;JUMANJI&quot;</td><td>2413</td><td>6.9</td><td>1995</td><td>17.015539</td></tr><tr><td>&quot;GRUMPIER OLD MEN&quot;</td><td>92</td><td>6.5</td><td>1995</td><td>11.7129</td></tr><tr><td>&quot;WAITING TO EXHALE&quot;</td><td>34</td><td>6.1</td><td>1995</td><td>3.859495</td></tr><tr><td>&quot;FATHER OF THE BRIDE PART II&quot;</td><td>173</td><td>5.7</td><td>1995</td><td>8.387519</td></tr></tbody></table></div>"
      ],
      "text/plain": [
       "shape: (5, 5)\n",
       "┌─────────────────────────────┬────────────┬──────────────┬──────────────┬────────────┐\n",
       "│ title                       ┆ vote_count ┆ vote_average ┆ release_year ┆ popularity │\n",
       "│ ---                         ┆ ---        ┆ ---          ┆ ---          ┆ ---        │\n",
       "│ str                         ┆ i32        ┆ f32          ┆ i32          ┆ f32        │\n",
       "╞═════════════════════════════╪════════════╪══════════════╪══════════════╪════════════╡\n",
       "│ TOY STORY                   ┆ 5415       ┆ 7.7          ┆ 1995         ┆ 21.946943  │\n",
       "│ JUMANJI                     ┆ 2413       ┆ 6.9          ┆ 1995         ┆ 17.015539  │\n",
       "│ GRUMPIER OLD MEN            ┆ 92         ┆ 6.5          ┆ 1995         ┆ 11.7129    │\n",
       "│ WAITING TO EXHALE           ┆ 34         ┆ 6.1          ┆ 1995         ┆ 3.859495   │\n",
       "│ FATHER OF THE BRIDE PART II ┆ 173        ┆ 5.7          ┆ 1995         ┆ 8.387519   │\n",
       "└─────────────────────────────┴────────────┴──────────────┴──────────────┴────────────┘"
      ]
     },
     "execution_count": 24,
     "metadata": {},
     "output_type": "execute_result"
    }
   ],
   "source": [
    "score_votos_titulo = movies[['title', 'vote_count', 'vote_average', 'release_year', 'popularity']]\n",
    "# Pasaré a Mayusculas y eliminaré posibles espacios en blanco al principio o final del titulo\n",
    "score_votos_titulo = score_votos_titulo.with_columns(\n",
    "    pl.col('title').str.to_uppercase().str.strip_chars().alias('title')\n",
    ")\n",
    "score_votos_titulo.head()"
   ]
  },
  {
   "cell_type": "markdown",
   "metadata": {},
   "source": [
    "### **Como sería la Lógica para obtener la respuesta requerida para `score_titulo`**\n"
   ]
  },
  {
   "cell_type": "code",
   "execution_count": 25,
   "metadata": {},
   "outputs": [
    {
     "name": "stdout",
     "output_type": "stream",
     "text": [
      "titulo --> toy StOrY\n",
      "año --> 1995\n",
      "popularidad/score --> 21.946943283081055\n",
      "La Película toy StOrY fue estrenada el año 1995 cuenta con una popularidad de 21.946943283081055\n",
      "**************************************************\n",
      "status_code=404, detail=\"INCORRECTO\"\n",
      "**************************************************\n"
     ]
    }
   ],
   "source": [
    "\"\"\"\n",
    "# Caso 1:\n",
    "#  toy StOrY --> muestra la informacion requerida de la pelicula\n",
    "# Caso 2:\n",
    "#  TOYE STORY --> está mal escrita arroja error de busqueda\n",
    "\"\"\"\n",
    "\n",
    "titulos_filmaciones = ['toy StOrY', 'TOYE STORY']\n",
    "\n",
    "for titulo_filmacion in titulos_filmaciones:\n",
    "    mask = score_votos_titulo[\"title\"] == titulo_filmacion.strip().upper()\n",
    "    try:\n",
    "        popularity = score_votos_titulo.filter(mask)[\"popularity\"][0]\n",
    "        year = score_votos_titulo.filter(mask)[\"release_year\"][0]\n",
    "        \n",
    "        message = f\"\"\"La Película {titulo_filmacion} fue estrenada el año {year} cuenta con una popularidad de {popularity}\"\"\"\n",
    "        print(f'titulo --> {titulo_filmacion}')\n",
    "        print(f'año --> {year}')\n",
    "        print(f'popularidad/score --> {popularity}')\n",
    "    except IndexError:\n",
    "        message = 'status_code=404, detail=\"INCORRECTO\"'\n",
    "    finally:\n",
    "        print(message)\n",
    "        print('*'*50)\n",
    "        \n",
    "# NOTA: logicamente en FastApi las respuesta se envian dentro de Clases que heredan de BaseModel de la Libreria\n",
    "#       pydantic como lo sugiere la documentacion oficial de FastApi. "
   ]
  },
  {
   "cell_type": "markdown",
   "metadata": {},
   "source": [
    "### **Como sería la Lógica para obtener la respuesta requerida para `votos_titulo`**"
   ]
  },
  {
   "cell_type": "code",
   "execution_count": 26,
   "metadata": {},
   "outputs": [
    {
     "name": "stdout",
     "output_type": "stream",
     "text": [
      "vote_count --> 5415\n",
      "vote_average --> 7.699999809265137\n",
      "La Película toy StOrY fue estrenada el año 1995 cuenta con un total de 5415 valoraciones, con un promedio de 7.699999809265137\n",
      "**************************************************\n",
      "status_code=404, detail=\"INCORRECTO\"\n",
      "**************************************************\n",
      "La Película GRUMPIER OLD MEN no cuenta con 2000 valoraciones por ende no se muestra data\n",
      "**************************************************\n"
     ]
    }
   ],
   "source": [
    "\"\"\"\n",
    "# Casos 1:\n",
    "#  toy StOrY --> muestra la informacion requerida de la pelicula\n",
    "# Casos 2:\n",
    "#  TOYE STORY --> está mal escrita arroja error de busqueda\n",
    "# Casos 3:\n",
    "#  GRUMPIER OLD MEN --> No alcanza las 2000 valoraciones devuelve el mensaje acordado\n",
    "\"\"\"\n",
    "\n",
    "titulos_filmaciones = ['toy StOrY', 'TOYE STORY', 'GRUMPIER OLD MEN' ]\n",
    "\n",
    "for titulo_filmacion in titulos_filmaciones:\n",
    "    mask = score_votos_titulo[\"title\"] == titulo_filmacion.strip().upper()\n",
    "    try:\n",
    "        vote_count = score_votos_titulo.filter(mask)[\"vote_count\"][0]\n",
    "        vote_average = score_votos_titulo.filter(mask)[\"vote_average\"][0]\n",
    "        year = score_votos_titulo.filter(mask)[\"release_year\"][0]\n",
    "        if vote_count >= 2000:\n",
    "            message = f\"\"\"La Película {titulo_filmacion} fue estrenada el año {year} cuenta con un total de {vote_count} valoraciones, con un promedio de {vote_average}\"\"\"\n",
    "            print(f'vote_count --> {vote_count}')\n",
    "            print(f'vote_average --> {vote_average}')\n",
    "        else:\n",
    "            message = f\"La Película {titulo_filmacion} no cuenta con 2000 valoraciones por ende no se muestra data\"\n",
    "        print(message)\n",
    "    except IndexError:\n",
    "        print('status_code=404, detail=\"INCORRECTO\"')\n",
    "    finally:\n",
    "        print('*'*50)\n",
    "        \n",
    "# NOTA: logicamente en FastApi las respuesta se envian dentro de Clases que heredan de BaseModel de la Libreria\n",
    "#       pydantic como lo sugiere la documentacion oficial de FastApi. \n",
    "        "
   ]
  },
  {
   "cell_type": "code",
   "execution_count": 74,
   "metadata": {},
   "outputs": [],
   "source": [
    "score_votos_titulo.write_parquet('data/data_api/api_03_04_titulos.parquet')"
   ]
  },
  {
   "cell_type": "markdown",
   "metadata": {},
   "source": [
    "***\n",
    "## **Trabajando en `get_actor`**"
   ]
  },
  {
   "cell_type": "markdown",
   "metadata": {},
   "source": [
    "**REQUERIMIENTO DE LA FUNCION**<br>\n",
    "Se ingresa el nombre de un `actor` que se encuentre dentro de un dataset debiendo devolver el `éxito del mismo` medido a través del `retorno`. Además, la `cantidad de películas` que en las que ha participado y el `promedio de retorno`. La definición no deberá considerar directores.<br>\n",
    "\n",
    "\n",
    "**NOTA:** Para poder cumplir con lo exígido por esta función debo traer data del dataset `credit.csv` procesada para este fin en concreto, en el archivo `actores.parquet`."
   ]
  },
  {
   "cell_type": "code",
   "execution_count": 27,
   "metadata": {},
   "outputs": [
    {
     "data": {
      "text/html": [
       "<div><style>\n",
       ".dataframe > thead > tr,\n",
       ".dataframe > tbody > tr {\n",
       "  text-align: right;\n",
       "  white-space: pre-wrap;\n",
       "}\n",
       "</style>\n",
       "<small>shape: (1, 6)</small><table border=\"1\" class=\"dataframe\"><thead><tr><th>id_actor</th><th>actor</th><th>movies</th><th>number_of_movies</th><th>total_return</th><th>number_movies_found</th></tr><tr><td>i64</td><td>str</td><td>list[i64]</td><td>i64</td><td>f64</td><td>i32</td></tr></thead><tbody><tr><td>120646</td><td>&quot;NINO FRASSICA&quot;</td><td>[25846, 37710, … 320316]</td><td>8</td><td>0.0</td><td>0</td></tr></tbody></table></div>"
      ],
      "text/plain": [
       "shape: (1, 6)\n",
       "┌──────────┬───────────────┬──────────────────┬──────────────────┬──────────────┬──────────────────┐\n",
       "│ id_actor ┆ actor         ┆ movies           ┆ number_of_movies ┆ total_return ┆ number_movies_fo │\n",
       "│ ---      ┆ ---           ┆ ---              ┆ ---              ┆ ---          ┆ und              │\n",
       "│ i64      ┆ str           ┆ list[i64]        ┆ i64              ┆ f64          ┆ ---              │\n",
       "│          ┆               ┆                  ┆                  ┆              ┆ i32              │\n",
       "╞══════════╪═══════════════╪══════════════════╪══════════════════╪══════════════╪══════════════════╡\n",
       "│ 120646   ┆ NINO FRASSICA ┆ [25846, 37710, … ┆ 8                ┆ 0.0          ┆ 0                │\n",
       "│          ┆               ┆ 320316]          ┆                  ┆              ┆                  │\n",
       "└──────────┴───────────────┴──────────────────┴──────────────────┴──────────────┴──────────────────┘"
      ]
     },
     "execution_count": 27,
     "metadata": {},
     "output_type": "execute_result"
    }
   ],
   "source": [
    "actores_df = pl.read_parquet('data/actores.parquet')\n",
    "# Creo la Columna `total_return` y la casteo a Float64\n",
    "actores_df = actores_df.with_columns(pl.lit(0).alias('total_return'))\n",
    "actores_df = actores_df.with_columns(pl.col(\"total_return\").cast(pl.Float64).alias('total_return'))\n",
    "\n",
    "actores_df = actores_df.with_columns(pl.lit(0).alias('number_movies_found'))\n",
    "\n",
    "actores_df.head(1)\n",
    "# Nota: en el Campo `movies` hay una lista con los id de las películas en que a participado cada actor"
   ]
  },
  {
   "cell_type": "code",
   "execution_count": 28,
   "metadata": {},
   "outputs": [],
   "source": [
    "# Obtengo la Lista de actores y lo llevo a la variable actores\n",
    "actores = actores_df['actor'].to_list()\n",
    "\n",
    "for actor in actores:\n",
    "    mask = actores_df['actor'] == actor\n",
    "    # Obtengo la lista de Peliculas en que a trabajado cada actor\n",
    "    movies_list = actores_df.filter(mask)['movies'][0].to_list()\n",
    "\n",
    "    # en la variable list_movies_found Borrare las movies_id que aparecen en credits.csv \n",
    "    # pero que no estan en movies_dataset.csv\n",
    "    list_movies_found = movies_list.copy()\n",
    "\n",
    "    total_return = 0\n",
    "    for movie_id in movies_list:\n",
    "        # filtro mi dataframe `movies` con las peliculas en que a trabaja el actor de la respectiva iteracion\n",
    "        mask = movies['id'] == movie_id\n",
    "        \n",
    "        # Si no aparece en movies se rompe, arroja error, salto la operacion y en except borro ese id de los encontrados\n",
    "        try:\n",
    "          total_return += movies.filter(mask)['return'][0]\n",
    "        except:\n",
    "          list_movies_found.remove(movie_id)  \n",
    "\n",
    "    number_movies_found = len(list_movies_found)\n",
    "    \n",
    "    actores_df = actores_df.with_columns(\n",
    "        pl.when(pl.col('actor') == actor)\n",
    "          .then(pl.lit(total_return))\n",
    "          .otherwise(pl.col('total_return'))\n",
    "          .alias('total_return')\n",
    "    )\n",
    "\n",
    "    actores_df = actores_df.with_columns(\n",
    "        pl.when(pl.col('actor') == actor)\n",
    "          .then(pl.lit(number_movies_found))\n",
    "          .otherwise(pl.col('number_movies_found'))\n",
    "          .alias('number_movies_found')\n",
    "    )"
   ]
  },
  {
   "cell_type": "markdown",
   "metadata": {},
   "source": [
    "**NOTA**: En el paso anterior sume todos los retornos, y lo guardé en `total_return`.  El numero de peliculas en la que actua (segun credit.csv), no lo tomaré en cuenta para el calculo del average, dado que hay ocaciones donde un actor tiene `N` ids de películas según el Dataset `credit.csv`, pero en el dataset `movies_dataset.csv` existen sólo (`N-1` ó `N-2`..etc) peliculas (son pocos los casos, pero los hay).   Esos `Poquísimos` casos son los que atrapa el `except del Bloque anterior` y utilizo una nueva variable llamada `number_movies_found` para ser mas preciso en el `promedio de retornos` "
   ]
  },
  {
   "cell_type": "markdown",
   "metadata": {},
   "source": [
    "Creo el promedio de los retornos"
   ]
  },
  {
   "cell_type": "code",
   "execution_count": 29,
   "metadata": {},
   "outputs": [
    {
     "data": {
      "text/html": [
       "<div><style>\n",
       ".dataframe > thead > tr,\n",
       ".dataframe > tbody > tr {\n",
       "  text-align: right;\n",
       "  white-space: pre-wrap;\n",
       "}\n",
       "</style>\n",
       "<small>shape: (1, 7)</small><table border=\"1\" class=\"dataframe\"><thead><tr><th>id_actor</th><th>actor</th><th>movies</th><th>number_of_movies</th><th>total_return</th><th>number_movies_found</th><th>average_return</th></tr><tr><td>i64</td><td>str</td><td>list[i64]</td><td>i64</td><td>f64</td><td>i32</td><td>f64</td></tr></thead><tbody><tr><td>120646</td><td>&quot;NINO FRASSICA&quot;</td><td>[25846, 37710, … 320316]</td><td>8</td><td>5.287314</td><td>8</td><td>0.660914</td></tr></tbody></table></div>"
      ],
      "text/plain": [
       "shape: (1, 7)\n",
       "┌──────────┬──────────┬───────────┬────────────────┬───────────────┬───────────────┬───────────────┐\n",
       "│ id_actor ┆ actor    ┆ movies    ┆ number_of_movi ┆ total_return  ┆ number_movies ┆ average_retur │\n",
       "│ ---      ┆ ---      ┆ ---       ┆ es             ┆ ---           ┆ _found        ┆ n             │\n",
       "│ i64      ┆ str      ┆ list[i64] ┆ ---            ┆ f64           ┆ ---           ┆ ---           │\n",
       "│          ┆          ┆           ┆ i64            ┆               ┆ i32           ┆ f64           │\n",
       "╞══════════╪══════════╪═══════════╪════════════════╪═══════════════╪═══════════════╪═══════════════╡\n",
       "│ 120646   ┆ NINO     ┆ [25846,   ┆ 8              ┆ 5.287314      ┆ 8             ┆ 0.660914      │\n",
       "│          ┆ FRASSICA ┆ 37710, …  ┆                ┆               ┆               ┆               │\n",
       "│          ┆          ┆ 320316]   ┆                ┆               ┆               ┆               │\n",
       "└──────────┴──────────┴───────────┴────────────────┴───────────────┴───────────────┴───────────────┘"
      ]
     },
     "execution_count": 29,
     "metadata": {},
     "output_type": "execute_result"
    }
   ],
   "source": [
    "# Obviamente el denominador no puede ser 0\n",
    "# Cuando `number_movies_found` > 0 entonces `total_return`/`number_movies_found` en otro caso 0\n",
    "actores_df = actores_df.with_columns(\n",
    "    pl.when(pl.col('number_movies_found') > 0)\n",
    "      .then(pl.col('total_return') / pl.col('number_movies_found'))\n",
    "      .otherwise(pl.lit(0))\n",
    "      .alias('average_return')\n",
    ")\n",
    "actores_df.head(1)"
   ]
  },
  {
   "cell_type": "markdown",
   "metadata": {},
   "source": [
    "### **Como sería la Lógica para obtener la respuesta requerida**"
   ]
  },
  {
   "cell_type": "code",
   "execution_count": 30,
   "metadata": {},
   "outputs": [
    {
     "name": "stdout",
     "output_type": "stream",
     "text": [
      "actor --> HaRRison fOrd\n",
      "number_movies  --> 58\n",
      "total_return --> 434.92924922704697\n",
      "average_return --> 7.4987801590870165\n",
      "El actor HaRRison fOrd ha participado de 58 filmaciones, con un retorno de 434.92924922704697 con un promedio de 7.4987801590870165\n",
      "**************************************************\n",
      "HTTPException(status_code=404, detail=\"INCORRECTO\")\n",
      "**************************************************\n"
     ]
    }
   ],
   "source": [
    "# En este caso Muestra la información del Primero, pero arrojar error de busqueda en el segundo `Harrisonn` le sobra una `n`\n",
    "nombres_actores = ['HaRRison fOrd', 'Harrisonn ford']\n",
    "\n",
    "for nombre_actor in nombres_actores:\n",
    "    mask = actores_df[\"actor\"] == nombre_actor.strip().upper()\n",
    "    try:\n",
    "        # El actor X ha participado de X cantidad de filmaciones, el mismo ha conseguido un \n",
    "        # retorno de X con un promedio de X por filmación\n",
    "        number_movies = actores_df.filter(mask)[\"number_of_movies\"][0]\n",
    "        total_return = actores_df.filter(mask)[\"total_return\"][0]\n",
    "        average_return = actores_df.filter(mask)[\"average_return\"][0]\n",
    "        print(f'actor --> {nombre_actor}')\n",
    "        print(f'number_movies  --> {number_movies}')\n",
    "        print(f'total_return --> {total_return}')\n",
    "        print(f'average_return --> {average_return}')\n",
    "        message = f'El actor {nombre_actor} ha participado de {number_movies} filmaciones, con un retorno de {total_return} con un promedio de {average_return}'\n",
    "    except IndexError:\n",
    "        message = 'HTTPException(status_code=404, detail=\"INCORRECTO\")'\n",
    "\n",
    "    finally:\n",
    "        print(message)\n",
    "        print('*'*50)\n",
    "\n",
    "# Nota: Obviamente Ajustando Esto a FastApi"
   ]
  },
  {
   "cell_type": "code",
   "execution_count": 79,
   "metadata": {},
   "outputs": [],
   "source": [
    "actores_df.write_parquet('data/data_api/api_05_get_actor.parquet')"
   ]
  },
  {
   "cell_type": "markdown",
   "metadata": {},
   "source": [
    "***\n",
    "## **Trabajando en `get_director`**"
   ]
  },
  {
   "cell_type": "markdown",
   "metadata": {},
   "source": [
    "**REQUERIMIENTO DE LA FUNCION**<br>\n",
    "Se ingresa el `nombre de un director` que se encuentre dentro de un dataset debiendo devolver el `éxito del mismo medido a través del retorno`. Además, deberá devolver el `nombre de cada película` con la `fecha de lanzamiento`, `retorno individual`, `costo` y `ganancia` de la misma.<br>\n",
    "\n",
    "\n",
    "**NOTA:** Para poder cumplir con lo exígido por esta función debo traer data del dataset `credit.csv` procesada para este fin en concreto `directores.parquet`."
   ]
  },
  {
   "cell_type": "code",
   "execution_count": 31,
   "metadata": {},
   "outputs": [],
   "source": [
    "director = pl.read_parquet('data/directores.parquet')\n",
    "get_director = movies[['id', 'title', 'release_date', 'revenue', 'budget', 'return']]\n",
    "get_director.columns = ['id', 'title', 'release_date', 'revenue', 'budget', 'returned']\n",
    "\n",
    "# Grabo la data de las peliculas solo con lo requerido\n",
    "get_director.write_parquet('data/data_api/api_06_get_director.parquet')"
   ]
  },
  {
   "cell_type": "markdown",
   "metadata": {},
   "source": [
    "Para esta Función de la API se hace mas práctivo manejar la información en dos tablas o archivos `parquet`\n",
    "- api_06_get_director.parquet\n",
    "- directores.parquet"
   ]
  },
  {
   "cell_type": "markdown",
   "metadata": {},
   "source": [
    "### **Como sería la Lógica para obtener la respuesta requerida**"
   ]
  },
  {
   "cell_type": "code",
   "execution_count": 32,
   "metadata": {},
   "outputs": [
    {
     "name": "stdout",
     "output_type": "stream",
     "text": [
      "HTTPException status_code=404, detail=\"INCORRECTO\"\n",
      "**************************************************\n",
      "Nombre del Director --> StevEn SpIeLberg\n",
      "Total Return --> 309.99810791015625\n",
      "PELICULAS INDIVIDUALES\n",
      "{'id': 329, 'title': 'Jurassic Park', 'release_date': datetime.date(1993, 6, 11), 'revenue': 920099968.0, 'budget': 63000000.0, 'returned': 14.604761123657227}\n",
      "{'id': 424, 'title': \"Schindler's List\", 'release_date': datetime.date(1993, 11, 29), 'revenue': 321365568.0, 'budget': 22000000.0, 'returned': 14.607525825500488}\n",
      "{'id': 601, 'title': 'E.T. the Extra-Terrestrial', 'release_date': datetime.date(1982, 4, 3), 'revenue': 792965312.0, 'budget': 10500000.0, 'returned': 75.5205078125}\n",
      "{'id': 85, 'title': 'Raiders of the Lost Ark', 'release_date': datetime.date(1981, 6, 12), 'revenue': 389925984.0, 'budget': 18000000.0, 'returned': 21.662553787231445}\n",
      "{'id': 89, 'title': 'Indiana Jones and the Last Crusade', 'release_date': datetime.date(1989, 5, 24), 'revenue': 474171808.0, 'budget': 48000000.0, 'returned': 9.878579139709473}\n",
      "{'id': 578, 'title': 'Jaws', 'release_date': datetime.date(1975, 6, 18), 'revenue': 470654016.0, 'budget': 7000000.0, 'returned': 67.23628997802734}\n",
      "{'id': 330, 'title': 'The Lost World: Jurassic Park', 'release_date': datetime.date(1997, 5, 23), 'revenue': 229074528.0, 'budget': 73000000.0, 'returned': 3.138007164001465}\n",
      "{'id': 11831, 'title': 'Amistad', 'release_date': datetime.date(1997, 12, 3), 'revenue': 74000000.0, 'budget': 36000000.0, 'returned': 2.055555582046509}\n",
      "{'id': 857, 'title': 'Saving Private Ryan', 'release_date': datetime.date(1998, 7, 24), 'revenue': 481840896.0, 'budget': 70000000.0, 'returned': 6.88344144821167}\n",
      "{'id': 87, 'title': 'Indiana Jones and the Temple of Doom', 'release_date': datetime.date(1984, 5, 23), 'revenue': 333000000.0, 'budget': 28000000.0, 'returned': 11.892857551574707}\n",
      "{'id': 873, 'title': 'The Color Purple', 'release_date': datetime.date(1985, 12, 18), 'revenue': 146292016.0, 'budget': 15000000.0, 'returned': 9.752800941467285}\n",
      "{'id': 840, 'title': 'Close Encounters of the Third Kind', 'release_date': datetime.date(1977, 11, 16), 'revenue': 303788640.0, 'budget': 20000000.0, 'returned': 15.189432144165039}\n",
      "{'id': 879, 'title': 'Hook', 'release_date': datetime.date(1991, 12, 11), 'revenue': 300854816.0, 'budget': 70000000.0, 'returned': 4.29792594909668}\n",
      "{'id': 5121, 'title': 'The Sugarland Express', 'release_date': datetime.date(1974, 4, 5), 'revenue': 12800000.0, 'budget': 3000000.0, 'returned': 4.266666889190674}\n",
      "{'id': 10110, 'title': 'Empire of the Sun', 'release_date': datetime.date(1987, 12, 9), 'revenue': 22238696.0, 'budget': 35000000.0, 'returned': 0.6353912949562073}\n",
      "{'id': 644, 'title': 'A.I. Artificial Intelligence', 'release_date': datetime.date(2001, 6, 29), 'revenue': 235926560.0, 'budget': 100000000.0, 'returned': 2.3592655658721924}\n",
      "{'id': 11352, 'title': 'Always', 'release_date': datetime.date(1989, 12, 22), 'revenue': 74134792.0, 'budget': 31000000.0, 'returned': 2.3914449214935303}\n",
      "{'id': 180, 'title': 'Minority Report', 'release_date': datetime.date(2002, 6, 20), 'revenue': 358372928.0, 'budget': 102000000.0, 'returned': 3.513460159301758}\n",
      "{'id': 640, 'title': 'Catch Me If You Can', 'release_date': datetime.date(2002, 12, 25), 'revenue': 352114304.0, 'budget': 52000000.0, 'returned': 6.771429061889648}\n",
      "{'id': 11519, 'title': '1941', 'release_date': datetime.date(1979, 12, 13), 'revenue': 31755742.0, 'budget': 35000000.0, 'returned': 0.9073069095611572}\n",
      "{'id': 594, 'title': 'The Terminal', 'release_date': datetime.date(2004, 6, 17), 'revenue': 219417248.0, 'budget': 60000000.0, 'returned': 3.656954050064087}\n",
      "{'id': 839, 'title': 'Duel', 'release_date': datetime.date(1972, 10, 1), 'revenue': 0.0, 'budget': 450000.0, 'returned': 0.0}\n",
      "{'id': 15301, 'title': 'Twilight Zone: The Movie', 'release_date': datetime.date(1983, 6, 24), 'revenue': 29450920.0, 'budget': 10000000.0, 'returned': 2.945091962814331}\n",
      "{'id': 74, 'title': 'War of the Worlds', 'release_date': datetime.date(2005, 6, 28), 'revenue': 591739392.0, 'budget': 132000000.0, 'returned': 4.482874393463135}\n",
      "{'id': 612, 'title': 'Munich', 'release_date': datetime.date(2005, 12, 22), 'revenue': 130358912.0, 'budget': 70000000.0, 'returned': 1.8622701168060303}\n",
      "{'id': 217, 'title': 'Indiana Jones and the Kingdom of the Crystal Skull', 'release_date': datetime.date(2008, 5, 21), 'revenue': 786636032.0, 'budget': 185000000.0, 'returned': 4.252086639404297}\n",
      "{'id': 17578, 'title': 'The Adventures of Tintin', 'release_date': datetime.date(2011, 10, 25), 'revenue': 371940064.0, 'budget': 130000000.0, 'returned': 2.861077308654785}\n",
      "{'id': 57212, 'title': 'War Horse', 'release_date': datetime.date(2011, 12, 25), 'revenue': 177584880.0, 'budget': 66000000.0, 'returned': 2.6906800270080566}\n",
      "{'id': 72976, 'title': 'Lincoln', 'release_date': datetime.date(2012, 11, 9), 'revenue': 275293440.0, 'budget': 65000000.0, 'returned': 4.235283851623535}\n",
      "{'id': 296098, 'title': 'Bridge of Spies', 'release_date': datetime.date(2015, 10, 15), 'revenue': 165478352.0, 'budget': 40000000.0, 'returned': 4.136958599090576}\n",
      "{'id': 267935, 'title': 'The BFG', 'release_date': datetime.date(2016, 6, 1), 'revenue': 183345584.0, 'budget': 140000000.0, 'returned': 1.3096113204956055}\n",
      "{'id': 85483, 'title': 'Something Evil', 'release_date': datetime.date(1972, 1, 21), 'revenue': 0.0, 'budget': 0.0, 'returned': 0.0}\n",
      "**************************************************\n"
     ]
    }
   ],
   "source": [
    "# este caso el primero no lo va a encontrar porque esta mal escrito (Stevens) sobra la `s` final y arroja error.\n",
    "# el segundo si lo localiza y muestra la información\n",
    "nombres_directores = ['Stevens Spielberg', 'StevEn SpIeLberg']\n",
    "\n",
    "for nombre_director in nombres_directores:\n",
    "    try:\n",
    "        # Obteniendo la lista de id de peliculas de la tabla directores\n",
    "        mask = director[\"director\"] == nombre_director.strip().upper()\n",
    "        movies_list = director.filter(mask)[\"movies\"].to_list()[0]\n",
    "\n",
    "        # Filtrando la tabla get_director y obteniendo la informacion\n",
    "        mask = get_director[\"id\"].is_in(movies_list)\n",
    "        requiered_movies = get_director.filter(mask).to_dicts()\n",
    "        total_return = get_director.filter(mask)[\"returned\"].sum()\n",
    "\n",
    "        print(f'Nombre del Director --> {nombre_director}')\n",
    "        print(f'Total Return --> {total_return}')\n",
    "        print('PELICULAS INDIVIDUALES')\n",
    "        for i in range(len(requiered_movies)):\n",
    "            print(requiered_movies[i])\n",
    "\n",
    "    except IndexError:\n",
    "        print('HTTPException status_code=404, detail=\"INCORRECTO\"')\n",
    "    finally:\n",
    "        print('*'*50)"
   ]
  },
  {
   "cell_type": "markdown",
   "metadata": {},
   "source": [
    "Grabo la data movie en un archivo para poder utilizarlo en el procesamiento para Normalizar y Modelo"
   ]
  },
  {
   "cell_type": "code",
   "execution_count": 31,
   "metadata": {},
   "outputs": [],
   "source": [
    "movies.write_parquet('data/movies.parquet')"
   ]
  }
 ],
 "metadata": {
  "kernelspec": {
   "display_name": "venv_labs",
   "language": "python",
   "name": "python3"
  },
  "language_info": {
   "codemirror_mode": {
    "name": "ipython",
    "version": 3
   },
   "file_extension": ".py",
   "mimetype": "text/x-python",
   "name": "python",
   "nbconvert_exporter": "python",
   "pygments_lexer": "ipython3",
   "version": "3.10.11"
  }
 },
 "nbformat": 4,
 "nbformat_minor": 2
}
