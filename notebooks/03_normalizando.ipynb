{
 "cells": [
  {
   "cell_type": "markdown",
   "metadata": {},
   "source": [
    "# **Objetivo del Cuaderno Jupyter**\n",
    "\n",
    "- Desempaquetar las columnas anidadas de `movies_dataset.csv` y traer datos de `actores.parquet` y `directores.parquet`, con el fin de consolidar todas las `posibles` variables predictoras en un solo dataframe. Al final de este cuaderno Jupyter obtendremos una tabla con la estructura que muestra la imagen<br>\n",
    "\n",
    "<img src='assets/movies_empezar_modelar.png'><br>\n",
    "\n",
    "**Nota**: Los campos sombreados amarillo son los que desanidaremos en este cuaderno y basicamente quedaran con Ids de sus respectivos campos cuya información estará en otras tablas.  Los campos que están sombreados de verde son campos nuevos para el dataset, producto de las modificaciones en los Cuadernos Jupyter anteriores o la información de Directores y actores añadidas al final de este cuaderno.\n",
    "\n",
    "- `Para poder dejar` de manera numerica la mayoría de los campos que modificamos o incluímos, `tenemos que guardar esos datos` en algún lado, por sí se necesitan mas adelante, por mi persona o cualquier persona que necesite realizar análisis de estos datos.  Abajo esta un esquema gráfico de las tablas que se crearon EN ESTE cuaderno.<br>\n",
    "\n",
    "<img src='assets/tablas_nuevas_cuaderno_3.png'><br>\n",
    "\n",
    "\n",
    "### A tomar en cuenta:\n",
    "- No es un EDR de TODA la Data, le faltaría las tablas de Actores y Directores y sus respectivas tablas intermedias, ya que tanto actores como directores, supondrían relaciones de N:N contra movies, además, de otros datos que se encuentran en cast.parquet y crew.parquet...  \n",
    "- Simplemente es una manera de saber donde encontrar la información de todo lo que se desanida en este Cuaderno por sí se necesita mas adelante, o lo necesita otra persona.<br>"
   ]
  },
  {
   "cell_type": "code",
   "execution_count": 4,
   "metadata": {},
   "outputs": [],
   "source": [
    "import polars as pl"
   ]
  },
  {
   "cell_type": "markdown",
   "metadata": {},
   "source": [
    "### Función `return_string_without_doubles` \n",
    "- Recibe cadenas con pequeños errores de sintaxis que dificultan la labor de `eval` y los corrige <br>\n",
    "- Leer Docstring para entender su comportamineto"
   ]
  },
  {
   "cell_type": "code",
   "execution_count": 1,
   "metadata": {},
   "outputs": [],
   "source": [
    "def return_string_without_doubles(cadena:str) -> str:\n",
    "    \"\"\" return_string_without_doubles: Recibe una cadena que representa una lista de diccionarios\n",
    "                                       (con errores sutiles, que rompen la funcion eval() de python)\n",
    "                                        y los corrige. Buscando asi obtener Toda la Data posible\n",
    "                                       \n",
    "    Nota: En este caso Tanto comentario en codigo lo puede volver confuso. Preferí una documentación mas \n",
    "          completa en el docstring. Aposté (como siempre) por nombres de variables explicativos, sobre todo\n",
    "          en aquellas del tipo `bool` que uso mucho en los condicionales, tratando de que el codigo sea lo \n",
    "          mas pythonico posible, para su mejor comprensión.                                                                \n",
    "    \n",
    "    Que Hace el Codigo: Por favor preste atención a los ejemplos explicados en las proximas lineas,\n",
    "                        esto dará una comprensión de que hace el codigo \n",
    "    \n",
    "     EJEMPLO 1   \n",
    "     RECIBE:   [{\\'name\\': \\'Canal+\\', \\'id\\': 5358}, {\\'name\\': \\'Zespól Filmowy \"\"Tor\"\"\\', \\'id\\': 7984}]                     \n",
    "     ERROR:   (El error son las \" que rodean a \"\"Tor\"\")\n",
    "     DEVUELVE: [{'name': 'Canal+', 'id': 5358}, {'name': 'Zespól Filmowy  Tor  ', 'id': 7984}] \n",
    "\n",
    "     EJEMPLO 2\n",
    "     RECIBE:   [{\\'name\\': \\'Procirep\\', \\'id\\': 311}, {\\'name\\': \"\"Club d\\'Investissement Média\"\", \\'id\\': 8170}]                                    \n",
    "     ERROR:    (El error es \"\"Club d\\'Investissement Média\"\")\n",
    "     DEVUELVE: [{'name': 'Procirep', 'id': 311}, {'name': 'Club d`Investissement Média', 'id': 8170}]                                      \n",
    "     NOTA: la comilla que hace papel de apostrofe en d'Investissement  la cambio por un backtick ` despues \n",
    "           en un Dataframe puedo volver a reemplazar o dejarlo asi. Obvio que aca tambien el problema era las \"\" \n",
    "                             \n",
    "\n",
    "    Variables:\n",
    "    index: va recorriendo la linea\n",
    "    two_double_open: si es True, estoy corrigiendo algo como lo del ejemplo 2\n",
    "    single_open: si es True y aparece una \"  estoy en precencia de un caso como el ejemplo 1                    \n",
    "\n",
    "    Args:\n",
    "        cadena (str): String que representa una lista de Diccionarios\n",
    "\n",
    "    Returns:\n",
    "        str: String que representa una lista de Diccionarios Corregida\n",
    "    \"\"\"\n",
    "    cadena_list = list(cadena)\n",
    "    # La variable de abajo Me indica si hay un minibloque entre \"\" abierto   \n",
    "    two_double_open = False \n",
    "    # La variable de abajo Me indica si hay un minibloque entre ' abierto\n",
    "    single_open = False      \n",
    "    for index in range(len(cadena_list)):\n",
    "        if cadena_list[index] == '\"' and not two_double_open and not single_open:\n",
    "            if cadena_list[index+1] == '\"':\n",
    "                cadena_list[index] = \" \"\n",
    "                cadena_list[index+1] = \"'\"\n",
    "                two_double_open = True\n",
    "                marcador = index\n",
    "        elif cadena_list[index] == \"'\" and not two_double_open and not single_open:\n",
    "            single_open = True\n",
    "        elif cadena_list[index] == \"'\" and single_open:\n",
    "            single_open = False\n",
    "        elif cadena_list[index] == '\"' and single_open:\n",
    "            cadena_list[index] = ' '        \n",
    "        elif cadena_list[index] == \"'\" and two_double_open and index > (marcador + 1):\n",
    "            cadena_list[index] = '`'\n",
    "        elif cadena_list[index] == '\"' and two_double_open:\n",
    "            cadena_list[index] = \"'\"\n",
    "            cadena_list[index+1] = \" \"\n",
    "            two_double_open = False\n",
    "        elif cadena_list[index] == '\\\\':\n",
    "            cadena_list[index] = ' '\n",
    "    cadena_return = ''.join(cadena_list[:])\n",
    "    return cadena_return "
   ]
  },
  {
   "cell_type": "markdown",
   "metadata": {},
   "source": [
    "### Probando la Funcion `return_string_without_doubles`"
   ]
  },
  {
   "cell_type": "code",
   "execution_count": 3,
   "metadata": {},
   "outputs": [
    {
     "name": "stdout",
     "output_type": "stream",
     "text": [
      "[{'name': 'Canal+', 'id': 5358}, {'name': 'Zespól Filmowy   Tor  ', 'id': 7984}]\n",
      "[{'name': 'Procirep', 'id': 311}, {'name':  'Club d`Investissement Média' , 'id': 8170}]\n"
     ]
    }
   ],
   "source": [
    "cadena_enviada = '[{\\'name\\': \\'Canal+\\', \\'id\\': 5358}, {\\'name\\': \\'Zespól Filmowy \"\"Tor\"\"\\', \\'id\\': 7984}]'\n",
    "cadena_recibida = return_string_without_doubles(cadena_enviada)\n",
    "\n",
    "cadena_enviada_2 = '[{\\'name\\': \\'Procirep\\', \\'id\\': 311}, {\\'name\\': \"\"Club d\\'Investissement Média\"\", \\'id\\': 8170}]'\n",
    "cadena_recibida_2  = return_string_without_doubles(cadena_enviada_2)\n",
    "\n",
    "print(cadena_recibida)\n",
    "print(cadena_recibida_2)"
   ]
  },
  {
   "cell_type": "markdown",
   "metadata": {},
   "source": [
    "## **IMPORTANTE**\n",
    "Necesito el archivo `movies.parquet` tal cual fue procesado en el Cuaderno Anterior.  La celda de abajo lo que hace es traer una copia de es archivo, por sí no logró ejecutar por alguna razón todas las celdas de los anteriores cuadernos Jupyter"
   ]
  },
  {
   "cell_type": "code",
   "execution_count": 2,
   "metadata": {},
   "outputs": [
    {
     "name": "stderr",
     "output_type": "stream",
     "text": [
      "Downloading...\n",
      "From: https://drive.google.com/uc?export=download&id=1fRagZ5PKQce8RPnCb-9jAR6IXebJmi5K\n",
      "To: d:\\BOOTCAMP-HENRY\\MODULO-07-LABS\\data\\movies.parquet\n",
      "100%|██████████| 8.45M/8.45M [00:01<00:00, 7.54MB/s]\n"
     ]
    },
    {
     "data": {
      "text/plain": [
       "'data/movies.parquet'"
      ]
     },
     "execution_count": 2,
     "metadata": {},
     "output_type": "execute_result"
    }
   ],
   "source": [
    "import gdown\n",
    "\n",
    "url = 'https://drive.google.com/uc?export=download&id=1fRagZ5PKQce8RPnCb-9jAR6IXebJmi5K'\n",
    "\n",
    "gdown.download(url, 'data/movies.parquet', quiet=False)"
   ]
  },
  {
   "cell_type": "code",
   "execution_count": 5,
   "metadata": {},
   "outputs": [
    {
     "data": {
      "text/html": [
       "<div><style>\n",
       ".dataframe > thead > tr,\n",
       ".dataframe > tbody > tr {\n",
       "  text-align: right;\n",
       "  white-space: pre-wrap;\n",
       "}\n",
       "</style>\n",
       "<small>shape: (5, 24)</small><table border=\"1\" class=\"dataframe\"><thead><tr><th>belongs_to_collection</th><th>budget</th><th>genres</th><th>id</th><th>original_language</th><th>overview</th><th>popularity</th><th>production_companies</th><th>production_countries</th><th>release_date</th><th>revenue</th><th>runtime</th><th>spoken_languages</th><th>status</th><th>tagline</th><th>title</th><th>vote_average</th><th>vote_count</th><th>return</th><th>release_year</th><th>release_month</th><th>release_day_of_week</th><th>name_of_month</th><th>name_of_day</th></tr><tr><td>str</td><td>f32</td><td>str</td><td>i32</td><td>str</td><td>str</td><td>f32</td><td>str</td><td>str</td><td>date</td><td>f32</td><td>f32</td><td>str</td><td>str</td><td>str</td><td>str</td><td>f32</td><td>i32</td><td>f32</td><td>i32</td><td>i8</td><td>i8</td><td>str</td><td>str</td></tr></thead><tbody><tr><td>&quot;{&#x27;id&#x27;: 10194, &#x27;name&#x27;: &#x27;Toy Sto…</td><td>3e7</td><td>&quot;[{&#x27;id&#x27;: 16, &#x27;name&#x27;: &#x27;Animation…</td><td>862</td><td>&quot;en&quot;</td><td>&quot;Led by Woody, Andy&#x27;s toys live…</td><td>21.946943</td><td>&quot;[{&#x27;name&#x27;: &#x27;Pixar Animation Stu…</td><td>&quot;[{&#x27;iso_3166_1&#x27;: &#x27;US&#x27;, &#x27;name&#x27;: …</td><td>1995-10-30</td><td>3.73554048e8</td><td>81.0</td><td>&quot;[{&#x27;iso_639_1&#x27;: &#x27;en&#x27;, &#x27;name&#x27;: &#x27;…</td><td>&quot;Released&quot;</td><td>&quot;&quot;</td><td>&quot;Toy Story&quot;</td><td>7.7</td><td>5415</td><td>12.451801</td><td>1995</td><td>10</td><td>1</td><td>&quot;OCTUBRE&quot;</td><td>&quot;LUNES&quot;</td></tr><tr><td>&quot;&quot;</td><td>6.5e7</td><td>&quot;[{&#x27;id&#x27;: 12, &#x27;name&#x27;: &#x27;Adventure…</td><td>8844</td><td>&quot;en&quot;</td><td>&quot;When siblings Judy and Peter d…</td><td>17.015539</td><td>&quot;[{&#x27;name&#x27;: &#x27;TriStar Pictures&#x27;, …</td><td>&quot;[{&#x27;iso_3166_1&#x27;: &#x27;US&#x27;, &#x27;name&#x27;: …</td><td>1995-12-15</td><td>2.62797248e8</td><td>104.0</td><td>&quot;[{&#x27;iso_639_1&#x27;: &#x27;en&#x27;, &#x27;name&#x27;: &#x27;…</td><td>&quot;Released&quot;</td><td>&quot;Roll the dice and unleash the …</td><td>&quot;Jumanji&quot;</td><td>6.9</td><td>2413</td><td>4.043035</td><td>1995</td><td>12</td><td>5</td><td>&quot;DICIEMBRE&quot;</td><td>&quot;VIERNES&quot;</td></tr><tr><td>&quot;{&#x27;id&#x27;: 119050, &#x27;name&#x27;: &#x27;Grumpy…</td><td>0.0</td><td>&quot;[{&#x27;id&#x27;: 10749, &#x27;name&#x27;: &#x27;Romanc…</td><td>15602</td><td>&quot;en&quot;</td><td>&quot;A family wedding reignites the…</td><td>11.7129</td><td>&quot;[{&#x27;name&#x27;: &#x27;Warner Bros.&#x27;, &#x27;id&#x27;…</td><td>&quot;[{&#x27;iso_3166_1&#x27;: &#x27;US&#x27;, &#x27;name&#x27;: …</td><td>1995-12-22</td><td>0.0</td><td>101.0</td><td>&quot;[{&#x27;iso_639_1&#x27;: &#x27;en&#x27;, &#x27;name&#x27;: &#x27;…</td><td>&quot;Released&quot;</td><td>&quot;Still Yelling. Still Fighting.…</td><td>&quot;Grumpier Old Men&quot;</td><td>6.5</td><td>92</td><td>0.0</td><td>1995</td><td>12</td><td>5</td><td>&quot;DICIEMBRE&quot;</td><td>&quot;VIERNES&quot;</td></tr><tr><td>&quot;&quot;</td><td>1.6e7</td><td>&quot;[{&#x27;id&#x27;: 35, &#x27;name&#x27;: &#x27;Comedy&#x27;},…</td><td>31357</td><td>&quot;en&quot;</td><td>&quot;Cheated on, mistreated and ste…</td><td>3.859495</td><td>&quot;[{&#x27;name&#x27;: &#x27;Twentieth Century F…</td><td>&quot;[{&#x27;iso_3166_1&#x27;: &#x27;US&#x27;, &#x27;name&#x27;: …</td><td>1995-12-22</td><td>8.145216e7</td><td>127.0</td><td>&quot;[{&#x27;iso_639_1&#x27;: &#x27;en&#x27;, &#x27;name&#x27;: &#x27;…</td><td>&quot;Released&quot;</td><td>&quot;Friends are the people who let…</td><td>&quot;Waiting to Exhale&quot;</td><td>6.1</td><td>34</td><td>5.09076</td><td>1995</td><td>12</td><td>5</td><td>&quot;DICIEMBRE&quot;</td><td>&quot;VIERNES&quot;</td></tr><tr><td>&quot;{&#x27;id&#x27;: 96871, &#x27;name&#x27;: &#x27;Father …</td><td>0.0</td><td>&quot;[{&#x27;id&#x27;: 35, &#x27;name&#x27;: &#x27;Comedy&#x27;}]&quot;</td><td>11862</td><td>&quot;en&quot;</td><td>&quot;Just when George Banks has rec…</td><td>8.387519</td><td>&quot;[{&#x27;name&#x27;: &#x27;Sandollar Productio…</td><td>&quot;[{&#x27;iso_3166_1&#x27;: &#x27;US&#x27;, &#x27;name&#x27;: …</td><td>1995-02-10</td><td>7.6578912e7</td><td>106.0</td><td>&quot;[{&#x27;iso_639_1&#x27;: &#x27;en&#x27;, &#x27;name&#x27;: &#x27;…</td><td>&quot;Released&quot;</td><td>&quot;Just When His World Is Back To…</td><td>&quot;Father of the Bride Part II&quot;</td><td>5.7</td><td>173</td><td>0.0</td><td>1995</td><td>2</td><td>5</td><td>&quot;FEBRERO&quot;</td><td>&quot;VIERNES&quot;</td></tr></tbody></table></div>"
      ],
      "text/plain": [
       "shape: (5, 24)\n",
       "┌────────────┬────────┬────────────┬───────┬───┬────────────┬────────────┬────────────┬────────────┐\n",
       "│ belongs_to ┆ budget ┆ genres     ┆ id    ┆ … ┆ release_mo ┆ release_da ┆ name_of_mo ┆ name_of_da │\n",
       "│ _collectio ┆ ---    ┆ ---        ┆ ---   ┆   ┆ nth        ┆ y_of_week  ┆ nth        ┆ y          │\n",
       "│ n          ┆ f32    ┆ str        ┆ i32   ┆   ┆ ---        ┆ ---        ┆ ---        ┆ ---        │\n",
       "│ ---        ┆        ┆            ┆       ┆   ┆ i8         ┆ i8         ┆ str        ┆ str        │\n",
       "│ str        ┆        ┆            ┆       ┆   ┆            ┆            ┆            ┆            │\n",
       "╞════════════╪════════╪════════════╪═══════╪═══╪════════════╪════════════╪════════════╪════════════╡\n",
       "│ {'id':     ┆ 3e7    ┆ [{'id':    ┆ 862   ┆ … ┆ 10         ┆ 1          ┆ OCTUBRE    ┆ LUNES      │\n",
       "│ 10194,     ┆        ┆ 16,        ┆       ┆   ┆            ┆            ┆            ┆            │\n",
       "│ 'name':    ┆        ┆ 'name':    ┆       ┆   ┆            ┆            ┆            ┆            │\n",
       "│ 'Toy Sto…  ┆        ┆ 'Animation ┆       ┆   ┆            ┆            ┆            ┆            │\n",
       "│            ┆        ┆ …          ┆       ┆   ┆            ┆            ┆            ┆            │\n",
       "│            ┆ 6.5e7  ┆ [{'id':    ┆ 8844  ┆ … ┆ 12         ┆ 5          ┆ DICIEMBRE  ┆ VIERNES    │\n",
       "│            ┆        ┆ 12,        ┆       ┆   ┆            ┆            ┆            ┆            │\n",
       "│            ┆        ┆ 'name':    ┆       ┆   ┆            ┆            ┆            ┆            │\n",
       "│            ┆        ┆ 'Adventure ┆       ┆   ┆            ┆            ┆            ┆            │\n",
       "│            ┆        ┆ …          ┆       ┆   ┆            ┆            ┆            ┆            │\n",
       "│ {'id':     ┆ 0.0    ┆ [{'id':    ┆ 15602 ┆ … ┆ 12         ┆ 5          ┆ DICIEMBRE  ┆ VIERNES    │\n",
       "│ 119050,    ┆        ┆ 10749,     ┆       ┆   ┆            ┆            ┆            ┆            │\n",
       "│ 'name':    ┆        ┆ 'name':    ┆       ┆   ┆            ┆            ┆            ┆            │\n",
       "│ 'Grumpy…   ┆        ┆ 'Romanc…   ┆       ┆   ┆            ┆            ┆            ┆            │\n",
       "│            ┆ 1.6e7  ┆ [{'id':    ┆ 31357 ┆ … ┆ 12         ┆ 5          ┆ DICIEMBRE  ┆ VIERNES    │\n",
       "│            ┆        ┆ 35,        ┆       ┆   ┆            ┆            ┆            ┆            │\n",
       "│            ┆        ┆ 'name':    ┆       ┆   ┆            ┆            ┆            ┆            │\n",
       "│            ┆        ┆ 'Comedy'}, ┆       ┆   ┆            ┆            ┆            ┆            │\n",
       "│            ┆        ┆ …          ┆       ┆   ┆            ┆            ┆            ┆            │\n",
       "│ {'id':     ┆ 0.0    ┆ [{'id':    ┆ 11862 ┆ … ┆ 2          ┆ 5          ┆ FEBRERO    ┆ VIERNES    │\n",
       "│ 96871,     ┆        ┆ 35,        ┆       ┆   ┆            ┆            ┆            ┆            │\n",
       "│ 'name':    ┆        ┆ 'name':    ┆       ┆   ┆            ┆            ┆            ┆            │\n",
       "│ 'Father …  ┆        ┆ 'Comedy'}] ┆       ┆   ┆            ┆            ┆            ┆            │\n",
       "└────────────┴────────┴────────────┴───────┴───┴────────────┴────────────┴────────────┴────────────┘"
      ]
     },
     "execution_count": 5,
     "metadata": {},
     "output_type": "execute_result"
    }
   ],
   "source": [
    "movies = pl.read_parquet('data/movies.parquet')\n",
    "movies.head()"
   ]
  },
  {
   "cell_type": "markdown",
   "metadata": {},
   "source": [
    "***\n",
    "### **Desempaquetar todas las Columnas con información Múltiple**"
   ]
  },
  {
   "cell_type": "code",
   "execution_count": 5,
   "metadata": {},
   "outputs": [],
   "source": [
    "# Nota: id tambien lo Tomo porque necesito vincular los datos extraidos con el `id` del movie al que pertenecen\n",
    "id_movies_list = movies['id'].to_list() # Lista con todos los id del dataframe movies\n",
    "\n",
    "# Lista con todos los production_companies del dataframe movies\n",
    "prod_companies_list = movies['production_companies'].to_list() \n",
    "\n",
    "# Lista con todos los production_countries del dataframe movies\n",
    "prod_countries_list = movies['production_countries'].to_list() \n",
    "\n",
    "# Lista con todos los belongs_to_collection del dataframe movies\n",
    "belongs_to_collec_list = movies['belongs_to_collection'].to_list() \n",
    "\n",
    "# Lista con todos los genres del dataframe movies\n",
    "genres_list = movies['genres'].to_list() \n",
    "\n",
    "# Lista con todos los idiomas\n",
    "spoken_languages_list = movies['spoken_languages'].to_list()  "
   ]
  },
  {
   "cell_type": "markdown",
   "metadata": {},
   "source": [
    "## **Creando Dataframe `languages` y `languages_movies`** "
   ]
  },
  {
   "cell_type": "code",
   "execution_count": 6,
   "metadata": {},
   "outputs": [],
   "source": [
    "data = []\n",
    "se_rompio = False\n",
    "for i in range(len(spoken_languages_list)):\n",
    "    try:\n",
    "        # cadena = return_string_without_doubles(spoken_languages_list[i])\n",
    "        cadena = spoken_languages_list[i] \n",
    "        lista = eval(cadena)\n",
    "        for diccionario in lista:\n",
    "            diccionario['movie_id'] = id_movies_list[i]\n",
    "            data.append(diccionario)\n",
    "    except:\n",
    "        se_rompio = True\n",
    "        print(f\"se rompio en {i}\")\n",
    "        break\n",
    "\n",
    "if not se_rompio:\n",
    "    languages_movies = pl.DataFrame(data=data)\n",
    "\n",
    "\"\"\"\n",
    "    # La variable `se_rompio` junto con el indice de la lista que esta recorriendo el `for` es una combinacion de \n",
    "    # depuración del codigo.  PUDE HABERLA QUITADO, despues de estar seguro que ya el codigo corría,  prefiero\n",
    "    # dejarla, porque explica la logica de trabajo\n",
    "\"\"\""
   ]
  },
  {
   "cell_type": "code",
   "execution_count": 7,
   "metadata": {},
   "outputs": [
    {
     "data": {
      "text/html": [
       "<div><style>\n",
       ".dataframe > thead > tr,\n",
       ".dataframe > tbody > tr {\n",
       "  text-align: right;\n",
       "  white-space: pre-wrap;\n",
       "}\n",
       "</style>\n",
       "<small>shape: (1, 3)</small><table border=\"1\" class=\"dataframe\"><thead><tr><th>iso_639_1</th><th>name</th><th>movie_id</th></tr><tr><td>str</td><td>str</td><td>i64</td></tr></thead><tbody><tr><td>&quot;en&quot;</td><td>&quot;English&quot;</td><td>862</td></tr></tbody></table></div>"
      ],
      "text/plain": [
       "shape: (1, 3)\n",
       "┌───────────┬─────────┬──────────┐\n",
       "│ iso_639_1 ┆ name    ┆ movie_id │\n",
       "│ ---       ┆ ---     ┆ ---      │\n",
       "│ str       ┆ str     ┆ i64      │\n",
       "╞═══════════╪═════════╪══════════╡\n",
       "│ en        ┆ English ┆ 862      │\n",
       "└───────────┴─────────┴──────────┘"
      ]
     },
     "execution_count": 7,
     "metadata": {},
     "output_type": "execute_result"
    }
   ],
   "source": [
    "languages_movies.head(1)"
   ]
  },
  {
   "cell_type": "markdown",
   "metadata": {},
   "source": [
    "Se Observan Informacion faltante en el campo name de `languages`"
   ]
  },
  {
   "cell_type": "code",
   "execution_count": 8,
   "metadata": {},
   "outputs": [
    {
     "name": "stdout",
     "output_type": "stream",
     "text": [
      "['gd', 'mn', 'mk', 'kw', 'nv', 'mi', 'tl', 'gd', 'yi', 'mi', 'tl', 'yi', 'yi', 'yi', 'ne', 'km', 'gd', 'yi', 'km', 'yi', 'iu', 'mi', 'sh', 'bo', 'gd', 'ty', 'yi', 'gd', 'yi', 'gd', 'si', 'bo', 'as', 'sh', 'yi', 'gn', 'gd', 'gd', 'yi', 'mk', 'bo', 'iu', 'nv', 'nv', 'yi', 'yi', 'yi', 'lo', 'gd', 'yi', 'xh', 'yi', 'gd', 'bo', 'yi', 'yi', 'cr', 'yi', 'sh', 'sh', 'tl', 'iu', 'nv', 'yi', 'gd', 'ku', 'hy', 'oc', 'oc', 'ku', 'bo', 'to', 'ce', 'qu', 'ku', 'mi', 'nv', 'yi', 'mk', 'yi', 'tl', 'am', 'km', 'ce', 'iu', 'yi', 'ku', 'sh', 'gd', 'tg', 'bo', 'gd', 'sh', 'bo', 'qu', 'hy', 'sh', 'yi', 'tl', 'tt', 'yi', 'se', 'tl', 'hy', 'ml', 'sh', 'mi', 'co', 'yi', 'mn', 'tl', 'yi', 'yi', 'tl', 'ku', 'dz', 'tl', 'yi', 'hy', 'ku', 'sh', 'hy', 'yi', 'ce', 'yi', 'gd', 'xh', 'yi', 'bo', 'ku', 'am', 'ht', 'yi', 'sh', 'xh', 'ln', 'ku', 'tg', 'mn', 'mn', 'sh', 'bo', 'yi', 'ce', 'xh', 'mn', 'my', 'mn', 'km', 'yi', 'sa', 'mn', 'sh', 'ce', 'bo', 'sa', 'ku', 'fy', 'tk', 'tt', 'tl', 'ku', 'ml', 'km', 'ny', 'st', 'xh', 'gd', 'yi', 'sc', 'tl', 'yi', 'ne', 'bo', 'my', 'gu', 'yi', 'yi', 'bo', 'hy', 'qu', 'co', 'qu', 'xh', 'mr', 'si', 'sh', 'gd', 'xh', 'xh', 'se', 'se', 'gd', 'mn', 'mk', 'gd', 'yi', 'tl', 'yi', 'mn', 'yi', 'ug', 'tl', 'mn', 'gn', 'ay', 'yi', 'km', 'gd', 'sh', 'ku', 'mi', 'tl', 'km', 'gd', 'yi', 'sh', 'yi', 'sh', 'gu', 'mr', 'yi', 'tl', 'yi', 'ay', 'am', 'tl', 'ln', 'gd', 'sh', 'st', 'jv', 'tl', 'sh', 'tl', 'br', 'sg', 'my', 'bo', 'cr', 'ku', 'qu', 'xh', 'ln', 'ku', 'am', 'hy', 'hy', 'jv', 'am', 'tl', 'tg', 'tl', 'ml', 'tl', 'mr', 'ln', 'ku', 'iu', 'xh', 'ml', 'lb', 'yi', 'tl', 'ne', 'ne', 'gn', 'xh', 'oc', 'tl', 'tl', 'tl', 'lo', 'jv', 'ab', 'ay', 'mk', 'yi', 'dz', 'mr', 'mk', 'mn', 'ml', 'gd', 'am', 'tl', 'ce', 'sh', 'yi', 'tl', 'sc', 'ku', 'ne', 'mi', 'iu', 'gu', 'tl', 'mn', 'tl', 'qu', 'tl', 'tl', 'tl', 'yi', 'tl', 'gu', 'mr', 'mi', 'ce', 'hy', 'mr', 'ml', 'tl', 'lo', 'mr', 'mk', 'mr', 'mr', 'mr', 'mr', 'mr', 'mr', 'mr', 'mr', 'hy', 'oc', 'ml', 'ml', 'ml', 'ml', 'ml', 'mr', 'sm', 'tl', 'hy', 'tl', 'gn', 'mr', 'yi', 'tl', 'tl', 'ml', 'ml', 'ml', 'ki', 'am', 'km', 'ml', 'mr', 'hy', 'ku', 'st', 'am', 'mr', 'yi', 'lb', 'ml', 'ml', 'mr', 'mr', 'mr', 'mr', 'mr', 'mr', 'mr', 'mr', 'mr', 'mr', 'mr', 'mr', 'mr', 'mr', 'mr', 'gu', 'cr', 'ml', 'ml', 'yi', 'mr', 'ml', 'ml', 'ml', 'ml', 'ml', 'ml', 'tl', 'tl', 'tl', 'tl', 'ku', 'cr', 'ml', 'km', 'my', 'km', 'hy', 'gn', 'tl', 'mr', 'tl', 'tn', 'hy', 'ce', 'ml', 'mi', 'iu', 'mk', 'yi', 'gn', 'tl', 'ne', 'sa', 'mr', 'bo', 'mr', 'tl', 'mk', 'mk', 'bo', 'tl', 'fo', 'ce', 'ku', 'gu', 'bo', 'yi', 'ml', 'ml', 'hy', 'ln', 'sn', 'lo', 'mi', 'ml', 'qu', 'ml', 'ml', 'yi', 'ce', 'ml', 'ml', 'ne', 'ml', 'hy', 'mi', 'my', 'yi', 'bi', 'hy', 'ny', 'bo', 'iu', 'km', 'tl', 'tl', 'ml', 'ml', 'ml', 'ml', 'ml', 'ml', 'km', 'gd', 'tl', 'xh', 'tl', 'tl', 'tl', 'lb', 'tl', 'qu', 'iu', 'yi', 'sh', 'si', 'ig', 'tl', 'se', 'yi', 'xh', 'hy', 'yi', 'tl', 'ml', 'sh', 'yi', 'ne', 'ce', 'mr', 'mk', 'mh', 'ml', 'tl']\n"
     ]
    }
   ],
   "source": [
    "mask = languages_movies['name'] == \"\"\n",
    "print(languages_movies.filter(mask)['iso_639_1'].to_list())"
   ]
  },
  {
   "cell_type": "code",
   "execution_count": 9,
   "metadata": {},
   "outputs": [],
   "source": [
    "# Me preparo un dicionario con la informaicon faltante\n",
    "faltantes = {'mr': 'Marathi',\n",
    "             'tl': 'Tagalog', \n",
    "             'iu': 'Inuktitut',\n",
    "             'as': 'Assamese',\n",
    "             'lo': 'Lao',\n",
    "             'se': 'Northern Sami',\n",
    "             'mi': 'Maori',\n",
    "             'dz': 'Dzongkha',\n",
    "             'qu': 'Quechua',\n",
    "             'sc': 'Sardinian',\n",
    "             'tg': 'Tajik',\n",
    "             'sa': 'Sanskrit',\n",
    "             'my': 'Burmese',\n",
    "             'ln': 'Lingala',\n",
    "             'cr': 'Cree',\n",
    "             'to': 'Tonga',\n",
    "             'gu': 'Gujarati',\n",
    "             'co': 'Corsican',\n",
    "             'ht': 'Haitian Creole',\n",
    "             'ne': 'Nepali',\n",
    "             'ty': 'Tahitian',\n",
    "             'sg': 'Sango', \n",
    "             'jv': 'Javanese',\n",
    "             'ug': 'Uighur',\n",
    "             'fo': 'Faroese',\n",
    "             'si': 'Sinhalese',\n",
    "             'ce': 'Chechen',\n",
    "             'st': 'Sotho, Southern',\n",
    "             'km': 'Central Khmer',\n",
    "             'xh': 'Xhosa',\n",
    "             'mk': 'Macedonian',\n",
    "             'ku': 'Kurdish',\t\t\n",
    "             'sn': 'Shona',\n",
    "             'bo': 'Tibetan',\n",
    "             'kw': 'Cornish',\n",
    "             'ki': 'Kikuyu',\n",
    "             'ny': 'Chichewa',\n",
    "             'sm': 'Samoan',\n",
    "             'gn': 'Guaraní',\n",
    "             'tt': 'Tatar',\n",
    "             'lb': 'Luxembourgish',\n",
    "             'br': 'Breton',\n",
    "             'ay': 'Aymara',\n",
    "             'mh': 'Marshallese',\n",
    "             'gd': 'Scottish Gaelic',\n",
    "             'nv': 'Navajo',\n",
    "             'tk': 'Turkmen',\n",
    "             'tn': 'Tswana',\n",
    "             'ml': 'Malayalam',\n",
    "             'oc': 'Occitan',\n",
    "             'ig': 'Igbo',\n",
    "             'ab': 'Abkhazian',\n",
    "             'mn': 'Mongolian',\n",
    "             'am': 'Amharic',\n",
    "             'yi': 'Yiddish',\n",
    "             'hy': 'Armenian',\n",
    "             'bi': 'Bislama',\n",
    "             'fy': 'Western Frisian', \n",
    "             'sh': 'Serbocroata'}\n",
    "\n",
    "# Cuando algun registro tenga en su columna `iso_639_1` el valor que corresponda a la key de la respectiva iteracion\n",
    "# entonces en la columna `name` coloco la informacion que tenga value de lo contrario, que deje lo que habia en `name``\n",
    "for key, value in faltantes.items():\n",
    "    languages_movies = languages_movies.with_columns([\n",
    "        pl.when(pl.col(\"iso_639_1\") == key)\n",
    "          .then(pl.lit(value))\n",
    "          .otherwise(pl.col(\"name\"))\n",
    "          .alias(\"name\")\n",
    "])"
   ]
  },
  {
   "cell_type": "markdown",
   "metadata": {},
   "source": [
    "Para una mejor Normalizacion necesito crear un id numerico a languages"
   ]
  },
  {
   "cell_type": "code",
   "execution_count": 10,
   "metadata": {},
   "outputs": [
    {
     "name": "stdout",
     "output_type": "stream",
     "text": [
      "133\n"
     ]
    },
    {
     "data": {
      "text/html": [
       "<div><style>\n",
       ".dataframe > thead > tr,\n",
       ".dataframe > tbody > tr {\n",
       "  text-align: right;\n",
       "  white-space: pre-wrap;\n",
       "}\n",
       "</style>\n",
       "<small>shape: (5, 3)</small><table border=\"1\" class=\"dataframe\"><thead><tr><th>id</th><th>iso_639_1</th><th>name</th></tr><tr><td>u32</td><td>str</td><td>str</td></tr></thead><tbody><tr><td>1</td><td>&quot;ja&quot;</td><td>&quot;日本語&quot;</td></tr><tr><td>2</td><td>&quot;cr&quot;</td><td>&quot;Cree&quot;</td></tr><tr><td>3</td><td>&quot;hu&quot;</td><td>&quot;Magyar&quot;</td></tr><tr><td>4</td><td>&quot;si&quot;</td><td>&quot;Sinhalese&quot;</td></tr><tr><td>5</td><td>&quot;la&quot;</td><td>&quot;Latin&quot;</td></tr></tbody></table></div>"
      ],
      "text/plain": [
       "shape: (5, 3)\n",
       "┌─────┬───────────┬───────────┐\n",
       "│ id  ┆ iso_639_1 ┆ name      │\n",
       "│ --- ┆ ---       ┆ ---       │\n",
       "│ u32 ┆ str       ┆ str       │\n",
       "╞═════╪═══════════╪═══════════╡\n",
       "│ 1   ┆ ja        ┆ 日本語    │\n",
       "│ 2   ┆ cr        ┆ Cree      │\n",
       "│ 3   ┆ hu        ┆ Magyar    │\n",
       "│ 4   ┆ si        ┆ Sinhalese │\n",
       "│ 5   ┆ la        ┆ Latin     │\n",
       "└─────┴───────────┴───────────┘"
      ]
     },
     "execution_count": 10,
     "metadata": {},
     "output_type": "execute_result"
    }
   ],
   "source": [
    "languages = languages_movies[['iso_639_1', 'name']] \n",
    "\n",
    "languages = languages.unique() # Elimino Valores repetidos\n",
    "\n",
    "languages = languages.with_row_index(name='id', offset=1)  # Creo un indice\n",
    "\n",
    "print(languages.shape[0])\n",
    "\n",
    "languages.head()"
   ]
  },
  {
   "cell_type": "markdown",
   "metadata": {},
   "source": [
    "Ahora necesito que `languages_movies` obtenga esa columna `id` que tengo en `languages`.  Maneras de hacerlo:<br>\n",
    "- Utilizando un Join donde deben coincidir las columnas `iso_639_1` de ambos Dataframe\n",
    "- Utilizando un  `ciclo for` donde se recorre `languajes`, y se filtra `languajes_movies` por `iso_639_1`"
   ]
  },
  {
   "cell_type": "code",
   "execution_count": 11,
   "metadata": {},
   "outputs": [
    {
     "data": {
      "text/html": [
       "<div><style>\n",
       ".dataframe > thead > tr,\n",
       ".dataframe > tbody > tr {\n",
       "  text-align: right;\n",
       "  white-space: pre-wrap;\n",
       "}\n",
       "</style>\n",
       "<small>shape: (5, 4)</small><table border=\"1\" class=\"dataframe\"><thead><tr><th>iso_639_1</th><th>name</th><th>movie_id</th><th>id</th></tr><tr><td>str</td><td>str</td><td>i64</td><td>i32</td></tr></thead><tbody><tr><td>&quot;en&quot;</td><td>&quot;English&quot;</td><td>862</td><td>20</td></tr><tr><td>&quot;en&quot;</td><td>&quot;English&quot;</td><td>8844</td><td>20</td></tr><tr><td>&quot;fr&quot;</td><td>&quot;Français&quot;</td><td>8844</td><td>80</td></tr><tr><td>&quot;en&quot;</td><td>&quot;English&quot;</td><td>15602</td><td>20</td></tr><tr><td>&quot;en&quot;</td><td>&quot;English&quot;</td><td>31357</td><td>20</td></tr></tbody></table></div>"
      ],
      "text/plain": [
       "shape: (5, 4)\n",
       "┌───────────┬──────────┬──────────┬─────┐\n",
       "│ iso_639_1 ┆ name     ┆ movie_id ┆ id  │\n",
       "│ ---       ┆ ---      ┆ ---      ┆ --- │\n",
       "│ str       ┆ str      ┆ i64      ┆ i32 │\n",
       "╞═══════════╪══════════╪══════════╪═════╡\n",
       "│ en        ┆ English  ┆ 862      ┆ 20  │\n",
       "│ en        ┆ English  ┆ 8844     ┆ 20  │\n",
       "│ fr        ┆ Français ┆ 8844     ┆ 80  │\n",
       "│ en        ┆ English  ┆ 15602    ┆ 20  │\n",
       "│ en        ┆ English  ┆ 31357    ┆ 20  │\n",
       "└───────────┴──────────┴──────────┴─────┘"
      ]
     },
     "execution_count": 11,
     "metadata": {},
     "output_type": "execute_result"
    }
   ],
   "source": [
    "languages_movies = languages_movies.with_columns(pl.lit(0).alias('id'))  # A languages le creo columna `id` y le coloco 0 a todo\n",
    "\n",
    "for i in range(languages.shape[0]):\n",
    "    iso_639_1 = languages[i,1]  # la Columna 1 representa `iso_639_1`\n",
    "    id = languages[i,0]          # la Columna 0 representa el `id`   \n",
    "    languages_movies = languages_movies.with_columns(\n",
    "        pl.when(pl.col('iso_639_1') == iso_639_1)\n",
    "          .then(pl.lit(id))\n",
    "          .otherwise(pl.col('id'))\n",
    "          .alias('id')\n",
    "    )\n",
    "\n",
    "languages_movies.head()"
   ]
  },
  {
   "cell_type": "markdown",
   "metadata": {},
   "source": [
    "## **Creando DataFrame `companies` y `companies_movies`**"
   ]
  },
  {
   "cell_type": "code",
   "execution_count": 12,
   "metadata": {},
   "outputs": [
    {
     "data": {
      "text/html": [
       "<div><style>\n",
       ".dataframe > thead > tr,\n",
       ".dataframe > tbody > tr {\n",
       "  text-align: right;\n",
       "  white-space: pre-wrap;\n",
       "}\n",
       "</style>\n",
       "<small>shape: (1, 3)</small><table border=\"1\" class=\"dataframe\"><thead><tr><th>name</th><th>id</th><th>movie_id</th></tr><tr><td>str</td><td>i64</td><td>i64</td></tr></thead><tbody><tr><td>&quot;Pixar Animation Studios&quot;</td><td>3</td><td>862</td></tr></tbody></table></div>"
      ],
      "text/plain": [
       "shape: (1, 3)\n",
       "┌─────────────────────────┬─────┬──────────┐\n",
       "│ name                    ┆ id  ┆ movie_id │\n",
       "│ ---                     ┆ --- ┆ ---      │\n",
       "│ str                     ┆ i64 ┆ i64      │\n",
       "╞═════════════════════════╪═════╪══════════╡\n",
       "│ Pixar Animation Studios ┆ 3   ┆ 862      │\n",
       "└─────────────────────────┴─────┴──────────┘"
      ]
     },
     "execution_count": 12,
     "metadata": {},
     "output_type": "execute_result"
    }
   ],
   "source": [
    "data = []\n",
    "se_rompio = False\n",
    "for i in range(len(prod_companies_list)):\n",
    "    try:\n",
    "        cadena = return_string_without_doubles(prod_companies_list[i])\n",
    "        lista = eval(cadena)\n",
    "        for diccionario in lista:\n",
    "            diccionario['movie_id'] = id_movies_list[i]\n",
    "            data.append(diccionario)\n",
    "    except:\n",
    "        se_rompio = True\n",
    "        print(f\"se rompio en {i}\")\n",
    "        break\n",
    "\n",
    "if not se_rompio:\n",
    "    companies_movies = pl.DataFrame(data=data)\n",
    "\n",
    "companies_movies.head(1)\n"
   ]
  },
  {
   "cell_type": "code",
   "execution_count": 13,
   "metadata": {},
   "outputs": [],
   "source": [
    "companies = companies_movies.drop('movie_id').unique()"
   ]
  },
  {
   "cell_type": "markdown",
   "metadata": {},
   "source": [
    "# **Creando Dataframe `countries` y `countries_movies`**"
   ]
  },
  {
   "cell_type": "code",
   "execution_count": 14,
   "metadata": {},
   "outputs": [
    {
     "data": {
      "text/html": [
       "<div><style>\n",
       ".dataframe > thead > tr,\n",
       ".dataframe > tbody > tr {\n",
       "  text-align: right;\n",
       "  white-space: pre-wrap;\n",
       "}\n",
       "</style>\n",
       "<small>shape: (1, 3)</small><table border=\"1\" class=\"dataframe\"><thead><tr><th>iso_3166_1</th><th>name</th><th>movie_id</th></tr><tr><td>str</td><td>str</td><td>i64</td></tr></thead><tbody><tr><td>&quot;US&quot;</td><td>&quot;United States of America&quot;</td><td>862</td></tr></tbody></table></div>"
      ],
      "text/plain": [
       "shape: (1, 3)\n",
       "┌────────────┬──────────────────────────┬──────────┐\n",
       "│ iso_3166_1 ┆ name                     ┆ movie_id │\n",
       "│ ---        ┆ ---                      ┆ ---      │\n",
       "│ str        ┆ str                      ┆ i64      │\n",
       "╞════════════╪══════════════════════════╪══════════╡\n",
       "│ US         ┆ United States of America ┆ 862      │\n",
       "└────────────┴──────────────────────────┴──────────┘"
      ]
     },
     "execution_count": 14,
     "metadata": {},
     "output_type": "execute_result"
    }
   ],
   "source": [
    "data = []\n",
    "se_rompio = False\n",
    "for i in range(len(prod_countries_list)):\n",
    "    try:\n",
    "        cadena = return_string_without_doubles(prod_countries_list[i])\n",
    "        lista = eval(cadena)\n",
    "        for diccionario in lista:\n",
    "            diccionario['movie_id'] = id_movies_list[i]\n",
    "            data.append(diccionario)\n",
    "    except:\n",
    "        se_rompio = True\n",
    "        print(f\"se rompio en {i}\")\n",
    "        break\n",
    "\n",
    "if not se_rompio:\n",
    "    countries_movies = pl.DataFrame(data=data)\n",
    "\n",
    "countries_movies.head(1)    "
   ]
  },
  {
   "cell_type": "markdown",
   "metadata": {},
   "source": [
    "Para una mejor Normalizacion necesito crear un id numerico a countries"
   ]
  },
  {
   "cell_type": "code",
   "execution_count": 15,
   "metadata": {},
   "outputs": [
    {
     "name": "stdout",
     "output_type": "stream",
     "text": [
      "161\n"
     ]
    },
    {
     "data": {
      "text/html": [
       "<div><style>\n",
       ".dataframe > thead > tr,\n",
       ".dataframe > tbody > tr {\n",
       "  text-align: right;\n",
       "  white-space: pre-wrap;\n",
       "}\n",
       "</style>\n",
       "<small>shape: (5, 3)</small><table border=\"1\" class=\"dataframe\"><thead><tr><th>id</th><th>iso_3166_1</th><th>name</th></tr><tr><td>u32</td><td>str</td><td>str</td></tr></thead><tbody><tr><td>1</td><td>&quot;KW&quot;</td><td>&quot;Kuwait&quot;</td></tr><tr><td>2</td><td>&quot;VN&quot;</td><td>&quot;Vietnam&quot;</td></tr><tr><td>3</td><td>&quot;CD&quot;</td><td>&quot;Congo&quot;</td></tr><tr><td>4</td><td>&quot;PY&quot;</td><td>&quot;Paraguay&quot;</td></tr><tr><td>5</td><td>&quot;LK&quot;</td><td>&quot;Sri Lanka&quot;</td></tr></tbody></table></div>"
      ],
      "text/plain": [
       "shape: (5, 3)\n",
       "┌─────┬────────────┬───────────┐\n",
       "│ id  ┆ iso_3166_1 ┆ name      │\n",
       "│ --- ┆ ---        ┆ ---       │\n",
       "│ u32 ┆ str        ┆ str       │\n",
       "╞═════╪════════════╪═══════════╡\n",
       "│ 1   ┆ KW         ┆ Kuwait    │\n",
       "│ 2   ┆ VN         ┆ Vietnam   │\n",
       "│ 3   ┆ CD         ┆ Congo     │\n",
       "│ 4   ┆ PY         ┆ Paraguay  │\n",
       "│ 5   ┆ LK         ┆ Sri Lanka │\n",
       "└─────┴────────────┴───────────┘"
      ]
     },
     "execution_count": 15,
     "metadata": {},
     "output_type": "execute_result"
    }
   ],
   "source": [
    "countries = countries_movies[['iso_3166_1', 'name']] \n",
    "\n",
    "countries = countries.unique() # Elimino Valores repetidos\n",
    "\n",
    "countries = countries.with_row_index(name='id', offset=1)  # Creo un indice\n",
    "\n",
    "print(countries.shape[0])\n",
    "\n",
    "countries.head()"
   ]
  },
  {
   "cell_type": "markdown",
   "metadata": {},
   "source": [
    "Ahora necesito que `countries_movies` obtenga esa columna `id` que tengo en `countries`.  Maneras de hacerlo<br>\n",
    "- Utilizando un Join donde deben coincidir las columnas `iso_3166_1` de ambos Dataframe\n",
    "- Utilizando un  `ciclo for` donde se recorre `countries`, y se filtra `countries_movies` por `iso_3166_1`"
   ]
  },
  {
   "cell_type": "code",
   "execution_count": 16,
   "metadata": {},
   "outputs": [
    {
     "data": {
      "text/html": [
       "<div><style>\n",
       ".dataframe > thead > tr,\n",
       ".dataframe > tbody > tr {\n",
       "  text-align: right;\n",
       "  white-space: pre-wrap;\n",
       "}\n",
       "</style>\n",
       "<small>shape: (5, 4)</small><table border=\"1\" class=\"dataframe\"><thead><tr><th>iso_3166_1</th><th>name</th><th>movie_id</th><th>id</th></tr><tr><td>str</td><td>str</td><td>i64</td><td>i32</td></tr></thead><tbody><tr><td>&quot;US&quot;</td><td>&quot;United States of America&quot;</td><td>862</td><td>96</td></tr><tr><td>&quot;US&quot;</td><td>&quot;United States of America&quot;</td><td>8844</td><td>96</td></tr><tr><td>&quot;US&quot;</td><td>&quot;United States of America&quot;</td><td>15602</td><td>96</td></tr><tr><td>&quot;US&quot;</td><td>&quot;United States of America&quot;</td><td>31357</td><td>96</td></tr><tr><td>&quot;US&quot;</td><td>&quot;United States of America&quot;</td><td>11862</td><td>96</td></tr></tbody></table></div>"
      ],
      "text/plain": [
       "shape: (5, 4)\n",
       "┌────────────┬──────────────────────────┬──────────┬─────┐\n",
       "│ iso_3166_1 ┆ name                     ┆ movie_id ┆ id  │\n",
       "│ ---        ┆ ---                      ┆ ---      ┆ --- │\n",
       "│ str        ┆ str                      ┆ i64      ┆ i32 │\n",
       "╞════════════╪══════════════════════════╪══════════╪═════╡\n",
       "│ US         ┆ United States of America ┆ 862      ┆ 96  │\n",
       "│ US         ┆ United States of America ┆ 8844     ┆ 96  │\n",
       "│ US         ┆ United States of America ┆ 15602    ┆ 96  │\n",
       "│ US         ┆ United States of America ┆ 31357    ┆ 96  │\n",
       "│ US         ┆ United States of America ┆ 11862    ┆ 96  │\n",
       "└────────────┴──────────────────────────┴──────────┴─────┘"
      ]
     },
     "execution_count": 16,
     "metadata": {},
     "output_type": "execute_result"
    }
   ],
   "source": [
    "countries_movies = countries_movies.with_columns(pl.lit(0).alias('id'))  # A countries le creo columna `id` y le coloco 0 a todo\n",
    "\n",
    "for i in range(countries.shape[0]):\n",
    "    iso_3166_1 = countries[i,1]  # la Columna 1 representa `iso_3166_1`\n",
    "    id = countries[i,0]          # la Columna 0 representa el `id`   \n",
    "    countries_movies = countries_movies.with_columns(\n",
    "        pl.when(pl.col('iso_3166_1') == iso_3166_1)\n",
    "          .then(pl.lit(id))\n",
    "          .otherwise(pl.col('id'))\n",
    "          .alias('id')\n",
    "    )\n",
    "\n",
    "countries_movies.head()"
   ]
  },
  {
   "cell_type": "markdown",
   "metadata": {},
   "source": [
    "## **Creando Dataframe `genres` y `genres_movies`**"
   ]
  },
  {
   "cell_type": "code",
   "execution_count": 17,
   "metadata": {},
   "outputs": [],
   "source": [
    "data = []\n",
    "se_rompio = False\n",
    "for i in range(len(genres_list)):\n",
    "    try:\n",
    "        cadena = return_string_without_doubles(genres_list[i])\n",
    "        lista = eval(cadena)\n",
    "        for diccionario in lista:\n",
    "            diccionario['movie_id'] = id_movies_list[i]\n",
    "            data.append(diccionario)\n",
    "    except:\n",
    "        se_rompio = True\n",
    "        print(f\"se rompio en {i}\")\n",
    "        break\n",
    "\n",
    "if not se_rompio:\n",
    "    genres_movies = pl.DataFrame(data=data)"
   ]
  },
  {
   "cell_type": "code",
   "execution_count": 18,
   "metadata": {},
   "outputs": [
    {
     "data": {
      "text/html": [
       "<div><style>\n",
       ".dataframe > thead > tr,\n",
       ".dataframe > tbody > tr {\n",
       "  text-align: right;\n",
       "  white-space: pre-wrap;\n",
       "}\n",
       "</style>\n",
       "<small>shape: (1, 3)</small><table border=\"1\" class=\"dataframe\"><thead><tr><th>id</th><th>name</th><th>movie_id</th></tr><tr><td>i64</td><td>str</td><td>i64</td></tr></thead><tbody><tr><td>16</td><td>&quot;Animation&quot;</td><td>862</td></tr></tbody></table></div>"
      ],
      "text/plain": [
       "shape: (1, 3)\n",
       "┌─────┬───────────┬──────────┐\n",
       "│ id  ┆ name      ┆ movie_id │\n",
       "│ --- ┆ ---       ┆ ---      │\n",
       "│ i64 ┆ str       ┆ i64      │\n",
       "╞═════╪═══════════╪══════════╡\n",
       "│ 16  ┆ Animation ┆ 862      │\n",
       "└─────┴───────────┴──────────┘"
      ]
     },
     "execution_count": 18,
     "metadata": {},
     "output_type": "execute_result"
    }
   ],
   "source": [
    "genres_movies.head(1)"
   ]
  },
  {
   "cell_type": "code",
   "execution_count": 22,
   "metadata": {},
   "outputs": [
    {
     "data": {
      "text/html": [
       "<div><style>\n",
       ".dataframe > thead > tr,\n",
       ".dataframe > tbody > tr {\n",
       "  text-align: right;\n",
       "  white-space: pre-wrap;\n",
       "}\n",
       "</style>\n",
       "<small>shape: (1, 2)</small><table border=\"1\" class=\"dataframe\"><thead><tr><th>id</th><th>name</th></tr><tr><td>i64</td><td>str</td></tr></thead><tbody><tr><td>99</td><td>&quot;Documentary&quot;</td></tr></tbody></table></div>"
      ],
      "text/plain": [
       "shape: (1, 2)\n",
       "┌─────┬─────────────┐\n",
       "│ id  ┆ name        │\n",
       "│ --- ┆ ---         │\n",
       "│ i64 ┆ str         │\n",
       "╞═════╪═════════════╡\n",
       "│ 99  ┆ Documentary │\n",
       "└─────┴─────────────┘"
      ]
     },
     "execution_count": 22,
     "metadata": {},
     "output_type": "execute_result"
    }
   ],
   "source": [
    "genres = genres_movies.drop('movie_id').unique()\n",
    "genres.head(1)"
   ]
  },
  {
   "cell_type": "markdown",
   "metadata": {},
   "source": [
    "## **Creando el Dataframe `Collections` y `collections_movies`** "
   ]
  },
  {
   "cell_type": "code",
   "execution_count": 24,
   "metadata": {},
   "outputs": [
    {
     "data": {
      "text/html": [
       "<div><style>\n",
       ".dataframe > thead > tr,\n",
       ".dataframe > tbody > tr {\n",
       "  text-align: right;\n",
       "  white-space: pre-wrap;\n",
       "}\n",
       "</style>\n",
       "<small>shape: (1, 5)</small><table border=\"1\" class=\"dataframe\"><thead><tr><th>id</th><th>name</th><th>poster_path</th><th>backdrop_path</th><th>movie_id</th></tr><tr><td>i64</td><td>str</td><td>str</td><td>str</td><td>i64</td></tr></thead><tbody><tr><td>10194</td><td>&quot;Toy Story Collection&quot;</td><td>&quot;/7G9915LfUQ2lVfwMEEhDsn3kT4B.j…</td><td>&quot;/9FBwqcd9IRruEDUrTdcaafOMKUq.j…</td><td>862</td></tr></tbody></table></div>"
      ],
      "text/plain": [
       "shape: (1, 5)\n",
       "┌───────┬──────────────────────┬────────────────────────────┬───────────────────────────┬──────────┐\n",
       "│ id    ┆ name                 ┆ poster_path                ┆ backdrop_path             ┆ movie_id │\n",
       "│ ---   ┆ ---                  ┆ ---                        ┆ ---                       ┆ ---      │\n",
       "│ i64   ┆ str                  ┆ str                        ┆ str                       ┆ i64      │\n",
       "╞═══════╪══════════════════════╪════════════════════════════╪═══════════════════════════╪══════════╡\n",
       "│ 10194 ┆ Toy Story Collection ┆ /7G9915LfUQ2lVfwMEEhDsn3kT ┆ /9FBwqcd9IRruEDUrTdcaafOM ┆ 862      │\n",
       "│       ┆                      ┆ 4B.j…                      ┆ KUq.j…                    ┆          │\n",
       "└───────┴──────────────────────┴────────────────────────────┴───────────────────────────┴──────────┘"
      ]
     },
     "execution_count": 24,
     "metadata": {},
     "output_type": "execute_result"
    }
   ],
   "source": [
    "data = []\n",
    "se_rompio = False\n",
    "for i in range(len(belongs_to_collec_list)):\n",
    "    try:\n",
    "        cadena = belongs_to_collec_list[i]\n",
    "        if cadena != '':\n",
    "            cadena = return_string_without_doubles(cadena)\n",
    "            diccionario = eval(cadena)\n",
    "            diccionario['movie_id'] = id_movies_list[i]\n",
    "            data.append(diccionario)\n",
    "    except:\n",
    "        se_rompio = True\n",
    "        print(f\"se rompio en {i}\")\n",
    "        break\n",
    "\n",
    "if not se_rompio:\n",
    "    collections_movies = pl.DataFrame(data=data)\n",
    "\n",
    "collections_movies.head(1)    "
   ]
  },
  {
   "cell_type": "code",
   "execution_count": 25,
   "metadata": {},
   "outputs": [
    {
     "data": {
      "text/html": [
       "<div><style>\n",
       ".dataframe > thead > tr,\n",
       ".dataframe > tbody > tr {\n",
       "  text-align: right;\n",
       "  white-space: pre-wrap;\n",
       "}\n",
       "</style>\n",
       "<small>shape: (1, 4)</small><table border=\"1\" class=\"dataframe\"><thead><tr><th>id</th><th>name</th><th>poster_path</th><th>backdrop_path</th></tr><tr><td>i64</td><td>str</td><td>str</td><td>str</td></tr></thead><tbody><tr><td>361140</td><td>&quot;House of Angels Collection&quot;</td><td>&quot;/o2wfpVSaixGLo5SYx9f6OXmKZTG.j…</td><td>&quot;/wjpF8AxTNBGBVO4XpbdBYytB4uU.j…</td></tr></tbody></table></div>"
      ],
      "text/plain": [
       "shape: (1, 4)\n",
       "┌────────┬────────────────────────────┬──────────────────────────────┬─────────────────────────────┐\n",
       "│ id     ┆ name                       ┆ poster_path                  ┆ backdrop_path               │\n",
       "│ ---    ┆ ---                        ┆ ---                          ┆ ---                         │\n",
       "│ i64    ┆ str                        ┆ str                          ┆ str                         │\n",
       "╞════════╪════════════════════════════╪══════════════════════════════╪═════════════════════════════╡\n",
       "│ 361140 ┆ House of Angels Collection ┆ /o2wfpVSaixGLo5SYx9f6OXmKZTG ┆ /wjpF8AxTNBGBVO4XpbdBYytB4u │\n",
       "│        ┆                            ┆ .j…                          ┆ U.j…                        │\n",
       "└────────┴────────────────────────────┴──────────────────────────────┴─────────────────────────────┘"
      ]
     },
     "execution_count": 25,
     "metadata": {},
     "output_type": "execute_result"
    }
   ],
   "source": [
    "collections = collections_movies.drop('movie_id').unique()\n",
    "collections.head(1)"
   ]
  },
  {
   "cell_type": "markdown",
   "metadata": {},
   "source": [
    "***\n",
    "Ya tengo: <br>\n",
    "- languages\n",
    "- companies\n",
    "- countries\n",
    "- genres\n",
    "- collections\n",
    "\n",
    "Ahora necesito que en los campos de `movies` asociados a estas variables aparezca una lista con los distintos id de ese renglon al que esta asociado.<br>\n",
    "**Ejemplo**: En el campo `genres` dentro de `movies` aparecerá una lista solo con los `id` de los generos a que está asociada esta pelicula\n"
   ]
  },
  {
   "cell_type": "code",
   "execution_count": 29,
   "metadata": {},
   "outputs": [],
   "source": [
    "\"\"\"\n",
    "Ubicacion de Las Columnas Dentro de `movies`\n",
    "id                     --> Columna 3\n",
    "\n",
    "original_language      --> Columna 4\n",
    "spoken_languages       --> Columna 12\n",
    "belongs_to_collection  --> Columna 0\n",
    "genres                 --> Columnas 2\n",
    "production_companies   --> Columna 7\n",
    "production_countries   --> Columna 8\n",
    "\n",
    "\"\"\"\n",
    "# Recorro uno a uno las peliculas\n",
    "for i in range(movies.shape[0]):\n",
    "    movie_id = movies[i,3]\n",
    "    \n",
    "\n",
    "    # Trabajando en la Columna original_language o columna 4 del dataframe\n",
    "    if movies[i,4] != '':\n",
    "        # ACA Filtro a languages por el `iso_639_1` del registro de movies donde estoy parado en esta iteracion\n",
    "        # extraigo el `id` del lenguaje y lo asigno en movies['original_languages'] \n",
    "        mask = languages['iso_639_1'] == movies[i,4]\n",
    "        movies[i,4] = str(languages.filter(mask)['id'][0])\n",
    "\n",
    "    # Trabajando en la Columna spoken_languages o columna 12 del dataframe\n",
    "    if movies[i,12] != '':\n",
    "        mask = languages_movies['movie_id'] == movie_id\n",
    "        # ACA igual a la logica del `if` anterior, pero aca son multiples resultados a la hora de filtrar\n",
    "        # por eso lo paso a una lista.\n",
    "        movies[i,12] = str(languages_movies.filter(mask)['id'].to_list())    \n",
    "\n",
    "    # Trabajando en la Columna belongs_to_collection o columna 0 del dataframe\n",
    "    if movies[i,0] != '':\n",
    "        mask = collections_movies['movie_id'] == movie_id\n",
    "        movies[i,0] = str(collections_movies.filter(mask)['id'].to_list())\n",
    "\n",
    "    # Trabajando en la Columna genres o columna 2 del dataframe\n",
    "    if movies[i,2] != '':\n",
    "        mask = genres_movies['movie_id'] == movie_id\n",
    "        movies[i,2] = str(genres_movies.filter(mask)['id'].to_list())\n",
    "\n",
    "    # Trabajando en la Columna production_companies o columna 7 del dataframe \n",
    "    if movies[i,7] != '':\n",
    "        mask = companies_movies['movie_id'] == movie_id\n",
    "        movies[i,7] = str(companies_movies.filter(mask)['id'].to_list())\n",
    "        \n",
    "    # Trabajando en la Columna production_countries o columna 8 del dataframe\n",
    "    if movies[i,8] != '':\n",
    "        mask = countries_movies['movie_id'] == movie_id\n",
    "        movies[i,8] = str(countries_movies.filter(mask)['id'].to_list())"
   ]
  },
  {
   "cell_type": "code",
   "execution_count": 30,
   "metadata": {},
   "outputs": [
    {
     "data": {
      "text/html": [
       "<div><style>\n",
       ".dataframe > thead > tr,\n",
       ".dataframe > tbody > tr {\n",
       "  text-align: right;\n",
       "  white-space: pre-wrap;\n",
       "}\n",
       "</style>\n",
       "<small>shape: (1, 24)</small><table border=\"1\" class=\"dataframe\"><thead><tr><th>belongs_to_collection</th><th>budget</th><th>genres</th><th>id</th><th>original_language</th><th>overview</th><th>popularity</th><th>production_companies</th><th>production_countries</th><th>release_date</th><th>revenue</th><th>runtime</th><th>spoken_languages</th><th>status</th><th>tagline</th><th>title</th><th>vote_average</th><th>vote_count</th><th>return</th><th>release_year</th><th>release_month</th><th>release_day_of_week</th><th>name_of_month</th><th>name_of_day</th></tr><tr><td>str</td><td>f32</td><td>str</td><td>i32</td><td>str</td><td>str</td><td>f32</td><td>str</td><td>str</td><td>date</td><td>f32</td><td>f32</td><td>str</td><td>str</td><td>str</td><td>str</td><td>f32</td><td>i32</td><td>f32</td><td>i32</td><td>i8</td><td>i8</td><td>str</td><td>str</td></tr></thead><tbody><tr><td>&quot;[10194]&quot;</td><td>3e7</td><td>&quot;[16, 35, 10751]&quot;</td><td>862</td><td>&quot;20&quot;</td><td>&quot;Led by Woody, Andy&#x27;s toys live…</td><td>21.946943</td><td>&quot;[3]&quot;</td><td>&quot;[96]&quot;</td><td>1995-10-30</td><td>3.73554048e8</td><td>81.0</td><td>&quot;[20]&quot;</td><td>&quot;Released&quot;</td><td>&quot;&quot;</td><td>&quot;Toy Story&quot;</td><td>7.7</td><td>5415</td><td>12.451801</td><td>1995</td><td>10</td><td>1</td><td>&quot;OCTUBRE&quot;</td><td>&quot;LUNES&quot;</td></tr></tbody></table></div>"
      ],
      "text/plain": [
       "shape: (1, 24)\n",
       "┌─────────────┬────────┬─────────────┬─────┬───┬────────────┬────────────┬────────────┬────────────┐\n",
       "│ belongs_to_ ┆ budget ┆ genres      ┆ id  ┆ … ┆ release_mo ┆ release_da ┆ name_of_mo ┆ name_of_da │\n",
       "│ collection  ┆ ---    ┆ ---         ┆ --- ┆   ┆ nth        ┆ y_of_week  ┆ nth        ┆ y          │\n",
       "│ ---         ┆ f32    ┆ str         ┆ i32 ┆   ┆ ---        ┆ ---        ┆ ---        ┆ ---        │\n",
       "│ str         ┆        ┆             ┆     ┆   ┆ i8         ┆ i8         ┆ str        ┆ str        │\n",
       "╞═════════════╪════════╪═════════════╪═════╪═══╪════════════╪════════════╪════════════╪════════════╡\n",
       "│ [10194]     ┆ 3e7    ┆ [16, 35,    ┆ 862 ┆ … ┆ 10         ┆ 1          ┆ OCTUBRE    ┆ LUNES      │\n",
       "│             ┆        ┆ 10751]      ┆     ┆   ┆            ┆            ┆            ┆            │\n",
       "└─────────────┴────────┴─────────────┴─────┴───┴────────────┴────────────┴────────────┴────────────┘"
      ]
     },
     "execution_count": 30,
     "metadata": {},
     "output_type": "execute_result"
    }
   ],
   "source": [
    "movies.head(1)"
   ]
  },
  {
   "cell_type": "markdown",
   "metadata": {},
   "source": [
    "Ahora dentro de `movies` la columna `original_language` se `casteara a Numerico`"
   ]
  },
  {
   "cell_type": "code",
   "execution_count": 31,
   "metadata": {},
   "outputs": [],
   "source": [
    "# Primero debo sustituir los \"\"  por \"0\" para evitar errores al castear\n",
    "movies = movies.with_columns(\n",
    "    pl.when(pl.col('original_language') == \"\")\n",
    "      .then(pl.lit(\"0\"))\n",
    "      .otherwise(pl.col('original_language'))\n",
    "      .alias('original_language')\n",
    ")\n",
    "\n",
    "# Ahora paso la columna a Numerico\n",
    "movies = movies.with_columns(pl.col('original_language').cast(pl.Int32).alias('original_language'))\n"
   ]
  },
  {
   "cell_type": "code",
   "execution_count": 32,
   "metadata": {},
   "outputs": [
    {
     "data": {
      "text/html": [
       "<div><style>\n",
       ".dataframe > thead > tr,\n",
       ".dataframe > tbody > tr {\n",
       "  text-align: right;\n",
       "  white-space: pre-wrap;\n",
       "}\n",
       "</style>\n",
       "<small>shape: (1, 24)</small><table border=\"1\" class=\"dataframe\"><thead><tr><th>belongs_to_collection</th><th>budget</th><th>genres</th><th>id</th><th>original_language</th><th>overview</th><th>popularity</th><th>production_companies</th><th>production_countries</th><th>release_date</th><th>revenue</th><th>runtime</th><th>spoken_languages</th><th>status</th><th>tagline</th><th>title</th><th>vote_average</th><th>vote_count</th><th>return</th><th>release_year</th><th>release_month</th><th>release_day_of_week</th><th>name_of_month</th><th>name_of_day</th></tr><tr><td>str</td><td>f32</td><td>str</td><td>i32</td><td>i32</td><td>str</td><td>f32</td><td>str</td><td>str</td><td>date</td><td>f32</td><td>f32</td><td>str</td><td>str</td><td>str</td><td>str</td><td>f32</td><td>i32</td><td>f32</td><td>i32</td><td>i8</td><td>i8</td><td>str</td><td>str</td></tr></thead><tbody><tr><td>&quot;[10194]&quot;</td><td>3e7</td><td>&quot;[16, 35, 10751]&quot;</td><td>862</td><td>20</td><td>&quot;Led by Woody, Andy&#x27;s toys live…</td><td>21.946943</td><td>&quot;[3]&quot;</td><td>&quot;[96]&quot;</td><td>1995-10-30</td><td>3.73554048e8</td><td>81.0</td><td>&quot;[20]&quot;</td><td>&quot;Released&quot;</td><td>&quot;&quot;</td><td>&quot;Toy Story&quot;</td><td>7.7</td><td>5415</td><td>12.451801</td><td>1995</td><td>10</td><td>1</td><td>&quot;OCTUBRE&quot;</td><td>&quot;LUNES&quot;</td></tr></tbody></table></div>"
      ],
      "text/plain": [
       "shape: (1, 24)\n",
       "┌─────────────┬────────┬─────────────┬─────┬───┬────────────┬────────────┬────────────┬────────────┐\n",
       "│ belongs_to_ ┆ budget ┆ genres      ┆ id  ┆ … ┆ release_mo ┆ release_da ┆ name_of_mo ┆ name_of_da │\n",
       "│ collection  ┆ ---    ┆ ---         ┆ --- ┆   ┆ nth        ┆ y_of_week  ┆ nth        ┆ y          │\n",
       "│ ---         ┆ f32    ┆ str         ┆ i32 ┆   ┆ ---        ┆ ---        ┆ ---        ┆ ---        │\n",
       "│ str         ┆        ┆             ┆     ┆   ┆ i8         ┆ i8         ┆ str        ┆ str        │\n",
       "╞═════════════╪════════╪═════════════╪═════╪═══╪════════════╪════════════╪════════════╪════════════╡\n",
       "│ [10194]     ┆ 3e7    ┆ [16, 35,    ┆ 862 ┆ … ┆ 10         ┆ 1          ┆ OCTUBRE    ┆ LUNES      │\n",
       "│             ┆        ┆ 10751]      ┆     ┆   ┆            ┆            ┆            ┆            │\n",
       "└─────────────┴────────┴─────────────┴─────┴───┴────────────┴────────────┴────────────┴────────────┘"
      ]
     },
     "execution_count": 32,
     "metadata": {},
     "output_type": "execute_result"
    }
   ],
   "source": [
    "movies.head(1)"
   ]
  },
  {
   "cell_type": "markdown",
   "metadata": {},
   "source": [
    "***\n",
    "Toca quedarme solo con los campos `id` y `movies_id` en las tablas \n",
    "- `languages_movies`\n",
    "- `companies_movies`\n",
    "- `countries_movies`\n",
    "- `genres_movies`\n",
    "- `collections_movies`\n"
   ]
  },
  {
   "cell_type": "code",
   "execution_count": 33,
   "metadata": {},
   "outputs": [],
   "source": [
    "languages_movies = languages_movies[['id', 'movie_id']]\n",
    "companies_movies = companies_movies[['id', 'movie_id']]\n",
    "countries_movies = countries_movies[['id', 'movie_id']]\n",
    "genres_movies = genres_movies[['id', 'movie_id']]\n",
    "collections_movies = collections_movies[['id', 'movie_id']]"
   ]
  },
  {
   "cell_type": "markdown",
   "metadata": {},
   "source": [
    "***\n",
    "Toca crear una Tabla movies especial para el datawarehouse y guardar las tablas"
   ]
  },
  {
   "cell_type": "code",
   "execution_count": 38,
   "metadata": {},
   "outputs": [],
   "source": [
    "borrar_columnas = ['belongs_to_collection', 'genres', 'production_companies', 'production_countries',\n",
    "                   'spoken_languages', 'release_month', 'release_year', 'release_day_of_week', 'name_of_month',\n",
    "                   'name_of_day']\n",
    "movies_normalizado = movies.drop(borrar_columnas)"
   ]
  },
  {
   "cell_type": "markdown",
   "metadata": {},
   "source": [
    "**ESTAS SON LAS TABLAS QUE APARECEN EN LA SEGUNDA IMAGEN MOSTRADA AL PRINCIPIO DE ESTE CUADERNO**"
   ]
  },
  {
   "cell_type": "code",
   "execution_count": 39,
   "metadata": {},
   "outputs": [],
   "source": [
    "languages.write_parquet('data/datawarehouse/languages.parquet')\n",
    "languages_movies.write_parquet('data/datawarehouse/languages_movies.parquet')\n",
    "\n",
    "collections.write_parquet('data/datawarehouse/collections.parquet')\n",
    "collections_movies.write_parquet('data/datawarehouse/collections_movies.parquet')\n",
    "\n",
    "genres.write_parquet('data/datawarehouse/genres.parquet')\n",
    "genres_movies.write_parquet('data/datawarehouse/genres_movies.parquet')\n",
    "\n",
    "companies.write_parquet('data/datawarehouse/companies.parquet')\n",
    "companies_movies.write_parquet('data/datawarehouse/companies_movies.parquet')\n",
    "\n",
    "countries.write_parquet('data/datawarehouse/countries.parquet')\n",
    "countries_movies.write_parquet('data/datawarehouse/countries_movies.parquet')\n",
    "\n",
    "movies_normalizado.write_parquet('data/datawarehouse/movies_normalizado.parquet')"
   ]
  },
  {
   "cell_type": "markdown",
   "metadata": {},
   "source": [
    "***\n",
    "## **Falta meter inf de Actores y Directores en Movies para modelar**"
   ]
  },
  {
   "cell_type": "markdown",
   "metadata": {},
   "source": [
    "**Nota:** Ya tenemos las tablas del datawarehouse (ya salvamos la información de manera ordenada), PERO para modelar necesitamos una tabla `movies` con todas las posibles variables predictoras incluidas. A la tabla `movies` que ya tenemos, falta incluirle los `id` de los `Directores` y `Actores` que estuvieron involucrados en cada pelicula, ya que esto es un factor a tomar en cuenta en los gustos de los usuarios, y por ende también es información valiosa para el modelo de recomendación, busque similitudes"
   ]
  },
  {
   "cell_type": "markdown",
   "metadata": {},
   "source": [
    "Añadiendo los `id` de `director` y `actores` asociados a cada película  en `movies`"
   ]
  },
  {
   "cell_type": "markdown",
   "metadata": {},
   "source": [
    "\n",
    "- Traeré a dataframes las tablas de `directores.parquet` y `actores.parquet` para rellenar los campos.\n",
    "- Le añadiré una columna de `director` y otra de `actores`"
   ]
  },
  {
   "cell_type": "markdown",
   "metadata": {},
   "source": [
    "**NOTA**: la celda de abajo lo que hace es descargar los archivos `actores.parquet` y `directores.parquet` "
   ]
  },
  {
   "cell_type": "code",
   "execution_count": 6,
   "metadata": {},
   "outputs": [
    {
     "name": "stderr",
     "output_type": "stream",
     "text": [
      "Downloading...\n",
      "From: https://drive.google.com/uc?export=download&id=1xHBWDozPK2u_ZzapEbZyUx1SSIlRDCDN\n",
      "To: d:\\BOOTCAMP-HENRY\\MODULO-07-LABS\\data\\actores.parquet\n",
      "100%|██████████| 4.02M/4.02M [00:03<00:00, 1.09MB/s]\n",
      "Downloading...\n",
      "From: https://drive.google.com/uc?export=download&id=1e5fmvkZfcIzqw-fPNZTgf5YNskI_Yh4J\n",
      "To: d:\\BOOTCAMP-HENRY\\MODULO-07-LABS\\data\\directores.parquet\n",
      "100%|██████████| 388k/388k [00:00<00:00, 3.85MB/s]\n"
     ]
    },
    {
     "data": {
      "text/plain": [
       "'data/directores.parquet'"
      ]
     },
     "execution_count": 6,
     "metadata": {},
     "output_type": "execute_result"
    }
   ],
   "source": [
    "url1 = 'https://drive.google.com/uc?export=download&id=1xHBWDozPK2u_ZzapEbZyUx1SSIlRDCDN'\n",
    "url2 = 'https://drive.google.com/uc?export=download&id=1e5fmvkZfcIzqw-fPNZTgf5YNskI_Yh4J'\n",
    "\n",
    "gdown.download(url1, 'data/actores.parquet', quiet=False)\n",
    "gdown.download(url2, 'data/directores.parquet', quiet=False)"
   ]
  },
  {
   "cell_type": "code",
   "execution_count": 7,
   "metadata": {},
   "outputs": [],
   "source": [
    "actores = pl.read_parquet('data/actores.parquet')\n",
    "directores = pl.read_parquet('data/directores.parquet')"
   ]
  },
  {
   "cell_type": "code",
   "execution_count": 44,
   "metadata": {},
   "outputs": [],
   "source": [
    "movies = movies.with_columns([\n",
    "    pl.lit(0).alias('director'),\n",
    "    pl.lit('[]').alias('actores')\n",
    "])"
   ]
  },
  {
   "cell_type": "code",
   "execution_count": 45,
   "metadata": {},
   "outputs": [],
   "source": [
    "\"\"\"\n",
    "en la tabla `actores` \n",
    "id_actor          --> columna 0\n",
    "movies            --> columna 2  --> esta es la lista de peliculas a las que esta asociado el actor\n",
    "\n",
    "en la tabla `directores` \n",
    "id_director       --> columna 0\n",
    "movies            --> columna 2  --> esta es la lista de peliculas a las que esta asociado el director\n",
    "\n",
    "\n",
    "en la tabla `movies`\n",
    "id                --> columna 3\n",
    "director          --> columna 24\n",
    "actores           --> columna 25\n",
    "\"\"\"\n",
    "# Añadiendo los id de Directores a las Peliculas\n",
    "for i in range(directores.shape[0]):\n",
    "    id_director = directores[i,0]\n",
    "    id_movies_list = directores[i,2].to_list()\n",
    "\n",
    "    # Asignando el id_director de esta Iteracion a las pelicula que corresponda\n",
    "    movies = movies.with_columns(\n",
    "        pl.when(pl.col('id').is_in(id_movies_list))\n",
    "          .then(pl.lit(id_director))\n",
    "          .otherwise(pl.col('director'))\n",
    "          .alias('director')\n",
    "    )"
   ]
  },
  {
   "cell_type": "markdown",
   "metadata": {},
   "source": [
    "### **LA EJECUCION DEL CODIGO DE ABAJO DURA MUCHO TENER PRECAUCION**"
   ]
  },
  {
   "cell_type": "code",
   "execution_count": 46,
   "metadata": {},
   "outputs": [],
   "source": [
    "# PRECAUCION CON ESTE BLOQUE DE CODIGO SON DEMASIADAS ITERACIONES\n",
    "# TOMAR EN CUENTA QUE SON MAS DE 200000 ACTORES Y 45000 PELICULAS Y EN CADA PELICULA HAY VARIOS ACTORES\n",
    "# AGARRA A TODOS LOS ACTORES Y LOS AÑADE A LA LISTA QUE HAY EN LA COLUMNA `actores`, \n",
    "# LA VENTAJA: CONSOLIDAR EN UN SOLO DATAFRAME TODA LAS POSIBLES VARIABLES IMPORTANTES PARA LA PREDICCION\n",
    "for i in range(actores.shape[0]):\n",
    "    id_actor = actores[i,0]\n",
    "    id_movies_list = actores[i,2].to_list()\n",
    "\n",
    "    for id_movie in id_movies_list:\n",
    "        for index in range(movies.shape[0]):\n",
    "            if movies[index,3] == id_movie:\n",
    "                # si es Tipo str uso eval de tener algo alli que a pesar de ser un campo de Un(1) reconoce\n",
    "                # como pl.series entonces que aplique el metodo .to_list()  --> Cosas de Python y Polars\n",
    "                actor_list = eval(movies[index,25]) if type(movies[index,25]) == str else movies[index,25].to_list()\n",
    "                actor_list.append(id_actor)\n",
    "                movies[index,25] = str(actor_list)\n",
    "                break  "
   ]
  },
  {
   "cell_type": "markdown",
   "metadata": {},
   "source": [
    "##### **Guardando la tabla `movies_modelar`** "
   ]
  },
  {
   "cell_type": "code",
   "execution_count": 141,
   "metadata": {},
   "outputs": [],
   "source": [
    "movies.write_parquet('data/movies_modelar.parquet')"
   ]
  }
 ],
 "metadata": {
  "kernelspec": {
   "display_name": "venv_labs",
   "language": "python",
   "name": "python3"
  },
  "language_info": {
   "codemirror_mode": {
    "name": "ipython",
    "version": 3
   },
   "file_extension": ".py",
   "mimetype": "text/x-python",
   "name": "python",
   "nbconvert_exporter": "python",
   "pygments_lexer": "ipython3",
   "version": "3.10.11"
  }
 },
 "nbformat": 4,
 "nbformat_minor": 2
}
